{
 "cells": [
  {
   "cell_type": "markdown",
   "metadata": {},
   "source": [
    "# Differential abundance"
   ]
  },
  {
   "cell_type": "markdown",
   "metadata": {},
   "source": [
    "Neither alpha or beta diversity analysis tells us which taxa are different in our treatment groups. For this, we use differential abundance (DA) analysis. DA methods compare the abundance of each taxa between our treatment groups to tell which are differentially abundant.\n",
    "\n",
    "There are many different tools for conducting DA analysis, and no gold standard. The problem is that there are many statistical challenges with analysing amplicon data, which the different tools try to solve in different ways:\n",
    "* Compositionality: The abundances of taxa are not indepedent of each other (see also the [Compositionality](https://microucph.github.io/amplicon_data_analysis/html/compositionality.html) notebook)\n",
    "* Zero-inflation: There are many zeroes; that is, most taxa are absent in most samples\n",
    "* Skewed distributions: Few taxa are abundant, and most taxa are rare\n",
    "* Counts: Abundances are represented by counts of reads, which changes the statistical assumptions\n",
    "* Multiple hypothesis problem: Conducting many statistical tests require corrections (See [Multiple correction](https://microucph.github.io/amplicon_data_analysis/html/multi.html) notebook)\n",
    "\n",
    "### Example dataset and DAtest package"
   ]
  },
  {
   "cell_type": "code",
   "execution_count": 1,
   "metadata": {},
   "outputs": [],
   "source": [
    "# Load phyloseq object and phyloseq package\n",
    "library(phyloseq)\n",
    "load(\"../data/physeq.RData\")"
   ]
  },
  {
   "cell_type": "markdown",
   "metadata": {},
   "source": [
    "Here we will use the DAtest package for DA analysis. The advantage with DAtest is that all the different methods require the same standardized input, also making it simple to conduct many analysis and compare them."
   ]
  },
  {
   "cell_type": "code",
   "execution_count": 2,
   "metadata": {},
   "outputs": [
    {
     "name": "stderr",
     "output_type": "stream",
     "text": [
      "DAtest version 2.8.0\n",
      "\n"
     ]
    }
   ],
   "source": [
    "library(DAtest)"
   ]
  },
  {
   "cell_type": "code",
   "execution_count": 3,
   "metadata": {},
   "outputs": [],
   "source": [
    "# Load MicEco for helper functions\n",
    "library(MicEco)"
   ]
  },
  {
   "cell_type": "markdown",
   "metadata": {},
   "source": [
    "## Data preparation and agglomoration<a class=\"anchor\" id=\"pre\"></a>"
   ]
  },
  {
   "cell_type": "markdown",
   "metadata": {},
   "source": [
    "#### Agglomoration\n",
    "First step before doing differential abundance analysis is to decide at which taxonomic/phylogenetic level you want to test your hypothesis. Do you want to be specific and do it at the ASV level, or is it more fitting with your hypothesis to test at a higher taxonomic level.\n",
    "\n",
    "Things to consider when choosing whether to agglomorate:\n",
    "* Agglomoration makes the tests less specific, and might hide large variations at the ASV level. For example, maybe one Staphylococcus ASV is highly abundant in the control, and another Staphylococcus is highly abundant in the treatment group. Agglomrating to the genus level will hide this variation.\n",
    "* Agglomoration combines the reads of the ASVs, and will therefore give better estimations of abundances\n",
    "* Agglomoration will give less statistical hypotheses to test and hence more power to detect differences, because of multiple hypothesis correction\n",
    "\n",
    "The choice depends entirely on the hypotheses of the study.\n",
    "\n",
    "#### Filtering\n",
    "Removing low abundant taxa (ASVs or another level, depending on agglomoration), is a useful and widely used preparation step before performing DA analysis. The reason is that many taxa in microbiome studies are rare, and often many are so rare that there is no way they would be statistically significant. An obvious example is an ASV only present in one sample. Depending on your sample size and experimental setup we would often want ASVs to be present in at least 5 samples (unless your treatment groups are less than this size). Another threshold to filter by is the abundance/reads; if an ASV only have few reads the estimation of its abundance will be poor. \n",
    "\n",
    "There are, unfortunately, no gold standard on how to set the thresholds when pruning low abundant ASVs. It is a trade-off between keeping rare ASVs which could be interesting to test, and removing ASVs to increase statistical power when testing the remaining ASVs. \n",
    "\n",
    "\n",
    "**In R:**\n",
    "\n",
    "We use the ps_prune function to filter, which is also presented in the [phyloseq operations notebook](https://microucph.github.io/amplicon_data_analysis/html/phyloseq_operations.html#prunetax)."
   ]
  },
  {
   "cell_type": "code",
   "execution_count": 4,
   "metadata": {},
   "outputs": [
    {
     "name": "stderr",
     "output_type": "stream",
     "text": [
      "204 features grouped as 'Others' in the output\n",
      "\n"
     ]
    }
   ],
   "source": [
    "# Agglomorate to Genus level\n",
    "phy_genus <- tax_glom(phy, \"Genus\")\n",
    "\n",
    "# Only keep genera present in at least 10 samples\n",
    "phy_genus_pre <- ps_prune(phy_genus, min.samples = 10)"
   ]
  },
  {
   "cell_type": "markdown",
   "metadata": {},
   "source": [
    "## Wilcoxon<a class=\"anchor\" id=\"wil\"></a>\n",
    "Wilcoxon Rank Sum test is used to test if the median of two statistical samples are different (See more in the [Statistics 101](https://microucph.github.io/amplicon_data_analysis/html/stats.html#wilcoxon) notebook). If we have a simple experimental design with for example a control and treatment group, we can conduct a Wilcoxon Rank Sum test for each taxa, comparing whether they are different in control versus treatment group.\n",
    "\n",
    "**In R:**"
   ]
  },
  {
   "cell_type": "code",
   "execution_count": 5,
   "metadata": {},
   "outputs": [],
   "source": [
    "res_wil <- DA.wil(phy_genus_pre, predictor = \"Delivery\")"
   ]
  },
  {
   "cell_type": "code",
   "execution_count": 6,
   "metadata": {},
   "outputs": [
    {
     "data": {
      "text/html": [
       "<table class=\"dataframe\">\n",
       "<caption>A data.frame: 6 × 13</caption>\n",
       "<thead>\n",
       "\t<tr><th></th><th scope=col>Feature</th><th scope=col>pval</th><th scope=col>pval.adj</th><th scope=col>log2FC</th><th scope=col>ordering</th><th scope=col>Method</th><th scope=col>Kingdom</th><th scope=col>Phylum</th><th scope=col>Class</th><th scope=col>Order</th><th scope=col>Family</th><th scope=col>Genus</th><th scope=col>Species</th></tr>\n",
       "\t<tr><th></th><th scope=col>&lt;chr&gt;</th><th scope=col>&lt;dbl&gt;</th><th scope=col>&lt;dbl&gt;</th><th scope=col>&lt;dbl&gt;</th><th scope=col>&lt;chr&gt;</th><th scope=col>&lt;chr&gt;</th><th scope=col>&lt;chr&gt;</th><th scope=col>&lt;chr&gt;</th><th scope=col>&lt;chr&gt;</th><th scope=col>&lt;chr&gt;</th><th scope=col>&lt;chr&gt;</th><th scope=col>&lt;chr&gt;</th><th scope=col>&lt;chr&gt;</th></tr>\n",
       "</thead>\n",
       "<tbody>\n",
       "\t<tr><th scope=row>1</th><td>02985759c1ee39be5cc8ca5d48054b1c</td><td>8.486175e-02</td><td>0.2880156514</td><td>-0.4378944</td><td>Sectio&gt;Vaginal</td><td>Wilcox (wil)</td><td>Bacteria</td><td><span style=white-space:pre-wrap>Bacteroidota    </span></td><td><span style=white-space:pre-wrap>Bacteroidia   </span></td><td><span style=white-space:pre-wrap>Bacteroidales  </span></td><td>Barnesiellaceae </td><td><span style=white-space:pre-wrap>Barnesiella  </span></td><td>NA</td></tr>\n",
       "\t<tr><th scope=row>2</th><td>03a722bba911de891254934069dc8959</td><td>1.548125e-01</td><td>0.3940681809</td><td> 0.4023601</td><td>Vaginal&gt;Sectio</td><td>Wilcox (wil)</td><td>Bacteria</td><td><span style=white-space:pre-wrap>Firmicutes_A    </span></td><td><span style=white-space:pre-wrap>Clostridia    </span></td><td><span style=white-space:pre-wrap>Clostridiales  </span></td><td><span style=white-space:pre-wrap>Clostridiaceae  </span></td><td><span style=white-space:pre-wrap>Clostridium  </span></td><td>NA</td></tr>\n",
       "\t<tr><th scope=row>3</th><td>04ac1aaec7096c309bacf3c0fb0d2311</td><td>9.722624e-01</td><td>0.9940574390</td><td>-0.1034501</td><td>Sectio&gt;Vaginal</td><td>Wilcox (wil)</td><td>Bacteria</td><td><span style=white-space:pre-wrap>Firmicutes_A    </span></td><td><span style=white-space:pre-wrap>Clostridia    </span></td><td>Lachnospirales </td><td>Lachnospiraceae </td><td>Clostridium_Q</td><td>NA</td></tr>\n",
       "\t<tr><th scope=row>4</th><td>08b21f8171b35ef001832ba1df9b8fbc</td><td>2.880426e-06</td><td>0.0001075359</td><td>-1.1695647</td><td>Sectio&gt;Vaginal</td><td>Wilcox (wil)</td><td>Bacteria</td><td><span style=white-space:pre-wrap>Firmicutes_C    </span></td><td>Negativicutes </td><td>Veillonellales </td><td>Veillonellaceae </td><td><span style=white-space:pre-wrap>Veillonella  </span></td><td>NA</td></tr>\n",
       "\t<tr><th scope=row>5</th><td>0978d7032689ab3eeef2fc60e4490e11</td><td>4.493579e-01</td><td>0.7258196586</td><td> 1.1092544</td><td>Vaginal&gt;Sectio</td><td>Wilcox (wil)</td><td>Bacteria</td><td><span style=white-space:pre-wrap>Firmicutes_A    </span></td><td><span style=white-space:pre-wrap>Clostridia    </span></td><td>Lachnospirales </td><td>Lachnospiraceae </td><td><span style=white-space:pre-wrap>Lachnospira  </span></td><td>NA</td></tr>\n",
       "\t<tr><th scope=row>6</th><td>09efd4982be79756a70f3b739241efda</td><td>2.200392e-01</td><td>0.4902661368</td><td>-1.1414941</td><td>Sectio&gt;Vaginal</td><td>Wilcox (wil)</td><td>Bacteria</td><td>Actinobacteriota</td><td>Actinobacteria</td><td>Actinomycetales</td><td>Dermabacteraceae</td><td><span style=white-space:pre-wrap>Dermabacter  </span></td><td>NA</td></tr>\n",
       "</tbody>\n",
       "</table>\n"
      ],
      "text/latex": [
       "A data.frame: 6 × 13\n",
       "\\begin{tabular}{r|lllllllllllll}\n",
       "  & Feature & pval & pval.adj & log2FC & ordering & Method & Kingdom & Phylum & Class & Order & Family & Genus & Species\\\\\n",
       "  & <chr> & <dbl> & <dbl> & <dbl> & <chr> & <chr> & <chr> & <chr> & <chr> & <chr> & <chr> & <chr> & <chr>\\\\\n",
       "\\hline\n",
       "\t1 & 02985759c1ee39be5cc8ca5d48054b1c & 8.486175e-02 & 0.2880156514 & -0.4378944 & Sectio>Vaginal & Wilcox (wil) & Bacteria & Bacteroidota     & Bacteroidia    & Bacteroidales   & Barnesiellaceae  & Barnesiella   & NA\\\\\n",
       "\t2 & 03a722bba911de891254934069dc8959 & 1.548125e-01 & 0.3940681809 &  0.4023601 & Vaginal>Sectio & Wilcox (wil) & Bacteria & Firmicutes\\_A     & Clostridia     & Clostridiales   & Clostridiaceae   & Clostridium   & NA\\\\\n",
       "\t3 & 04ac1aaec7096c309bacf3c0fb0d2311 & 9.722624e-01 & 0.9940574390 & -0.1034501 & Sectio>Vaginal & Wilcox (wil) & Bacteria & Firmicutes\\_A     & Clostridia     & Lachnospirales  & Lachnospiraceae  & Clostridium\\_Q & NA\\\\\n",
       "\t4 & 08b21f8171b35ef001832ba1df9b8fbc & 2.880426e-06 & 0.0001075359 & -1.1695647 & Sectio>Vaginal & Wilcox (wil) & Bacteria & Firmicutes\\_C     & Negativicutes  & Veillonellales  & Veillonellaceae  & Veillonella   & NA\\\\\n",
       "\t5 & 0978d7032689ab3eeef2fc60e4490e11 & 4.493579e-01 & 0.7258196586 &  1.1092544 & Vaginal>Sectio & Wilcox (wil) & Bacteria & Firmicutes\\_A     & Clostridia     & Lachnospirales  & Lachnospiraceae  & Lachnospira   & NA\\\\\n",
       "\t6 & 09efd4982be79756a70f3b739241efda & 2.200392e-01 & 0.4902661368 & -1.1414941 & Sectio>Vaginal & Wilcox (wil) & Bacteria & Actinobacteriota & Actinobacteria & Actinomycetales & Dermabacteraceae & Dermabacter   & NA\\\\\n",
       "\\end{tabular}\n"
      ],
      "text/markdown": [
       "\n",
       "A data.frame: 6 × 13\n",
       "\n",
       "| <!--/--> | Feature &lt;chr&gt; | pval &lt;dbl&gt; | pval.adj &lt;dbl&gt; | log2FC &lt;dbl&gt; | ordering &lt;chr&gt; | Method &lt;chr&gt; | Kingdom &lt;chr&gt; | Phylum &lt;chr&gt; | Class &lt;chr&gt; | Order &lt;chr&gt; | Family &lt;chr&gt; | Genus &lt;chr&gt; | Species &lt;chr&gt; |\n",
       "|---|---|---|---|---|---|---|---|---|---|---|---|---|---|\n",
       "| 1 | 02985759c1ee39be5cc8ca5d48054b1c | 8.486175e-02 | 0.2880156514 | -0.4378944 | Sectio&gt;Vaginal | Wilcox (wil) | Bacteria | Bacteroidota     | Bacteroidia    | Bacteroidales   | Barnesiellaceae  | Barnesiella   | NA |\n",
       "| 2 | 03a722bba911de891254934069dc8959 | 1.548125e-01 | 0.3940681809 |  0.4023601 | Vaginal&gt;Sectio | Wilcox (wil) | Bacteria | Firmicutes_A     | Clostridia     | Clostridiales   | Clostridiaceae   | Clostridium   | NA |\n",
       "| 3 | 04ac1aaec7096c309bacf3c0fb0d2311 | 9.722624e-01 | 0.9940574390 | -0.1034501 | Sectio&gt;Vaginal | Wilcox (wil) | Bacteria | Firmicutes_A     | Clostridia     | Lachnospirales  | Lachnospiraceae  | Clostridium_Q | NA |\n",
       "| 4 | 08b21f8171b35ef001832ba1df9b8fbc | 2.880426e-06 | 0.0001075359 | -1.1695647 | Sectio&gt;Vaginal | Wilcox (wil) | Bacteria | Firmicutes_C     | Negativicutes  | Veillonellales  | Veillonellaceae  | Veillonella   | NA |\n",
       "| 5 | 0978d7032689ab3eeef2fc60e4490e11 | 4.493579e-01 | 0.7258196586 |  1.1092544 | Vaginal&gt;Sectio | Wilcox (wil) | Bacteria | Firmicutes_A     | Clostridia     | Lachnospirales  | Lachnospiraceae  | Lachnospira   | NA |\n",
       "| 6 | 09efd4982be79756a70f3b739241efda | 2.200392e-01 | 0.4902661368 | -1.1414941 | Sectio&gt;Vaginal | Wilcox (wil) | Bacteria | Actinobacteriota | Actinobacteria | Actinomycetales | Dermabacteraceae | Dermabacter   | NA |\n",
       "\n"
      ],
      "text/plain": [
       "  Feature                          pval         pval.adj     log2FC    \n",
       "1 02985759c1ee39be5cc8ca5d48054b1c 8.486175e-02 0.2880156514 -0.4378944\n",
       "2 03a722bba911de891254934069dc8959 1.548125e-01 0.3940681809  0.4023601\n",
       "3 04ac1aaec7096c309bacf3c0fb0d2311 9.722624e-01 0.9940574390 -0.1034501\n",
       "4 08b21f8171b35ef001832ba1df9b8fbc 2.880426e-06 0.0001075359 -1.1695647\n",
       "5 0978d7032689ab3eeef2fc60e4490e11 4.493579e-01 0.7258196586  1.1092544\n",
       "6 09efd4982be79756a70f3b739241efda 2.200392e-01 0.4902661368 -1.1414941\n",
       "  ordering       Method       Kingdom  Phylum           Class         \n",
       "1 Sectio>Vaginal Wilcox (wil) Bacteria Bacteroidota     Bacteroidia   \n",
       "2 Vaginal>Sectio Wilcox (wil) Bacteria Firmicutes_A     Clostridia    \n",
       "3 Sectio>Vaginal Wilcox (wil) Bacteria Firmicutes_A     Clostridia    \n",
       "4 Sectio>Vaginal Wilcox (wil) Bacteria Firmicutes_C     Negativicutes \n",
       "5 Vaginal>Sectio Wilcox (wil) Bacteria Firmicutes_A     Clostridia    \n",
       "6 Sectio>Vaginal Wilcox (wil) Bacteria Actinobacteriota Actinobacteria\n",
       "  Order           Family           Genus         Species\n",
       "1 Bacteroidales   Barnesiellaceae  Barnesiella   NA     \n",
       "2 Clostridiales   Clostridiaceae   Clostridium   NA     \n",
       "3 Lachnospirales  Lachnospiraceae  Clostridium_Q NA     \n",
       "4 Veillonellales  Veillonellaceae  Veillonella   NA     \n",
       "5 Lachnospirales  Lachnospiraceae  Lachnospira   NA     \n",
       "6 Actinomycetales Dermabacteraceae Dermabacter   NA     "
      ]
     },
     "metadata": {},
     "output_type": "display_data"
    }
   ],
   "source": [
    "head(res_wil)"
   ]
  },
  {
   "cell_type": "markdown",
   "metadata": {},
   "source": [
    "Output explanation:\n",
    "* Each row is a test of one ASV\n",
    "* Feature: This is the ASV id\n",
    "* pval: The p-value\n",
    "* pval.adj: The adjusted p-value. This is the p-value to use!\n",
    "* log2FC: Log2 fold change. The log ratio of abundance between the two groups\n",
    "* ordering: In which group is it high abundant, and in which group low abundant\n",
    "* Method: Name of our method\n",
    "* The rest are taxonomy information of the ASV\n",
    "\n",
    "Usually we are only interested in those that are significantly abundant. So we can subset the data.frame with results:"
   ]
  },
  {
   "cell_type": "code",
   "execution_count": 7,
   "metadata": {},
   "outputs": [
    {
     "data": {
      "text/html": [
       "<table class=\"dataframe\">\n",
       "<caption>A data.frame: 12 × 13</caption>\n",
       "<thead>\n",
       "\t<tr><th></th><th scope=col>Feature</th><th scope=col>pval</th><th scope=col>pval.adj</th><th scope=col>log2FC</th><th scope=col>ordering</th><th scope=col>Method</th><th scope=col>Kingdom</th><th scope=col>Phylum</th><th scope=col>Class</th><th scope=col>Order</th><th scope=col>Family</th><th scope=col>Genus</th><th scope=col>Species</th></tr>\n",
       "\t<tr><th></th><th scope=col>&lt;chr&gt;</th><th scope=col>&lt;dbl&gt;</th><th scope=col>&lt;dbl&gt;</th><th scope=col>&lt;dbl&gt;</th><th scope=col>&lt;chr&gt;</th><th scope=col>&lt;chr&gt;</th><th scope=col>&lt;chr&gt;</th><th scope=col>&lt;chr&gt;</th><th scope=col>&lt;chr&gt;</th><th scope=col>&lt;chr&gt;</th><th scope=col>&lt;chr&gt;</th><th scope=col>&lt;chr&gt;</th><th scope=col>&lt;chr&gt;</th></tr>\n",
       "</thead>\n",
       "<tbody>\n",
       "\t<tr><th scope=row>4</th><td>08b21f8171b35ef001832ba1df9b8fbc</td><td>2.880426e-06</td><td>1.075359e-04</td><td>-1.1695647</td><td>Sectio&gt;Vaginal</td><td>Wilcox (wil)</td><td>Bacteria</td><td><span style=white-space:pre-wrap>Firmicutes_C  </span></td><td><span style=white-space:pre-wrap>Negativicutes      </span></td><td><span style=white-space:pre-wrap>Veillonellales    </span></td><td><span style=white-space:pre-wrap>Veillonellaceae          </span></td><td><span style=white-space:pre-wrap>Veillonella           </span></td><td>NA</td></tr>\n",
       "\t<tr><th scope=row>9</th><td>107063e8453bf94891c4d7a17b00af07</td><td>1.618262e-03</td><td>1.812453e-02</td><td> 2.1279914</td><td>Vaginal&gt;Sectio</td><td>Wilcox (wil)</td><td>Bacteria</td><td><span style=white-space:pre-wrap>Firmicutes_C  </span></td><td><span style=white-space:pre-wrap>Negativicutes      </span></td><td><span style=white-space:pre-wrap>Veillonellales    </span></td><td><span style=white-space:pre-wrap>Veillonellaceae          </span></td><td><span style=white-space:pre-wrap>Veillonella_A         </span></td><td>NA</td></tr>\n",
       "\t<tr><th scope=row>10</th><td>11d9c9ed1d2d58a9cb0bbcdc93aa3e55</td><td>1.087545e-06</td><td>6.090250e-05</td><td> 3.4407200</td><td>Vaginal&gt;Sectio</td><td>Wilcox (wil)</td><td>Bacteria</td><td><span style=white-space:pre-wrap>Firmicutes    </span></td><td><span style=white-space:pre-wrap>Bacilli            </span></td><td><span style=white-space:pre-wrap>Lactobacillales   </span></td><td><span style=white-space:pre-wrap>Lactobacillaceae         </span></td><td><span style=white-space:pre-wrap>Lactobacillus_H       </span></td><td>NA</td></tr>\n",
       "\t<tr><th scope=row>14</th><td>20cfe7f61d18f6525cc71caae0ab28dc</td><td>1.186511e-03</td><td>1.476547e-02</td><td> 0.9864273</td><td>Vaginal&gt;Sectio</td><td>Wilcox (wil)</td><td>Bacteria</td><td>Proteobacteria</td><td>Gammaproteobacteria</td><td><span style=white-space:pre-wrap>Enterobacterales  </span></td><td><span style=white-space:pre-wrap>Enterobacteriaceae       </span></td><td><span style=white-space:pre-wrap>Escherichia           </span></td><td>NA</td></tr>\n",
       "\t<tr><th scope=row>50</th><td>705da2e88a1aaa0c02b27eab4a642b72</td><td>3.714679e-04</td><td>7.637397e-03</td><td> 1.6567590</td><td>Vaginal&gt;Sectio</td><td>Wilcox (wil)</td><td>Bacteria</td><td>Proteobacteria</td><td>Gammaproteobacteria</td><td><span style=white-space:pre-wrap>Enterobacterales  </span></td><td><span style=white-space:pre-wrap>Enterobacteriaceae       </span></td><td><span style=white-space:pre-wrap>Morganella            </span></td><td>NA</td></tr>\n",
       "\t<tr><th scope=row>53</th><td>72bda5561e865a5539c4f19f992ee830</td><td>2.121554e-03</td><td>2.160128e-02</td><td>-1.0713722</td><td>Sectio&gt;Vaginal</td><td>Wilcox (wil)</td><td>Bacteria</td><td><span style=white-space:pre-wrap>Firmicutes_A  </span></td><td><span style=white-space:pre-wrap>Clostridia         </span></td><td><span style=white-space:pre-wrap>Lachnospirales    </span></td><td><span style=white-space:pre-wrap>Lachnospiraceae          </span></td><td><span style=white-space:pre-wrap>Ruminococcus_B        </span></td><td>NA</td></tr>\n",
       "\t<tr><th scope=row>64</th><td>87c2912f70537a375ec52d2e37479534</td><td>2.832326e-05</td><td>7.930512e-04</td><td> 2.5400747</td><td>Vaginal&gt;Sectio</td><td>Wilcox (wil)</td><td>Bacteria</td><td><span style=white-space:pre-wrap>Firmicutes    </span></td><td><span style=white-space:pre-wrap>Bacilli            </span></td><td>Erysipelotrichales</td><td>Erysipelatoclostridiaceae</td><td>Erysipelatoclostridium</td><td>NA</td></tr>\n",
       "\t<tr><th scope=row>65</th><td>8c3ff6c4c4b125d5e72f5276d57be4d0</td><td>5.992308e-04</td><td>9.587693e-03</td><td> 1.1677965</td><td>Vaginal&gt;Sectio</td><td>Wilcox (wil)</td><td>Bacteria</td><td><span style=white-space:pre-wrap>Firmicutes_A  </span></td><td><span style=white-space:pre-wrap>Clostridia         </span></td><td><span style=white-space:pre-wrap>Oscillospirales   </span></td><td><span style=white-space:pre-wrap>Ruminococcaceae          </span></td><td><span style=white-space:pre-wrap>Bittarella            </span></td><td>NA</td></tr>\n",
       "\t<tr><th scope=row>82</th><td>b6a1675fa3f43bec37b92541779954a1</td><td>5.187787e-03</td><td>4.841934e-02</td><td>-1.6748575</td><td>Sectio&gt;Vaginal</td><td>Wilcox (wil)</td><td>Bacteria</td><td><span style=white-space:pre-wrap>Firmicutes    </span></td><td><span style=white-space:pre-wrap>Bacilli            </span></td><td><span style=white-space:pre-wrap>Lactobacillales   </span></td><td><span style=white-space:pre-wrap>Enterococcaceae          </span></td><td>Family_Enterococcaceae</td><td>NA</td></tr>\n",
       "\t<tr><th scope=row>93</th><td>d20d3658de331c939f54d8acaed7c4c1</td><td>1.057463e-07</td><td>1.184359e-05</td><td> 1.0913261</td><td>Vaginal&gt;Sectio</td><td>Wilcox (wil)</td><td>Bacteria</td><td><span style=white-space:pre-wrap>Bacteroidota  </span></td><td><span style=white-space:pre-wrap>Bacteroidia        </span></td><td><span style=white-space:pre-wrap>Bacteroidales     </span></td><td><span style=white-space:pre-wrap>Bacteroidaceae           </span></td><td><span style=white-space:pre-wrap>Bacteroides           </span></td><td>NA</td></tr>\n",
       "\t<tr><th scope=row>95</th><td>dc85940d84ddbd7315db16b14390cb8d</td><td>4.091463e-04</td><td>7.637397e-03</td><td>-1.4262647</td><td>Sectio&gt;Vaginal</td><td>Wilcox (wil)</td><td>Bacteria</td><td><span style=white-space:pre-wrap>Firmicutes_A  </span></td><td><span style=white-space:pre-wrap>Clostridia         </span></td><td><span style=white-space:pre-wrap>Clostridiales     </span></td><td><span style=white-space:pre-wrap>Clostridiaceae           </span></td><td><span style=white-space:pre-wrap>Clostridium_P         </span></td><td>NA</td></tr>\n",
       "\t<tr><th scope=row>111</th><td><span style=white-space:pre-wrap>Others                          </span></td><td>1.118138e-03</td><td>1.476547e-02</td><td>-1.1671921</td><td>Sectio&gt;Vaginal</td><td>Wilcox (wil)</td><td><span style=white-space:pre-wrap>NA      </span></td><td><span style=white-space:pre-wrap>NA            </span></td><td><span style=white-space:pre-wrap>NA                 </span></td><td><span style=white-space:pre-wrap>NA                </span></td><td><span style=white-space:pre-wrap>NA                       </span></td><td><span style=white-space:pre-wrap>NA                    </span></td><td>NA</td></tr>\n",
       "</tbody>\n",
       "</table>\n"
      ],
      "text/latex": [
       "A data.frame: 12 × 13\n",
       "\\begin{tabular}{r|lllllllllllll}\n",
       "  & Feature & pval & pval.adj & log2FC & ordering & Method & Kingdom & Phylum & Class & Order & Family & Genus & Species\\\\\n",
       "  & <chr> & <dbl> & <dbl> & <dbl> & <chr> & <chr> & <chr> & <chr> & <chr> & <chr> & <chr> & <chr> & <chr>\\\\\n",
       "\\hline\n",
       "\t4 & 08b21f8171b35ef001832ba1df9b8fbc & 2.880426e-06 & 1.075359e-04 & -1.1695647 & Sectio>Vaginal & Wilcox (wil) & Bacteria & Firmicutes\\_C   & Negativicutes       & Veillonellales     & Veillonellaceae           & Veillonella            & NA\\\\\n",
       "\t9 & 107063e8453bf94891c4d7a17b00af07 & 1.618262e-03 & 1.812453e-02 &  2.1279914 & Vaginal>Sectio & Wilcox (wil) & Bacteria & Firmicutes\\_C   & Negativicutes       & Veillonellales     & Veillonellaceae           & Veillonella\\_A          & NA\\\\\n",
       "\t10 & 11d9c9ed1d2d58a9cb0bbcdc93aa3e55 & 1.087545e-06 & 6.090250e-05 &  3.4407200 & Vaginal>Sectio & Wilcox (wil) & Bacteria & Firmicutes     & Bacilli             & Lactobacillales    & Lactobacillaceae          & Lactobacillus\\_H        & NA\\\\\n",
       "\t14 & 20cfe7f61d18f6525cc71caae0ab28dc & 1.186511e-03 & 1.476547e-02 &  0.9864273 & Vaginal>Sectio & Wilcox (wil) & Bacteria & Proteobacteria & Gammaproteobacteria & Enterobacterales   & Enterobacteriaceae        & Escherichia            & NA\\\\\n",
       "\t50 & 705da2e88a1aaa0c02b27eab4a642b72 & 3.714679e-04 & 7.637397e-03 &  1.6567590 & Vaginal>Sectio & Wilcox (wil) & Bacteria & Proteobacteria & Gammaproteobacteria & Enterobacterales   & Enterobacteriaceae        & Morganella             & NA\\\\\n",
       "\t53 & 72bda5561e865a5539c4f19f992ee830 & 2.121554e-03 & 2.160128e-02 & -1.0713722 & Sectio>Vaginal & Wilcox (wil) & Bacteria & Firmicutes\\_A   & Clostridia          & Lachnospirales     & Lachnospiraceae           & Ruminococcus\\_B         & NA\\\\\n",
       "\t64 & 87c2912f70537a375ec52d2e37479534 & 2.832326e-05 & 7.930512e-04 &  2.5400747 & Vaginal>Sectio & Wilcox (wil) & Bacteria & Firmicutes     & Bacilli             & Erysipelotrichales & Erysipelatoclostridiaceae & Erysipelatoclostridium & NA\\\\\n",
       "\t65 & 8c3ff6c4c4b125d5e72f5276d57be4d0 & 5.992308e-04 & 9.587693e-03 &  1.1677965 & Vaginal>Sectio & Wilcox (wil) & Bacteria & Firmicutes\\_A   & Clostridia          & Oscillospirales    & Ruminococcaceae           & Bittarella             & NA\\\\\n",
       "\t82 & b6a1675fa3f43bec37b92541779954a1 & 5.187787e-03 & 4.841934e-02 & -1.6748575 & Sectio>Vaginal & Wilcox (wil) & Bacteria & Firmicutes     & Bacilli             & Lactobacillales    & Enterococcaceae           & Family\\_Enterococcaceae & NA\\\\\n",
       "\t93 & d20d3658de331c939f54d8acaed7c4c1 & 1.057463e-07 & 1.184359e-05 &  1.0913261 & Vaginal>Sectio & Wilcox (wil) & Bacteria & Bacteroidota   & Bacteroidia         & Bacteroidales      & Bacteroidaceae            & Bacteroides            & NA\\\\\n",
       "\t95 & dc85940d84ddbd7315db16b14390cb8d & 4.091463e-04 & 7.637397e-03 & -1.4262647 & Sectio>Vaginal & Wilcox (wil) & Bacteria & Firmicutes\\_A   & Clostridia          & Clostridiales      & Clostridiaceae            & Clostridium\\_P          & NA\\\\\n",
       "\t111 & Others                           & 1.118138e-03 & 1.476547e-02 & -1.1671921 & Sectio>Vaginal & Wilcox (wil) & NA       & NA             & NA                  & NA                 & NA                        & NA                     & NA\\\\\n",
       "\\end{tabular}\n"
      ],
      "text/markdown": [
       "\n",
       "A data.frame: 12 × 13\n",
       "\n",
       "| <!--/--> | Feature &lt;chr&gt; | pval &lt;dbl&gt; | pval.adj &lt;dbl&gt; | log2FC &lt;dbl&gt; | ordering &lt;chr&gt; | Method &lt;chr&gt; | Kingdom &lt;chr&gt; | Phylum &lt;chr&gt; | Class &lt;chr&gt; | Order &lt;chr&gt; | Family &lt;chr&gt; | Genus &lt;chr&gt; | Species &lt;chr&gt; |\n",
       "|---|---|---|---|---|---|---|---|---|---|---|---|---|---|\n",
       "| 4 | 08b21f8171b35ef001832ba1df9b8fbc | 2.880426e-06 | 1.075359e-04 | -1.1695647 | Sectio&gt;Vaginal | Wilcox (wil) | Bacteria | Firmicutes_C   | Negativicutes       | Veillonellales     | Veillonellaceae           | Veillonella            | NA |\n",
       "| 9 | 107063e8453bf94891c4d7a17b00af07 | 1.618262e-03 | 1.812453e-02 |  2.1279914 | Vaginal&gt;Sectio | Wilcox (wil) | Bacteria | Firmicutes_C   | Negativicutes       | Veillonellales     | Veillonellaceae           | Veillonella_A          | NA |\n",
       "| 10 | 11d9c9ed1d2d58a9cb0bbcdc93aa3e55 | 1.087545e-06 | 6.090250e-05 |  3.4407200 | Vaginal&gt;Sectio | Wilcox (wil) | Bacteria | Firmicutes     | Bacilli             | Lactobacillales    | Lactobacillaceae          | Lactobacillus_H        | NA |\n",
       "| 14 | 20cfe7f61d18f6525cc71caae0ab28dc | 1.186511e-03 | 1.476547e-02 |  0.9864273 | Vaginal&gt;Sectio | Wilcox (wil) | Bacteria | Proteobacteria | Gammaproteobacteria | Enterobacterales   | Enterobacteriaceae        | Escherichia            | NA |\n",
       "| 50 | 705da2e88a1aaa0c02b27eab4a642b72 | 3.714679e-04 | 7.637397e-03 |  1.6567590 | Vaginal&gt;Sectio | Wilcox (wil) | Bacteria | Proteobacteria | Gammaproteobacteria | Enterobacterales   | Enterobacteriaceae        | Morganella             | NA |\n",
       "| 53 | 72bda5561e865a5539c4f19f992ee830 | 2.121554e-03 | 2.160128e-02 | -1.0713722 | Sectio&gt;Vaginal | Wilcox (wil) | Bacteria | Firmicutes_A   | Clostridia          | Lachnospirales     | Lachnospiraceae           | Ruminococcus_B         | NA |\n",
       "| 64 | 87c2912f70537a375ec52d2e37479534 | 2.832326e-05 | 7.930512e-04 |  2.5400747 | Vaginal&gt;Sectio | Wilcox (wil) | Bacteria | Firmicutes     | Bacilli             | Erysipelotrichales | Erysipelatoclostridiaceae | Erysipelatoclostridium | NA |\n",
       "| 65 | 8c3ff6c4c4b125d5e72f5276d57be4d0 | 5.992308e-04 | 9.587693e-03 |  1.1677965 | Vaginal&gt;Sectio | Wilcox (wil) | Bacteria | Firmicutes_A   | Clostridia          | Oscillospirales    | Ruminococcaceae           | Bittarella             | NA |\n",
       "| 82 | b6a1675fa3f43bec37b92541779954a1 | 5.187787e-03 | 4.841934e-02 | -1.6748575 | Sectio&gt;Vaginal | Wilcox (wil) | Bacteria | Firmicutes     | Bacilli             | Lactobacillales    | Enterococcaceae           | Family_Enterococcaceae | NA |\n",
       "| 93 | d20d3658de331c939f54d8acaed7c4c1 | 1.057463e-07 | 1.184359e-05 |  1.0913261 | Vaginal&gt;Sectio | Wilcox (wil) | Bacteria | Bacteroidota   | Bacteroidia         | Bacteroidales      | Bacteroidaceae            | Bacteroides            | NA |\n",
       "| 95 | dc85940d84ddbd7315db16b14390cb8d | 4.091463e-04 | 7.637397e-03 | -1.4262647 | Sectio&gt;Vaginal | Wilcox (wil) | Bacteria | Firmicutes_A   | Clostridia          | Clostridiales      | Clostridiaceae            | Clostridium_P          | NA |\n",
       "| 111 | Others                           | 1.118138e-03 | 1.476547e-02 | -1.1671921 | Sectio&gt;Vaginal | Wilcox (wil) | NA       | NA             | NA                  | NA                 | NA                        | NA                     | NA |\n",
       "\n"
      ],
      "text/plain": [
       "    Feature                          pval         pval.adj     log2FC    \n",
       "4   08b21f8171b35ef001832ba1df9b8fbc 2.880426e-06 1.075359e-04 -1.1695647\n",
       "9   107063e8453bf94891c4d7a17b00af07 1.618262e-03 1.812453e-02  2.1279914\n",
       "10  11d9c9ed1d2d58a9cb0bbcdc93aa3e55 1.087545e-06 6.090250e-05  3.4407200\n",
       "14  20cfe7f61d18f6525cc71caae0ab28dc 1.186511e-03 1.476547e-02  0.9864273\n",
       "50  705da2e88a1aaa0c02b27eab4a642b72 3.714679e-04 7.637397e-03  1.6567590\n",
       "53  72bda5561e865a5539c4f19f992ee830 2.121554e-03 2.160128e-02 -1.0713722\n",
       "64  87c2912f70537a375ec52d2e37479534 2.832326e-05 7.930512e-04  2.5400747\n",
       "65  8c3ff6c4c4b125d5e72f5276d57be4d0 5.992308e-04 9.587693e-03  1.1677965\n",
       "82  b6a1675fa3f43bec37b92541779954a1 5.187787e-03 4.841934e-02 -1.6748575\n",
       "93  d20d3658de331c939f54d8acaed7c4c1 1.057463e-07 1.184359e-05  1.0913261\n",
       "95  dc85940d84ddbd7315db16b14390cb8d 4.091463e-04 7.637397e-03 -1.4262647\n",
       "111 Others                           1.118138e-03 1.476547e-02 -1.1671921\n",
       "    ordering       Method       Kingdom  Phylum         Class              \n",
       "4   Sectio>Vaginal Wilcox (wil) Bacteria Firmicutes_C   Negativicutes      \n",
       "9   Vaginal>Sectio Wilcox (wil) Bacteria Firmicutes_C   Negativicutes      \n",
       "10  Vaginal>Sectio Wilcox (wil) Bacteria Firmicutes     Bacilli            \n",
       "14  Vaginal>Sectio Wilcox (wil) Bacteria Proteobacteria Gammaproteobacteria\n",
       "50  Vaginal>Sectio Wilcox (wil) Bacteria Proteobacteria Gammaproteobacteria\n",
       "53  Sectio>Vaginal Wilcox (wil) Bacteria Firmicutes_A   Clostridia         \n",
       "64  Vaginal>Sectio Wilcox (wil) Bacteria Firmicutes     Bacilli            \n",
       "65  Vaginal>Sectio Wilcox (wil) Bacteria Firmicutes_A   Clostridia         \n",
       "82  Sectio>Vaginal Wilcox (wil) Bacteria Firmicutes     Bacilli            \n",
       "93  Vaginal>Sectio Wilcox (wil) Bacteria Bacteroidota   Bacteroidia        \n",
       "95  Sectio>Vaginal Wilcox (wil) Bacteria Firmicutes_A   Clostridia         \n",
       "111 Sectio>Vaginal Wilcox (wil) NA       NA             NA                 \n",
       "    Order              Family                    Genus                  Species\n",
       "4   Veillonellales     Veillonellaceae           Veillonella            NA     \n",
       "9   Veillonellales     Veillonellaceae           Veillonella_A          NA     \n",
       "10  Lactobacillales    Lactobacillaceae          Lactobacillus_H        NA     \n",
       "14  Enterobacterales   Enterobacteriaceae        Escherichia            NA     \n",
       "50  Enterobacterales   Enterobacteriaceae        Morganella             NA     \n",
       "53  Lachnospirales     Lachnospiraceae           Ruminococcus_B         NA     \n",
       "64  Erysipelotrichales Erysipelatoclostridiaceae Erysipelatoclostridium NA     \n",
       "65  Oscillospirales    Ruminococcaceae           Bittarella             NA     \n",
       "82  Lactobacillales    Enterococcaceae           Family_Enterococcaceae NA     \n",
       "93  Bacteroidales      Bacteroidaceae            Bacteroides            NA     \n",
       "95  Clostridiales      Clostridiaceae            Clostridium_P          NA     \n",
       "111 NA                 NA                        NA                     NA     "
      ]
     },
     "metadata": {},
     "output_type": "display_data"
    }
   ],
   "source": [
    "res_wil[res_wil$pval.adj <= 0.05, ]"
   ]
  },
  {
   "cell_type": "markdown",
   "metadata": {},
   "source": [
    "11 significantly abundant genera!\n",
    "\n",
    "We can also order it, and see which have the highest fold change:"
   ]
  },
  {
   "cell_type": "code",
   "execution_count": 8,
   "metadata": {},
   "outputs": [],
   "source": [
    "res_wil_ordered <- res_wil[rev(order(abs(res_wil$log2FC))), ]"
   ]
  },
  {
   "cell_type": "code",
   "execution_count": 9,
   "metadata": {},
   "outputs": [
    {
     "data": {
      "text/html": [
       "<table class=\"dataframe\">\n",
       "<caption>A data.frame: 6 × 13</caption>\n",
       "<thead>\n",
       "\t<tr><th></th><th scope=col>Feature</th><th scope=col>pval</th><th scope=col>pval.adj</th><th scope=col>log2FC</th><th scope=col>ordering</th><th scope=col>Method</th><th scope=col>Kingdom</th><th scope=col>Phylum</th><th scope=col>Class</th><th scope=col>Order</th><th scope=col>Family</th><th scope=col>Genus</th><th scope=col>Species</th></tr>\n",
       "\t<tr><th></th><th scope=col>&lt;chr&gt;</th><th scope=col>&lt;dbl&gt;</th><th scope=col>&lt;dbl&gt;</th><th scope=col>&lt;dbl&gt;</th><th scope=col>&lt;chr&gt;</th><th scope=col>&lt;chr&gt;</th><th scope=col>&lt;chr&gt;</th><th scope=col>&lt;chr&gt;</th><th scope=col>&lt;chr&gt;</th><th scope=col>&lt;chr&gt;</th><th scope=col>&lt;chr&gt;</th><th scope=col>&lt;chr&gt;</th><th scope=col>&lt;chr&gt;</th></tr>\n",
       "</thead>\n",
       "<tbody>\n",
       "\t<tr><th scope=row>10</th><td>11d9c9ed1d2d58a9cb0bbcdc93aa3e55</td><td>1.087545e-06</td><td>0.0000609025</td><td> 3.440720</td><td>Vaginal&gt;Sectio</td><td>Wilcox (wil)</td><td>Bacteria</td><td><span style=white-space:pre-wrap>Firmicutes      </span></td><td><span style=white-space:pre-wrap>Bacilli       </span></td><td><span style=white-space:pre-wrap>Lactobacillales   </span></td><td><span style=white-space:pre-wrap>Lactobacillaceae         </span></td><td><span style=white-space:pre-wrap>Lactobacillus_H       </span></td><td>NA</td></tr>\n",
       "\t<tr><th scope=row>24</th><td>333fc718c6bccdbf0fd4e4f84d0dd38e</td><td>2.254789e-01</td><td>0.4902661368</td><td>-3.289467</td><td>Sectio&gt;Vaginal</td><td>Wilcox (wil)</td><td>Bacteria</td><td><span style=white-space:pre-wrap>Bacteroidota    </span></td><td><span style=white-space:pre-wrap>Bacteroidia   </span></td><td><span style=white-space:pre-wrap>Bacteroidales     </span></td><td><span style=white-space:pre-wrap>Bacteroidaceae           </span></td><td><span style=white-space:pre-wrap>Prevotella            </span></td><td>NA</td></tr>\n",
       "\t<tr><th scope=row>89</th><td>ca5152dd2313e7fe7d25872f10c57f6d</td><td>9.802693e-03</td><td>0.0713851898</td><td> 3.213467</td><td>Vaginal&gt;Sectio</td><td>Wilcox (wil)</td><td>Bacteria</td><td><span style=white-space:pre-wrap>Firmicutes      </span></td><td><span style=white-space:pre-wrap>Bacilli       </span></td><td><span style=white-space:pre-wrap>Lactobacillales   </span></td><td><span style=white-space:pre-wrap>Lactobacillaceae         </span></td><td><span style=white-space:pre-wrap>Lactobacillus_B       </span></td><td>NA</td></tr>\n",
       "\t<tr><th scope=row>64</th><td>87c2912f70537a375ec52d2e37479534</td><td>2.832326e-05</td><td>0.0007930512</td><td> 2.540075</td><td>Vaginal&gt;Sectio</td><td>Wilcox (wil)</td><td>Bacteria</td><td><span style=white-space:pre-wrap>Firmicutes      </span></td><td><span style=white-space:pre-wrap>Bacilli       </span></td><td>Erysipelotrichales</td><td>Erysipelatoclostridiaceae</td><td>Erysipelatoclostridium</td><td>NA</td></tr>\n",
       "\t<tr><th scope=row>27</th><td>3aac5ec59c4f41b64a70357d5b971d46</td><td>1.083525e-02</td><td>0.0713851898</td><td> 2.180310</td><td>Vaginal&gt;Sectio</td><td>Wilcox (wil)</td><td>Bacteria</td><td>Actinobacteriota</td><td>Coriobacteriia</td><td><span style=white-space:pre-wrap>Coriobacteriales  </span></td><td><span style=white-space:pre-wrap>Coriobacteriaceae        </span></td><td><span style=white-space:pre-wrap>Collinsella           </span></td><td>NA</td></tr>\n",
       "\t<tr><th scope=row>9</th><td>107063e8453bf94891c4d7a17b00af07</td><td>1.618262e-03</td><td>0.0181245295</td><td> 2.127991</td><td>Vaginal&gt;Sectio</td><td>Wilcox (wil)</td><td>Bacteria</td><td><span style=white-space:pre-wrap>Firmicutes_C    </span></td><td>Negativicutes </td><td><span style=white-space:pre-wrap>Veillonellales    </span></td><td><span style=white-space:pre-wrap>Veillonellaceae          </span></td><td><span style=white-space:pre-wrap>Veillonella_A         </span></td><td>NA</td></tr>\n",
       "</tbody>\n",
       "</table>\n"
      ],
      "text/latex": [
       "A data.frame: 6 × 13\n",
       "\\begin{tabular}{r|lllllllllllll}\n",
       "  & Feature & pval & pval.adj & log2FC & ordering & Method & Kingdom & Phylum & Class & Order & Family & Genus & Species\\\\\n",
       "  & <chr> & <dbl> & <dbl> & <dbl> & <chr> & <chr> & <chr> & <chr> & <chr> & <chr> & <chr> & <chr> & <chr>\\\\\n",
       "\\hline\n",
       "\t10 & 11d9c9ed1d2d58a9cb0bbcdc93aa3e55 & 1.087545e-06 & 0.0000609025 &  3.440720 & Vaginal>Sectio & Wilcox (wil) & Bacteria & Firmicutes       & Bacilli        & Lactobacillales    & Lactobacillaceae          & Lactobacillus\\_H        & NA\\\\\n",
       "\t24 & 333fc718c6bccdbf0fd4e4f84d0dd38e & 2.254789e-01 & 0.4902661368 & -3.289467 & Sectio>Vaginal & Wilcox (wil) & Bacteria & Bacteroidota     & Bacteroidia    & Bacteroidales      & Bacteroidaceae            & Prevotella             & NA\\\\\n",
       "\t89 & ca5152dd2313e7fe7d25872f10c57f6d & 9.802693e-03 & 0.0713851898 &  3.213467 & Vaginal>Sectio & Wilcox (wil) & Bacteria & Firmicutes       & Bacilli        & Lactobacillales    & Lactobacillaceae          & Lactobacillus\\_B        & NA\\\\\n",
       "\t64 & 87c2912f70537a375ec52d2e37479534 & 2.832326e-05 & 0.0007930512 &  2.540075 & Vaginal>Sectio & Wilcox (wil) & Bacteria & Firmicutes       & Bacilli        & Erysipelotrichales & Erysipelatoclostridiaceae & Erysipelatoclostridium & NA\\\\\n",
       "\t27 & 3aac5ec59c4f41b64a70357d5b971d46 & 1.083525e-02 & 0.0713851898 &  2.180310 & Vaginal>Sectio & Wilcox (wil) & Bacteria & Actinobacteriota & Coriobacteriia & Coriobacteriales   & Coriobacteriaceae         & Collinsella            & NA\\\\\n",
       "\t9 & 107063e8453bf94891c4d7a17b00af07 & 1.618262e-03 & 0.0181245295 &  2.127991 & Vaginal>Sectio & Wilcox (wil) & Bacteria & Firmicutes\\_C     & Negativicutes  & Veillonellales     & Veillonellaceae           & Veillonella\\_A          & NA\\\\\n",
       "\\end{tabular}\n"
      ],
      "text/markdown": [
       "\n",
       "A data.frame: 6 × 13\n",
       "\n",
       "| <!--/--> | Feature &lt;chr&gt; | pval &lt;dbl&gt; | pval.adj &lt;dbl&gt; | log2FC &lt;dbl&gt; | ordering &lt;chr&gt; | Method &lt;chr&gt; | Kingdom &lt;chr&gt; | Phylum &lt;chr&gt; | Class &lt;chr&gt; | Order &lt;chr&gt; | Family &lt;chr&gt; | Genus &lt;chr&gt; | Species &lt;chr&gt; |\n",
       "|---|---|---|---|---|---|---|---|---|---|---|---|---|---|\n",
       "| 10 | 11d9c9ed1d2d58a9cb0bbcdc93aa3e55 | 1.087545e-06 | 0.0000609025 |  3.440720 | Vaginal&gt;Sectio | Wilcox (wil) | Bacteria | Firmicutes       | Bacilli        | Lactobacillales    | Lactobacillaceae          | Lactobacillus_H        | NA |\n",
       "| 24 | 333fc718c6bccdbf0fd4e4f84d0dd38e | 2.254789e-01 | 0.4902661368 | -3.289467 | Sectio&gt;Vaginal | Wilcox (wil) | Bacteria | Bacteroidota     | Bacteroidia    | Bacteroidales      | Bacteroidaceae            | Prevotella             | NA |\n",
       "| 89 | ca5152dd2313e7fe7d25872f10c57f6d | 9.802693e-03 | 0.0713851898 |  3.213467 | Vaginal&gt;Sectio | Wilcox (wil) | Bacteria | Firmicutes       | Bacilli        | Lactobacillales    | Lactobacillaceae          | Lactobacillus_B        | NA |\n",
       "| 64 | 87c2912f70537a375ec52d2e37479534 | 2.832326e-05 | 0.0007930512 |  2.540075 | Vaginal&gt;Sectio | Wilcox (wil) | Bacteria | Firmicutes       | Bacilli        | Erysipelotrichales | Erysipelatoclostridiaceae | Erysipelatoclostridium | NA |\n",
       "| 27 | 3aac5ec59c4f41b64a70357d5b971d46 | 1.083525e-02 | 0.0713851898 |  2.180310 | Vaginal&gt;Sectio | Wilcox (wil) | Bacteria | Actinobacteriota | Coriobacteriia | Coriobacteriales   | Coriobacteriaceae         | Collinsella            | NA |\n",
       "| 9 | 107063e8453bf94891c4d7a17b00af07 | 1.618262e-03 | 0.0181245295 |  2.127991 | Vaginal&gt;Sectio | Wilcox (wil) | Bacteria | Firmicutes_C     | Negativicutes  | Veillonellales     | Veillonellaceae           | Veillonella_A          | NA |\n",
       "\n"
      ],
      "text/plain": [
       "   Feature                          pval         pval.adj     log2FC   \n",
       "10 11d9c9ed1d2d58a9cb0bbcdc93aa3e55 1.087545e-06 0.0000609025  3.440720\n",
       "24 333fc718c6bccdbf0fd4e4f84d0dd38e 2.254789e-01 0.4902661368 -3.289467\n",
       "89 ca5152dd2313e7fe7d25872f10c57f6d 9.802693e-03 0.0713851898  3.213467\n",
       "64 87c2912f70537a375ec52d2e37479534 2.832326e-05 0.0007930512  2.540075\n",
       "27 3aac5ec59c4f41b64a70357d5b971d46 1.083525e-02 0.0713851898  2.180310\n",
       "9  107063e8453bf94891c4d7a17b00af07 1.618262e-03 0.0181245295  2.127991\n",
       "   ordering       Method       Kingdom  Phylum           Class         \n",
       "10 Vaginal>Sectio Wilcox (wil) Bacteria Firmicutes       Bacilli       \n",
       "24 Sectio>Vaginal Wilcox (wil) Bacteria Bacteroidota     Bacteroidia   \n",
       "89 Vaginal>Sectio Wilcox (wil) Bacteria Firmicutes       Bacilli       \n",
       "64 Vaginal>Sectio Wilcox (wil) Bacteria Firmicutes       Bacilli       \n",
       "27 Vaginal>Sectio Wilcox (wil) Bacteria Actinobacteriota Coriobacteriia\n",
       "9  Vaginal>Sectio Wilcox (wil) Bacteria Firmicutes_C     Negativicutes \n",
       "   Order              Family                    Genus                  Species\n",
       "10 Lactobacillales    Lactobacillaceae          Lactobacillus_H        NA     \n",
       "24 Bacteroidales      Bacteroidaceae            Prevotella             NA     \n",
       "89 Lactobacillales    Lactobacillaceae          Lactobacillus_B        NA     \n",
       "64 Erysipelotrichales Erysipelatoclostridiaceae Erysipelatoclostridium NA     \n",
       "27 Coriobacteriales   Coriobacteriaceae         Collinsella            NA     \n",
       "9  Veillonellales     Veillonellaceae           Veillonella_A          NA     "
      ]
     },
     "metadata": {},
     "output_type": "display_data"
    }
   ],
   "source": [
    "head(res_wil_ordered)"
   ]
  },
  {
   "cell_type": "markdown",
   "metadata": {},
   "source": [
    "## MetagenomeSeq Featuretest<a class=\"anchor\" id=\"msf\"></a>\n",
    "MetagenomeSeq Featuretest was developed for microbiome data, and is usually the most powerful for finding differentially abundant taxa.\n",
    "\n",
    "Let's run MetagenomeSeq to test the effect of Delivery:"
   ]
  },
  {
   "cell_type": "code",
   "execution_count": 10,
   "metadata": {},
   "outputs": [
    {
     "name": "stderr",
     "output_type": "stream",
     "text": [
      "Registered S3 method overwritten by 'gplots':\n",
      "  method    from  \n",
      "  plot.venn eulerr\n",
      "\n",
      "Default value being used.\n",
      "\n"
     ]
    }
   ],
   "source": [
    "res_msf <- DA.msf(phy_genus_pre, predictor = \"Delivery\")"
   ]
  },
  {
   "cell_type": "code",
   "execution_count": 12,
   "metadata": {},
   "outputs": [
    {
     "data": {
      "text/html": [
       "<table class=\"dataframe\">\n",
       "<caption>A data.frame: 17 × 19</caption>\n",
       "<thead>\n",
       "\t<tr><th></th><th scope=col>Feature</th><th scope=col>+samples in group 0</th><th scope=col>+samples in group 1</th><th scope=col>counts in group 0</th><th scope=col>counts in group 1</th><th scope=col>logFC</th><th scope=col>se</th><th scope=col>pval</th><th scope=col>adjPvalues</th><th scope=col>pval.adj</th><th scope=col>ordering</th><th scope=col>Method</th><th scope=col>Kingdom</th><th scope=col>Phylum</th><th scope=col>Class</th><th scope=col>Order</th><th scope=col>Family</th><th scope=col>Genus</th><th scope=col>Species</th></tr>\n",
       "\t<tr><th></th><th scope=col>&lt;chr&gt;</th><th scope=col>&lt;dbl&gt;</th><th scope=col>&lt;dbl&gt;</th><th scope=col>&lt;dbl&gt;</th><th scope=col>&lt;dbl&gt;</th><th scope=col>&lt;dbl&gt;</th><th scope=col>&lt;dbl&gt;</th><th scope=col>&lt;dbl&gt;</th><th scope=col>&lt;dbl&gt;</th><th scope=col>&lt;dbl&gt;</th><th scope=col>&lt;chr&gt;</th><th scope=col>&lt;chr&gt;</th><th scope=col>&lt;chr&gt;</th><th scope=col>&lt;chr&gt;</th><th scope=col>&lt;chr&gt;</th><th scope=col>&lt;chr&gt;</th><th scope=col>&lt;chr&gt;</th><th scope=col>&lt;chr&gt;</th><th scope=col>&lt;chr&gt;</th></tr>\n",
       "</thead>\n",
       "<tbody>\n",
       "\t<tr><th scope=row>4</th><td>08b21f8171b35ef001832ba1df9b8fbc</td><td>69</td><td>56</td><td>232864</td><td> 81668</td><td>-1.4441416</td><td>0.3083843</td><td>2.828047e-06</td><td>1.583706e-04</td><td>1.583706e-04</td><td>Sectio&gt;Vaginal</td><td>MgSeq Feature (msf)</td><td>Bacteria</td><td><span style=white-space:pre-wrap>Firmicutes_C  </span></td><td><span style=white-space:pre-wrap>Negativicutes      </span></td><td><span style=white-space:pre-wrap>Veillonellales    </span></td><td><span style=white-space:pre-wrap>Veillonellaceae          </span></td><td><span style=white-space:pre-wrap>Veillonella           </span></td><td>NA</td></tr>\n",
       "\t<tr><th scope=row>9</th><td>107063e8453bf94891c4d7a17b00af07</td><td> 4</td><td>17</td><td><span style=white-space:pre-wrap>   319</span></td><td><span style=white-space:pre-wrap>  9511</span></td><td> 2.8937922</td><td>0.9705050</td><td>2.866166e-03</td><td>2.140070e-02</td><td>2.140070e-02</td><td>Vaginal&gt;Sectio</td><td>MgSeq Feature (msf)</td><td>Bacteria</td><td><span style=white-space:pre-wrap>Firmicutes_C  </span></td><td><span style=white-space:pre-wrap>Negativicutes      </span></td><td><span style=white-space:pre-wrap>Veillonellales    </span></td><td><span style=white-space:pre-wrap>Veillonellaceae          </span></td><td><span style=white-space:pre-wrap>Veillonella_A         </span></td><td>NA</td></tr>\n",
       "\t<tr><th scope=row>10</th><td>11d9c9ed1d2d58a9cb0bbcdc93aa3e55</td><td> 3</td><td>26</td><td><span style=white-space:pre-wrap>    41</span></td><td> 27727</td><td> 4.7344448</td><td>1.2675331</td><td>1.875924e-04</td><td>3.082105e-03</td><td>3.082105e-03</td><td>Vaginal&gt;Sectio</td><td>MgSeq Feature (msf)</td><td>Bacteria</td><td><span style=white-space:pre-wrap>Firmicutes    </span></td><td><span style=white-space:pre-wrap>Bacilli            </span></td><td><span style=white-space:pre-wrap>Lactobacillales   </span></td><td><span style=white-space:pre-wrap>Lactobacillaceae         </span></td><td><span style=white-space:pre-wrap>Lactobacillus_H       </span></td><td>NA</td></tr>\n",
       "\t<tr><th scope=row>24</th><td>333fc718c6bccdbf0fd4e4f84d0dd38e</td><td>34</td><td>35</td><td>143352</td><td> 11880</td><td>-2.6786034</td><td>0.6048946</td><td>9.501622e-06</td><td>3.547272e-04</td><td>3.547272e-04</td><td>Sectio&gt;Vaginal</td><td>MgSeq Feature (msf)</td><td>Bacteria</td><td><span style=white-space:pre-wrap>Bacteroidota  </span></td><td><span style=white-space:pre-wrap>Bacteroidia        </span></td><td><span style=white-space:pre-wrap>Bacteroidales     </span></td><td><span style=white-space:pre-wrap>Bacteroidaceae           </span></td><td><span style=white-space:pre-wrap>Prevotella            </span></td><td>NA</td></tr>\n",
       "\t<tr><th scope=row>29</th><td>44d9fc4de8898b6c82c69654435a9f0b</td><td>32</td><td>25</td><td> 26682</td><td><span style=white-space:pre-wrap>  6755</span></td><td>-1.8019516</td><td>0.5644906</td><td>1.412069e-03</td><td>1.757241e-02</td><td>1.757241e-02</td><td>Sectio&gt;Vaginal</td><td>MgSeq Feature (msf)</td><td>Bacteria</td><td><span style=white-space:pre-wrap>Firmicutes    </span></td><td><span style=white-space:pre-wrap>Bacilli            </span></td><td><span style=white-space:pre-wrap>Lactobacillales   </span></td><td><span style=white-space:pre-wrap>Lactobacillaceae         </span></td><td><span style=white-space:pre-wrap>Lactobacillus         </span></td><td>NA</td></tr>\n",
       "\t<tr><th scope=row>30</th><td>45c4f6f269ec95ff0c8dd594104519e9</td><td>27</td><td>17</td><td>159140</td><td> 40544</td><td>-1.7996174</td><td>0.5901451</td><td>2.292617e-03</td><td>2.139776e-02</td><td>2.139776e-02</td><td>Sectio&gt;Vaginal</td><td>MgSeq Feature (msf)</td><td>Bacteria</td><td>Proteobacteria</td><td>Gammaproteobacteria</td><td><span style=white-space:pre-wrap>Enterobacterales  </span></td><td><span style=white-space:pre-wrap>Enterobacteriaceae       </span></td><td><span style=white-space:pre-wrap>Citrobacter           </span></td><td>NA</td></tr>\n",
       "\t<tr><th scope=row>48</th><td>6dbcf153b0182c45e43924e6a0814551</td><td> 9</td><td> 2</td><td><span style=white-space:pre-wrap>   378</span></td><td><span style=white-space:pre-wrap>     9</span></td><td>-3.8580086</td><td>1.3623484</td><td>4.627506e-03</td><td>3.092891e-02</td><td>3.092891e-02</td><td>Sectio&gt;Vaginal</td><td>MgSeq Feature (msf)</td><td>Bacteria</td><td><span style=white-space:pre-wrap>Firmicutes_A  </span></td><td><span style=white-space:pre-wrap>Clostridia         </span></td><td><span style=white-space:pre-wrap>TANB77            </span></td><td><span style=white-space:pre-wrap>CAG-508                  </span></td><td><span style=white-space:pre-wrap>CAG-354               </span></td><td>NA</td></tr>\n",
       "\t<tr><th scope=row>50</th><td>705da2e88a1aaa0c02b27eab4a642b72</td><td> 1</td><td>14</td><td><span style=white-space:pre-wrap>    14</span></td><td><span style=white-space:pre-wrap>  7183</span></td><td> 0.9738801</td><td>0.2600936</td><td>1.808657e-04</td><td>3.082105e-03</td><td>3.082105e-03</td><td>Vaginal&gt;Sectio</td><td>MgSeq Feature (msf)</td><td>Bacteria</td><td>Proteobacteria</td><td>Gammaproteobacteria</td><td><span style=white-space:pre-wrap>Enterobacterales  </span></td><td><span style=white-space:pre-wrap>Enterobacteriaceae       </span></td><td><span style=white-space:pre-wrap>Morganella            </span></td><td>NA</td></tr>\n",
       "\t<tr><th scope=row>53</th><td>72bda5561e865a5539c4f19f992ee830</td><td>54</td><td>38</td><td>117888</td><td> 49799</td><td>-1.2485314</td><td>0.4173685</td><td>2.776685e-03</td><td>2.140070e-02</td><td>2.140070e-02</td><td>Sectio&gt;Vaginal</td><td>MgSeq Feature (msf)</td><td>Bacteria</td><td><span style=white-space:pre-wrap>Firmicutes_A  </span></td><td><span style=white-space:pre-wrap>Clostridia         </span></td><td><span style=white-space:pre-wrap>Lachnospirales    </span></td><td><span style=white-space:pre-wrap>Lachnospiraceae          </span></td><td><span style=white-space:pre-wrap>Ruminococcus_B        </span></td><td>NA</td></tr>\n",
       "\t<tr><th scope=row>64</th><td>87c2912f70537a375ec52d2e37479534</td><td>11</td><td>33</td><td><span style=white-space:pre-wrap>  1086</span></td><td> 33112</td><td> 2.4404307</td><td>0.7799554</td><td>1.754404e-03</td><td>1.882993e-02</td><td>1.882993e-02</td><td>Vaginal&gt;Sectio</td><td>MgSeq Feature (msf)</td><td>Bacteria</td><td><span style=white-space:pre-wrap>Firmicutes    </span></td><td><span style=white-space:pre-wrap>Bacilli            </span></td><td>Erysipelotrichales</td><td>Erysipelatoclostridiaceae</td><td>Erysipelatoclostridium</td><td>NA</td></tr>\n",
       "\t<tr><th scope=row>68</th><td>95b523dacb244bb891da4c48923d8788</td><td> 8</td><td> 6</td><td><span style=white-space:pre-wrap>   614</span></td><td><span style=white-space:pre-wrap>    42</span></td><td>-3.1603252</td><td>1.0470860</td><td>2.542727e-03</td><td>2.140070e-02</td><td>2.140070e-02</td><td>Sectio&gt;Vaginal</td><td>MgSeq Feature (msf)</td><td>Bacteria</td><td><span style=white-space:pre-wrap>Firmicutes_A  </span></td><td><span style=white-space:pre-wrap>Clostridia         </span></td><td><span style=white-space:pre-wrap>Tissierellales    </span></td><td><span style=white-space:pre-wrap>Peptoniphilaceae         </span></td><td><span style=white-space:pre-wrap>Peptoniphilus_A       </span></td><td>NA</td></tr>\n",
       "\t<tr><th scope=row>75</th><td>a3f2abd64e462dc86f8242a90d98ee66</td><td> 9</td><td> 1</td><td><span style=white-space:pre-wrap>  2353</span></td><td><span style=white-space:pre-wrap>    38</span></td><td>-0.5650041</td><td>0.1814742</td><td>1.849368e-03</td><td>1.882993e-02</td><td>1.882993e-02</td><td>Sectio&gt;Vaginal</td><td>MgSeq Feature (msf)</td><td>Bacteria</td><td><span style=white-space:pre-wrap>Firmicutes_A  </span></td><td><span style=white-space:pre-wrap>Clostridia         </span></td><td><span style=white-space:pre-wrap>Oscillospirales   </span></td><td><span style=white-space:pre-wrap>DTU089                   </span></td><td><span style=white-space:pre-wrap>Eubacterium_R         </span></td><td>NA</td></tr>\n",
       "\t<tr><th scope=row>76</th><td>a4ac1cd75e12a7e924dd49b96366a5df</td><td> 7</td><td>13</td><td><span style=white-space:pre-wrap>  1078</span></td><td> 11544</td><td> 2.7656828</td><td>0.8578603</td><td>1.264437e-03</td><td>1.757241e-02</td><td>1.757241e-02</td><td>Vaginal&gt;Sectio</td><td>MgSeq Feature (msf)</td><td>Bacteria</td><td><span style=white-space:pre-wrap>Bacteroidota  </span></td><td><span style=white-space:pre-wrap>Bacteroidia        </span></td><td><span style=white-space:pre-wrap>Bacteroidales     </span></td><td><span style=white-space:pre-wrap>Bacteroidaceae           </span></td><td><span style=white-space:pre-wrap>Bacteroides_A         </span></td><td>NA</td></tr>\n",
       "\t<tr><th scope=row>90</th><td>ccc3cce7144df93b827dc9a9fd18dfaf</td><td>23</td><td>11</td><td> 18890</td><td><span style=white-space:pre-wrap>  1173</span></td><td>-2.2676607</td><td>0.6081984</td><td>1.926316e-04</td><td>3.082105e-03</td><td>3.082105e-03</td><td>Sectio&gt;Vaginal</td><td>MgSeq Feature (msf)</td><td>Bacteria</td><td><span style=white-space:pre-wrap>Firmicutes    </span></td><td><span style=white-space:pre-wrap>Bacilli            </span></td><td><span style=white-space:pre-wrap>Lactobacillales   </span></td><td><span style=white-space:pre-wrap>Lactobacillaceae         </span></td><td><span style=white-space:pre-wrap>Lactobacillus_C       </span></td><td>NA</td></tr>\n",
       "\t<tr><th scope=row>93</th><td>d20d3658de331c939f54d8acaed7c4c1</td><td>64</td><td>73</td><td>317989</td><td>773805</td><td> 1.8639949</td><td>0.3166625</td><td>3.947523e-09</td><td>4.421225e-07</td><td>4.421225e-07</td><td>Vaginal&gt;Sectio</td><td>MgSeq Feature (msf)</td><td>Bacteria</td><td><span style=white-space:pre-wrap>Bacteroidota  </span></td><td><span style=white-space:pre-wrap>Bacteroidia        </span></td><td><span style=white-space:pre-wrap>Bacteroidales     </span></td><td><span style=white-space:pre-wrap>Bacteroidaceae           </span></td><td><span style=white-space:pre-wrap>Bacteroides           </span></td><td>NA</td></tr>\n",
       "\t<tr><th scope=row>103</th><td>efe2ef829cdc0a2cf36f8c27f96678d7</td><td>14</td><td>11</td><td><span style=white-space:pre-wrap>  3493</span></td><td><span style=white-space:pre-wrap>    68</span></td><td>-2.3365792</td><td>0.8264415</td><td>4.694566e-03</td><td>3.092891e-02</td><td>3.092891e-02</td><td>Sectio&gt;Vaginal</td><td>MgSeq Feature (msf)</td><td>Bacteria</td><td><span style=white-space:pre-wrap>Firmicutes_A  </span></td><td><span style=white-space:pre-wrap>Clostridia         </span></td><td><span style=white-space:pre-wrap>Tissierellales    </span></td><td><span style=white-space:pre-wrap>Helcococcaceae           </span></td><td><span style=white-space:pre-wrap>Anaerococcus          </span></td><td>NA</td></tr>\n",
       "\t<tr><th scope=row>111</th><td><span style=white-space:pre-wrap>Others                          </span></td><td>73</td><td>70</td><td> 19298</td><td> 11601</td><td>-1.0546427</td><td>0.2418611</td><td>1.297471e-05</td><td>3.632920e-04</td><td>3.632920e-04</td><td>Sectio&gt;Vaginal</td><td>MgSeq Feature (msf)</td><td><span style=white-space:pre-wrap>NA      </span></td><td><span style=white-space:pre-wrap>NA            </span></td><td><span style=white-space:pre-wrap>NA                 </span></td><td><span style=white-space:pre-wrap>NA                </span></td><td><span style=white-space:pre-wrap>NA                       </span></td><td><span style=white-space:pre-wrap>NA                    </span></td><td>NA</td></tr>\n",
       "</tbody>\n",
       "</table>\n"
      ],
      "text/latex": [
       "A data.frame: 17 × 19\n",
       "\\begin{tabular}{r|lllllllllllllllllll}\n",
       "  & Feature & +samples in group 0 & +samples in group 1 & counts in group 0 & counts in group 1 & logFC & se & pval & adjPvalues & pval.adj & ordering & Method & Kingdom & Phylum & Class & Order & Family & Genus & Species\\\\\n",
       "  & <chr> & <dbl> & <dbl> & <dbl> & <dbl> & <dbl> & <dbl> & <dbl> & <dbl> & <dbl> & <chr> & <chr> & <chr> & <chr> & <chr> & <chr> & <chr> & <chr> & <chr>\\\\\n",
       "\\hline\n",
       "\t4 & 08b21f8171b35ef001832ba1df9b8fbc & 69 & 56 & 232864 &  81668 & -1.4441416 & 0.3083843 & 2.828047e-06 & 1.583706e-04 & 1.583706e-04 & Sectio>Vaginal & MgSeq Feature (msf) & Bacteria & Firmicutes\\_C   & Negativicutes       & Veillonellales     & Veillonellaceae           & Veillonella            & NA\\\\\n",
       "\t9 & 107063e8453bf94891c4d7a17b00af07 &  4 & 17 &    319 &   9511 &  2.8937922 & 0.9705050 & 2.866166e-03 & 2.140070e-02 & 2.140070e-02 & Vaginal>Sectio & MgSeq Feature (msf) & Bacteria & Firmicutes\\_C   & Negativicutes       & Veillonellales     & Veillonellaceae           & Veillonella\\_A          & NA\\\\\n",
       "\t10 & 11d9c9ed1d2d58a9cb0bbcdc93aa3e55 &  3 & 26 &     41 &  27727 &  4.7344448 & 1.2675331 & 1.875924e-04 & 3.082105e-03 & 3.082105e-03 & Vaginal>Sectio & MgSeq Feature (msf) & Bacteria & Firmicutes     & Bacilli             & Lactobacillales    & Lactobacillaceae          & Lactobacillus\\_H        & NA\\\\\n",
       "\t24 & 333fc718c6bccdbf0fd4e4f84d0dd38e & 34 & 35 & 143352 &  11880 & -2.6786034 & 0.6048946 & 9.501622e-06 & 3.547272e-04 & 3.547272e-04 & Sectio>Vaginal & MgSeq Feature (msf) & Bacteria & Bacteroidota   & Bacteroidia         & Bacteroidales      & Bacteroidaceae            & Prevotella             & NA\\\\\n",
       "\t29 & 44d9fc4de8898b6c82c69654435a9f0b & 32 & 25 &  26682 &   6755 & -1.8019516 & 0.5644906 & 1.412069e-03 & 1.757241e-02 & 1.757241e-02 & Sectio>Vaginal & MgSeq Feature (msf) & Bacteria & Firmicutes     & Bacilli             & Lactobacillales    & Lactobacillaceae          & Lactobacillus          & NA\\\\\n",
       "\t30 & 45c4f6f269ec95ff0c8dd594104519e9 & 27 & 17 & 159140 &  40544 & -1.7996174 & 0.5901451 & 2.292617e-03 & 2.139776e-02 & 2.139776e-02 & Sectio>Vaginal & MgSeq Feature (msf) & Bacteria & Proteobacteria & Gammaproteobacteria & Enterobacterales   & Enterobacteriaceae        & Citrobacter            & NA\\\\\n",
       "\t48 & 6dbcf153b0182c45e43924e6a0814551 &  9 &  2 &    378 &      9 & -3.8580086 & 1.3623484 & 4.627506e-03 & 3.092891e-02 & 3.092891e-02 & Sectio>Vaginal & MgSeq Feature (msf) & Bacteria & Firmicutes\\_A   & Clostridia          & TANB77             & CAG-508                   & CAG-354                & NA\\\\\n",
       "\t50 & 705da2e88a1aaa0c02b27eab4a642b72 &  1 & 14 &     14 &   7183 &  0.9738801 & 0.2600936 & 1.808657e-04 & 3.082105e-03 & 3.082105e-03 & Vaginal>Sectio & MgSeq Feature (msf) & Bacteria & Proteobacteria & Gammaproteobacteria & Enterobacterales   & Enterobacteriaceae        & Morganella             & NA\\\\\n",
       "\t53 & 72bda5561e865a5539c4f19f992ee830 & 54 & 38 & 117888 &  49799 & -1.2485314 & 0.4173685 & 2.776685e-03 & 2.140070e-02 & 2.140070e-02 & Sectio>Vaginal & MgSeq Feature (msf) & Bacteria & Firmicutes\\_A   & Clostridia          & Lachnospirales     & Lachnospiraceae           & Ruminococcus\\_B         & NA\\\\\n",
       "\t64 & 87c2912f70537a375ec52d2e37479534 & 11 & 33 &   1086 &  33112 &  2.4404307 & 0.7799554 & 1.754404e-03 & 1.882993e-02 & 1.882993e-02 & Vaginal>Sectio & MgSeq Feature (msf) & Bacteria & Firmicutes     & Bacilli             & Erysipelotrichales & Erysipelatoclostridiaceae & Erysipelatoclostridium & NA\\\\\n",
       "\t68 & 95b523dacb244bb891da4c48923d8788 &  8 &  6 &    614 &     42 & -3.1603252 & 1.0470860 & 2.542727e-03 & 2.140070e-02 & 2.140070e-02 & Sectio>Vaginal & MgSeq Feature (msf) & Bacteria & Firmicutes\\_A   & Clostridia          & Tissierellales     & Peptoniphilaceae          & Peptoniphilus\\_A        & NA\\\\\n",
       "\t75 & a3f2abd64e462dc86f8242a90d98ee66 &  9 &  1 &   2353 &     38 & -0.5650041 & 0.1814742 & 1.849368e-03 & 1.882993e-02 & 1.882993e-02 & Sectio>Vaginal & MgSeq Feature (msf) & Bacteria & Firmicutes\\_A   & Clostridia          & Oscillospirales    & DTU089                    & Eubacterium\\_R          & NA\\\\\n",
       "\t76 & a4ac1cd75e12a7e924dd49b96366a5df &  7 & 13 &   1078 &  11544 &  2.7656828 & 0.8578603 & 1.264437e-03 & 1.757241e-02 & 1.757241e-02 & Vaginal>Sectio & MgSeq Feature (msf) & Bacteria & Bacteroidota   & Bacteroidia         & Bacteroidales      & Bacteroidaceae            & Bacteroides\\_A          & NA\\\\\n",
       "\t90 & ccc3cce7144df93b827dc9a9fd18dfaf & 23 & 11 &  18890 &   1173 & -2.2676607 & 0.6081984 & 1.926316e-04 & 3.082105e-03 & 3.082105e-03 & Sectio>Vaginal & MgSeq Feature (msf) & Bacteria & Firmicutes     & Bacilli             & Lactobacillales    & Lactobacillaceae          & Lactobacillus\\_C        & NA\\\\\n",
       "\t93 & d20d3658de331c939f54d8acaed7c4c1 & 64 & 73 & 317989 & 773805 &  1.8639949 & 0.3166625 & 3.947523e-09 & 4.421225e-07 & 4.421225e-07 & Vaginal>Sectio & MgSeq Feature (msf) & Bacteria & Bacteroidota   & Bacteroidia         & Bacteroidales      & Bacteroidaceae            & Bacteroides            & NA\\\\\n",
       "\t103 & efe2ef829cdc0a2cf36f8c27f96678d7 & 14 & 11 &   3493 &     68 & -2.3365792 & 0.8264415 & 4.694566e-03 & 3.092891e-02 & 3.092891e-02 & Sectio>Vaginal & MgSeq Feature (msf) & Bacteria & Firmicutes\\_A   & Clostridia          & Tissierellales     & Helcococcaceae            & Anaerococcus           & NA\\\\\n",
       "\t111 & Others                           & 73 & 70 &  19298 &  11601 & -1.0546427 & 0.2418611 & 1.297471e-05 & 3.632920e-04 & 3.632920e-04 & Sectio>Vaginal & MgSeq Feature (msf) & NA       & NA             & NA                  & NA                 & NA                        & NA                     & NA\\\\\n",
       "\\end{tabular}\n"
      ],
      "text/markdown": [
       "\n",
       "A data.frame: 17 × 19\n",
       "\n",
       "| <!--/--> | Feature &lt;chr&gt; | +samples in group 0 &lt;dbl&gt; | +samples in group 1 &lt;dbl&gt; | counts in group 0 &lt;dbl&gt; | counts in group 1 &lt;dbl&gt; | logFC &lt;dbl&gt; | se &lt;dbl&gt; | pval &lt;dbl&gt; | adjPvalues &lt;dbl&gt; | pval.adj &lt;dbl&gt; | ordering &lt;chr&gt; | Method &lt;chr&gt; | Kingdom &lt;chr&gt; | Phylum &lt;chr&gt; | Class &lt;chr&gt; | Order &lt;chr&gt; | Family &lt;chr&gt; | Genus &lt;chr&gt; | Species &lt;chr&gt; |\n",
       "|---|---|---|---|---|---|---|---|---|---|---|---|---|---|---|---|---|---|---|---|\n",
       "| 4 | 08b21f8171b35ef001832ba1df9b8fbc | 69 | 56 | 232864 |  81668 | -1.4441416 | 0.3083843 | 2.828047e-06 | 1.583706e-04 | 1.583706e-04 | Sectio&gt;Vaginal | MgSeq Feature (msf) | Bacteria | Firmicutes_C   | Negativicutes       | Veillonellales     | Veillonellaceae           | Veillonella            | NA |\n",
       "| 9 | 107063e8453bf94891c4d7a17b00af07 |  4 | 17 |    319 |   9511 |  2.8937922 | 0.9705050 | 2.866166e-03 | 2.140070e-02 | 2.140070e-02 | Vaginal&gt;Sectio | MgSeq Feature (msf) | Bacteria | Firmicutes_C   | Negativicutes       | Veillonellales     | Veillonellaceae           | Veillonella_A          | NA |\n",
       "| 10 | 11d9c9ed1d2d58a9cb0bbcdc93aa3e55 |  3 | 26 |     41 |  27727 |  4.7344448 | 1.2675331 | 1.875924e-04 | 3.082105e-03 | 3.082105e-03 | Vaginal&gt;Sectio | MgSeq Feature (msf) | Bacteria | Firmicutes     | Bacilli             | Lactobacillales    | Lactobacillaceae          | Lactobacillus_H        | NA |\n",
       "| 24 | 333fc718c6bccdbf0fd4e4f84d0dd38e | 34 | 35 | 143352 |  11880 | -2.6786034 | 0.6048946 | 9.501622e-06 | 3.547272e-04 | 3.547272e-04 | Sectio&gt;Vaginal | MgSeq Feature (msf) | Bacteria | Bacteroidota   | Bacteroidia         | Bacteroidales      | Bacteroidaceae            | Prevotella             | NA |\n",
       "| 29 | 44d9fc4de8898b6c82c69654435a9f0b | 32 | 25 |  26682 |   6755 | -1.8019516 | 0.5644906 | 1.412069e-03 | 1.757241e-02 | 1.757241e-02 | Sectio&gt;Vaginal | MgSeq Feature (msf) | Bacteria | Firmicutes     | Bacilli             | Lactobacillales    | Lactobacillaceae          | Lactobacillus          | NA |\n",
       "| 30 | 45c4f6f269ec95ff0c8dd594104519e9 | 27 | 17 | 159140 |  40544 | -1.7996174 | 0.5901451 | 2.292617e-03 | 2.139776e-02 | 2.139776e-02 | Sectio&gt;Vaginal | MgSeq Feature (msf) | Bacteria | Proteobacteria | Gammaproteobacteria | Enterobacterales   | Enterobacteriaceae        | Citrobacter            | NA |\n",
       "| 48 | 6dbcf153b0182c45e43924e6a0814551 |  9 |  2 |    378 |      9 | -3.8580086 | 1.3623484 | 4.627506e-03 | 3.092891e-02 | 3.092891e-02 | Sectio&gt;Vaginal | MgSeq Feature (msf) | Bacteria | Firmicutes_A   | Clostridia          | TANB77             | CAG-508                   | CAG-354                | NA |\n",
       "| 50 | 705da2e88a1aaa0c02b27eab4a642b72 |  1 | 14 |     14 |   7183 |  0.9738801 | 0.2600936 | 1.808657e-04 | 3.082105e-03 | 3.082105e-03 | Vaginal&gt;Sectio | MgSeq Feature (msf) | Bacteria | Proteobacteria | Gammaproteobacteria | Enterobacterales   | Enterobacteriaceae        | Morganella             | NA |\n",
       "| 53 | 72bda5561e865a5539c4f19f992ee830 | 54 | 38 | 117888 |  49799 | -1.2485314 | 0.4173685 | 2.776685e-03 | 2.140070e-02 | 2.140070e-02 | Sectio&gt;Vaginal | MgSeq Feature (msf) | Bacteria | Firmicutes_A   | Clostridia          | Lachnospirales     | Lachnospiraceae           | Ruminococcus_B         | NA |\n",
       "| 64 | 87c2912f70537a375ec52d2e37479534 | 11 | 33 |   1086 |  33112 |  2.4404307 | 0.7799554 | 1.754404e-03 | 1.882993e-02 | 1.882993e-02 | Vaginal&gt;Sectio | MgSeq Feature (msf) | Bacteria | Firmicutes     | Bacilli             | Erysipelotrichales | Erysipelatoclostridiaceae | Erysipelatoclostridium | NA |\n",
       "| 68 | 95b523dacb244bb891da4c48923d8788 |  8 |  6 |    614 |     42 | -3.1603252 | 1.0470860 | 2.542727e-03 | 2.140070e-02 | 2.140070e-02 | Sectio&gt;Vaginal | MgSeq Feature (msf) | Bacteria | Firmicutes_A   | Clostridia          | Tissierellales     | Peptoniphilaceae          | Peptoniphilus_A        | NA |\n",
       "| 75 | a3f2abd64e462dc86f8242a90d98ee66 |  9 |  1 |   2353 |     38 | -0.5650041 | 0.1814742 | 1.849368e-03 | 1.882993e-02 | 1.882993e-02 | Sectio&gt;Vaginal | MgSeq Feature (msf) | Bacteria | Firmicutes_A   | Clostridia          | Oscillospirales    | DTU089                    | Eubacterium_R          | NA |\n",
       "| 76 | a4ac1cd75e12a7e924dd49b96366a5df |  7 | 13 |   1078 |  11544 |  2.7656828 | 0.8578603 | 1.264437e-03 | 1.757241e-02 | 1.757241e-02 | Vaginal&gt;Sectio | MgSeq Feature (msf) | Bacteria | Bacteroidota   | Bacteroidia         | Bacteroidales      | Bacteroidaceae            | Bacteroides_A          | NA |\n",
       "| 90 | ccc3cce7144df93b827dc9a9fd18dfaf | 23 | 11 |  18890 |   1173 | -2.2676607 | 0.6081984 | 1.926316e-04 | 3.082105e-03 | 3.082105e-03 | Sectio&gt;Vaginal | MgSeq Feature (msf) | Bacteria | Firmicutes     | Bacilli             | Lactobacillales    | Lactobacillaceae          | Lactobacillus_C        | NA |\n",
       "| 93 | d20d3658de331c939f54d8acaed7c4c1 | 64 | 73 | 317989 | 773805 |  1.8639949 | 0.3166625 | 3.947523e-09 | 4.421225e-07 | 4.421225e-07 | Vaginal&gt;Sectio | MgSeq Feature (msf) | Bacteria | Bacteroidota   | Bacteroidia         | Bacteroidales      | Bacteroidaceae            | Bacteroides            | NA |\n",
       "| 103 | efe2ef829cdc0a2cf36f8c27f96678d7 | 14 | 11 |   3493 |     68 | -2.3365792 | 0.8264415 | 4.694566e-03 | 3.092891e-02 | 3.092891e-02 | Sectio&gt;Vaginal | MgSeq Feature (msf) | Bacteria | Firmicutes_A   | Clostridia          | Tissierellales     | Helcococcaceae            | Anaerococcus           | NA |\n",
       "| 111 | Others                           | 73 | 70 |  19298 |  11601 | -1.0546427 | 0.2418611 | 1.297471e-05 | 3.632920e-04 | 3.632920e-04 | Sectio&gt;Vaginal | MgSeq Feature (msf) | NA       | NA             | NA                  | NA                 | NA                        | NA                     | NA |\n",
       "\n"
      ],
      "text/plain": [
       "    Feature                          +samples in group 0 +samples in group 1\n",
       "4   08b21f8171b35ef001832ba1df9b8fbc 69                  56                 \n",
       "9   107063e8453bf94891c4d7a17b00af07  4                  17                 \n",
       "10  11d9c9ed1d2d58a9cb0bbcdc93aa3e55  3                  26                 \n",
       "24  333fc718c6bccdbf0fd4e4f84d0dd38e 34                  35                 \n",
       "29  44d9fc4de8898b6c82c69654435a9f0b 32                  25                 \n",
       "30  45c4f6f269ec95ff0c8dd594104519e9 27                  17                 \n",
       "48  6dbcf153b0182c45e43924e6a0814551  9                   2                 \n",
       "50  705da2e88a1aaa0c02b27eab4a642b72  1                  14                 \n",
       "53  72bda5561e865a5539c4f19f992ee830 54                  38                 \n",
       "64  87c2912f70537a375ec52d2e37479534 11                  33                 \n",
       "68  95b523dacb244bb891da4c48923d8788  8                   6                 \n",
       "75  a3f2abd64e462dc86f8242a90d98ee66  9                   1                 \n",
       "76  a4ac1cd75e12a7e924dd49b96366a5df  7                  13                 \n",
       "90  ccc3cce7144df93b827dc9a9fd18dfaf 23                  11                 \n",
       "93  d20d3658de331c939f54d8acaed7c4c1 64                  73                 \n",
       "103 efe2ef829cdc0a2cf36f8c27f96678d7 14                  11                 \n",
       "111 Others                           73                  70                 \n",
       "    counts in group 0 counts in group 1 logFC      se        pval        \n",
       "4   232864             81668            -1.4441416 0.3083843 2.828047e-06\n",
       "9      319              9511             2.8937922 0.9705050 2.866166e-03\n",
       "10      41             27727             4.7344448 1.2675331 1.875924e-04\n",
       "24  143352             11880            -2.6786034 0.6048946 9.501622e-06\n",
       "29   26682              6755            -1.8019516 0.5644906 1.412069e-03\n",
       "30  159140             40544            -1.7996174 0.5901451 2.292617e-03\n",
       "48     378                 9            -3.8580086 1.3623484 4.627506e-03\n",
       "50      14              7183             0.9738801 0.2600936 1.808657e-04\n",
       "53  117888             49799            -1.2485314 0.4173685 2.776685e-03\n",
       "64    1086             33112             2.4404307 0.7799554 1.754404e-03\n",
       "68     614                42            -3.1603252 1.0470860 2.542727e-03\n",
       "75    2353                38            -0.5650041 0.1814742 1.849368e-03\n",
       "76    1078             11544             2.7656828 0.8578603 1.264437e-03\n",
       "90   18890              1173            -2.2676607 0.6081984 1.926316e-04\n",
       "93  317989            773805             1.8639949 0.3166625 3.947523e-09\n",
       "103   3493                68            -2.3365792 0.8264415 4.694566e-03\n",
       "111  19298             11601            -1.0546427 0.2418611 1.297471e-05\n",
       "    adjPvalues   pval.adj     ordering       Method              Kingdom \n",
       "4   1.583706e-04 1.583706e-04 Sectio>Vaginal MgSeq Feature (msf) Bacteria\n",
       "9   2.140070e-02 2.140070e-02 Vaginal>Sectio MgSeq Feature (msf) Bacteria\n",
       "10  3.082105e-03 3.082105e-03 Vaginal>Sectio MgSeq Feature (msf) Bacteria\n",
       "24  3.547272e-04 3.547272e-04 Sectio>Vaginal MgSeq Feature (msf) Bacteria\n",
       "29  1.757241e-02 1.757241e-02 Sectio>Vaginal MgSeq Feature (msf) Bacteria\n",
       "30  2.139776e-02 2.139776e-02 Sectio>Vaginal MgSeq Feature (msf) Bacteria\n",
       "48  3.092891e-02 3.092891e-02 Sectio>Vaginal MgSeq Feature (msf) Bacteria\n",
       "50  3.082105e-03 3.082105e-03 Vaginal>Sectio MgSeq Feature (msf) Bacteria\n",
       "53  2.140070e-02 2.140070e-02 Sectio>Vaginal MgSeq Feature (msf) Bacteria\n",
       "64  1.882993e-02 1.882993e-02 Vaginal>Sectio MgSeq Feature (msf) Bacteria\n",
       "68  2.140070e-02 2.140070e-02 Sectio>Vaginal MgSeq Feature (msf) Bacteria\n",
       "75  1.882993e-02 1.882993e-02 Sectio>Vaginal MgSeq Feature (msf) Bacteria\n",
       "76  1.757241e-02 1.757241e-02 Vaginal>Sectio MgSeq Feature (msf) Bacteria\n",
       "90  3.082105e-03 3.082105e-03 Sectio>Vaginal MgSeq Feature (msf) Bacteria\n",
       "93  4.421225e-07 4.421225e-07 Vaginal>Sectio MgSeq Feature (msf) Bacteria\n",
       "103 3.092891e-02 3.092891e-02 Sectio>Vaginal MgSeq Feature (msf) Bacteria\n",
       "111 3.632920e-04 3.632920e-04 Sectio>Vaginal MgSeq Feature (msf) NA      \n",
       "    Phylum         Class               Order             \n",
       "4   Firmicutes_C   Negativicutes       Veillonellales    \n",
       "9   Firmicutes_C   Negativicutes       Veillonellales    \n",
       "10  Firmicutes     Bacilli             Lactobacillales   \n",
       "24  Bacteroidota   Bacteroidia         Bacteroidales     \n",
       "29  Firmicutes     Bacilli             Lactobacillales   \n",
       "30  Proteobacteria Gammaproteobacteria Enterobacterales  \n",
       "48  Firmicutes_A   Clostridia          TANB77            \n",
       "50  Proteobacteria Gammaproteobacteria Enterobacterales  \n",
       "53  Firmicutes_A   Clostridia          Lachnospirales    \n",
       "64  Firmicutes     Bacilli             Erysipelotrichales\n",
       "68  Firmicutes_A   Clostridia          Tissierellales    \n",
       "75  Firmicutes_A   Clostridia          Oscillospirales   \n",
       "76  Bacteroidota   Bacteroidia         Bacteroidales     \n",
       "90  Firmicutes     Bacilli             Lactobacillales   \n",
       "93  Bacteroidota   Bacteroidia         Bacteroidales     \n",
       "103 Firmicutes_A   Clostridia          Tissierellales    \n",
       "111 NA             NA                  NA                \n",
       "    Family                    Genus                  Species\n",
       "4   Veillonellaceae           Veillonella            NA     \n",
       "9   Veillonellaceae           Veillonella_A          NA     \n",
       "10  Lactobacillaceae          Lactobacillus_H        NA     \n",
       "24  Bacteroidaceae            Prevotella             NA     \n",
       "29  Lactobacillaceae          Lactobacillus          NA     \n",
       "30  Enterobacteriaceae        Citrobacter            NA     \n",
       "48  CAG-508                   CAG-354                NA     \n",
       "50  Enterobacteriaceae        Morganella             NA     \n",
       "53  Lachnospiraceae           Ruminococcus_B         NA     \n",
       "64  Erysipelatoclostridiaceae Erysipelatoclostridium NA     \n",
       "68  Peptoniphilaceae          Peptoniphilus_A        NA     \n",
       "75  DTU089                    Eubacterium_R          NA     \n",
       "76  Bacteroidaceae            Bacteroides_A          NA     \n",
       "90  Lactobacillaceae          Lactobacillus_C        NA     \n",
       "93  Bacteroidaceae            Bacteroides            NA     \n",
       "103 Helcococcaceae            Anaerococcus           NA     \n",
       "111 NA                        NA                     NA     "
      ]
     },
     "metadata": {},
     "output_type": "display_data"
    }
   ],
   "source": [
    "res_msf[res_msf$pval.adj <= 0.05, ]"
   ]
  },
  {
   "cell_type": "markdown",
   "metadata": {},
   "source": [
    "16 significantly abundant genera with MetagenomeSeq!"
   ]
  },
  {
   "cell_type": "markdown",
   "metadata": {},
   "source": [
    "## DESeq2<a class=\"anchor\" id=\"ds2\"></a>\n",
    "DEseq2 was originally developed for RNA-seq (transcriptomic) data, but this is very similar to 16S rRNA gene amplicon data, and DESeq2 has been shown to perform well on this kind of data. Furthermore, with DESeq2 you can create more complicated models, with for example multiple variables both categorical and quantitative.\n",
    "\n",
    "Let's run DESeq2 to test the effect of Time:"
   ]
  },
  {
   "cell_type": "code",
   "execution_count": 10,
   "metadata": {},
   "outputs": [
    {
     "name": "stderr",
     "output_type": "stream",
     "text": [
      "converting counts to integer mode\n",
      "\n",
      "using pre-existing size factors\n",
      "\n",
      "estimating dispersions\n",
      "\n",
      "gene-wise dispersion estimates\n",
      "\n",
      "mean-dispersion relationship\n",
      "\n",
      "-- note: fitType='parametric', but the dispersion trend was not well captured by the\n",
      "   function: y = a/x + b, and a local regression fit was automatically substituted.\n",
      "   specify fitType='local' or 'mean' to avoid this message next time.\n",
      "\n",
      "final dispersion estimates\n",
      "\n",
      "fitting model and testing\n",
      "\n",
      "-- replacing outliers and refitting for 33 genes\n",
      "-- DESeq argument 'minReplicatesForReplace' = 7 \n",
      "-- original counts are preserved in counts(dds)\n",
      "\n",
      "estimating dispersions\n",
      "\n",
      "fitting model and testing\n",
      "\n"
     ]
    }
   ],
   "source": [
    "res_ds2 <- DA.ds2(phy_genus_pre, predictor = \"Time\")"
   ]
  },
  {
   "cell_type": "code",
   "execution_count": 11,
   "metadata": {},
   "outputs": [
    {
     "data": {
      "text/html": [
       "<table class=\"dataframe\">\n",
       "<caption>A data.frame: 6 × 16</caption>\n",
       "<thead>\n",
       "\t<tr><th></th><th scope=col>Feature</th><th scope=col>baseMean</th><th scope=col>log2FoldChange</th><th scope=col>lfcSE</th><th scope=col>stat</th><th scope=col>pval</th><th scope=col>ordering</th><th scope=col>pval.adj</th><th scope=col>Method</th><th scope=col>Kingdom</th><th scope=col>Phylum</th><th scope=col>Class</th><th scope=col>Order</th><th scope=col>Family</th><th scope=col>Genus</th><th scope=col>Species</th></tr>\n",
       "\t<tr><th></th><th scope=col>&lt;chr&gt;</th><th scope=col>&lt;dbl&gt;</th><th scope=col>&lt;dbl&gt;</th><th scope=col>&lt;dbl&gt;</th><th scope=col>&lt;dbl&gt;</th><th scope=col>&lt;dbl&gt;</th><th scope=col>&lt;chr&gt;</th><th scope=col>&lt;dbl&gt;</th><th scope=col>&lt;chr&gt;</th><th scope=col>&lt;chr&gt;</th><th scope=col>&lt;chr&gt;</th><th scope=col>&lt;chr&gt;</th><th scope=col>&lt;chr&gt;</th><th scope=col>&lt;chr&gt;</th><th scope=col>&lt;chr&gt;</th><th scope=col>&lt;chr&gt;</th></tr>\n",
       "</thead>\n",
       "<tbody>\n",
       "\t<tr><th scope=row>1</th><td>02985759c1ee39be5cc8ca5d48054b1c</td><td> 330.878518</td><td>-0.5525727</td><td>0.7448826</td><td><span style=white-space:pre-wrap>  0.8053605</span></td><td>6.685258e-01</td><td>1m&gt;1w</td><td>6.932860e-01</td><td>DESeq2 man. geoMeans (ds2)</td><td>Bacteria</td><td><span style=white-space:pre-wrap>Bacteroidota    </span></td><td><span style=white-space:pre-wrap>Bacteroidia   </span></td><td><span style=white-space:pre-wrap>Bacteroidales  </span></td><td>Barnesiellaceae </td><td><span style=white-space:pre-wrap>Barnesiella  </span></td><td>NA</td></tr>\n",
       "\t<tr><th scope=row>2</th><td>03a722bba911de891254934069dc8959</td><td> 651.496487</td><td> 0.0459772</td><td>0.5704140</td><td> 23.9788060</td><td>6.209669e-06</td><td>1w&gt;1m</td><td>1.987094e-05</td><td>DESeq2 man. geoMeans (ds2)</td><td>Bacteria</td><td><span style=white-space:pre-wrap>Firmicutes_A    </span></td><td><span style=white-space:pre-wrap>Clostridia    </span></td><td><span style=white-space:pre-wrap>Clostridiales  </span></td><td><span style=white-space:pre-wrap>Clostridiaceae  </span></td><td><span style=white-space:pre-wrap>Clostridium  </span></td><td>NA</td></tr>\n",
       "\t<tr><th scope=row>3</th><td>04ac1aaec7096c309bacf3c0fb0d2311</td><td>   2.197331</td><td> 0.0000000</td><td>2.2866770</td><td>  8.3954993</td><td>1.502936e-02</td><td>NA   </td><td>2.337900e-02</td><td>DESeq2 man. geoMeans (ds2)</td><td>Bacteria</td><td>Firmicutes_A    </td><td>Clostridia    </td><td>Lachnospirales </td><td>Lachnospiraceae </td><td>Clostridium_Q</td><td>NA</td></tr>\n",
       "\t<tr><th scope=row>4</th><td>08b21f8171b35ef001832ba1df9b8fbc</td><td>2545.681519</td><td>-1.0961723</td><td>0.5678429</td><td> 19.8220261</td><td>4.962514e-05</td><td>1m&gt;1w</td><td>1.292562e-04</td><td>DESeq2 man. geoMeans (ds2)</td><td>Bacteria</td><td><span style=white-space:pre-wrap>Firmicutes_C    </span></td><td>Negativicutes </td><td>Veillonellales </td><td>Veillonellaceae </td><td><span style=white-space:pre-wrap>Veillonella  </span></td><td>NA</td></tr>\n",
       "\t<tr><th scope=row>5</th><td>0978d7032689ab3eeef2fc60e4490e11</td><td><span style=white-space:pre-wrap>  85.004312</span></td><td>-1.0748637</td><td>0.8558008</td><td>152.7002740</td><td>6.943154e-34</td><td>1m&gt;1w</td><td>3.888166e-32</td><td>DESeq2 man. geoMeans (ds2)</td><td>Bacteria</td><td><span style=white-space:pre-wrap>Firmicutes_A    </span></td><td><span style=white-space:pre-wrap>Clostridia    </span></td><td>Lachnospirales </td><td>Lachnospiraceae </td><td><span style=white-space:pre-wrap>Lachnospira  </span></td><td>NA</td></tr>\n",
       "\t<tr><th scope=row>6</th><td>09efd4982be79756a70f3b739241efda</td><td><span style=white-space:pre-wrap>   4.527625</span></td><td>-5.1814351</td><td>2.5475795</td><td><span style=white-space:pre-wrap>  7.8832718</span></td><td>1.941643e-02</td><td>1m&gt;1w</td><td>2.938702e-02</td><td>DESeq2 man. geoMeans (ds2)</td><td>Bacteria</td><td>Actinobacteriota</td><td>Actinobacteria</td><td>Actinomycetales</td><td>Dermabacteraceae</td><td><span style=white-space:pre-wrap>Dermabacter  </span></td><td>NA</td></tr>\n",
       "</tbody>\n",
       "</table>\n"
      ],
      "text/latex": [
       "A data.frame: 6 × 16\n",
       "\\begin{tabular}{r|llllllllllllllll}\n",
       "  & Feature & baseMean & log2FoldChange & lfcSE & stat & pval & ordering & pval.adj & Method & Kingdom & Phylum & Class & Order & Family & Genus & Species\\\\\n",
       "  & <chr> & <dbl> & <dbl> & <dbl> & <dbl> & <dbl> & <chr> & <dbl> & <chr> & <chr> & <chr> & <chr> & <chr> & <chr> & <chr> & <chr>\\\\\n",
       "\\hline\n",
       "\t1 & 02985759c1ee39be5cc8ca5d48054b1c &  330.878518 & -0.5525727 & 0.7448826 &   0.8053605 & 6.685258e-01 & 1m>1w & 6.932860e-01 & DESeq2 man. geoMeans (ds2) & Bacteria & Bacteroidota     & Bacteroidia    & Bacteroidales   & Barnesiellaceae  & Barnesiella   & NA\\\\\n",
       "\t2 & 03a722bba911de891254934069dc8959 &  651.496487 &  0.0459772 & 0.5704140 &  23.9788060 & 6.209669e-06 & 1w>1m & 1.987094e-05 & DESeq2 man. geoMeans (ds2) & Bacteria & Firmicutes\\_A     & Clostridia     & Clostridiales   & Clostridiaceae   & Clostridium   & NA\\\\\n",
       "\t3 & 04ac1aaec7096c309bacf3c0fb0d2311 &    2.197331 &  0.0000000 & 2.2866770 &   8.3954993 & 1.502936e-02 & NA    & 2.337900e-02 & DESeq2 man. geoMeans (ds2) & Bacteria & Firmicutes\\_A     & Clostridia     & Lachnospirales  & Lachnospiraceae  & Clostridium\\_Q & NA\\\\\n",
       "\t4 & 08b21f8171b35ef001832ba1df9b8fbc & 2545.681519 & -1.0961723 & 0.5678429 &  19.8220261 & 4.962514e-05 & 1m>1w & 1.292562e-04 & DESeq2 man. geoMeans (ds2) & Bacteria & Firmicutes\\_C     & Negativicutes  & Veillonellales  & Veillonellaceae  & Veillonella   & NA\\\\\n",
       "\t5 & 0978d7032689ab3eeef2fc60e4490e11 &   85.004312 & -1.0748637 & 0.8558008 & 152.7002740 & 6.943154e-34 & 1m>1w & 3.888166e-32 & DESeq2 man. geoMeans (ds2) & Bacteria & Firmicutes\\_A     & Clostridia     & Lachnospirales  & Lachnospiraceae  & Lachnospira   & NA\\\\\n",
       "\t6 & 09efd4982be79756a70f3b739241efda &    4.527625 & -5.1814351 & 2.5475795 &   7.8832718 & 1.941643e-02 & 1m>1w & 2.938702e-02 & DESeq2 man. geoMeans (ds2) & Bacteria & Actinobacteriota & Actinobacteria & Actinomycetales & Dermabacteraceae & Dermabacter   & NA\\\\\n",
       "\\end{tabular}\n"
      ],
      "text/markdown": [
       "\n",
       "A data.frame: 6 × 16\n",
       "\n",
       "| <!--/--> | Feature &lt;chr&gt; | baseMean &lt;dbl&gt; | log2FoldChange &lt;dbl&gt; | lfcSE &lt;dbl&gt; | stat &lt;dbl&gt; | pval &lt;dbl&gt; | ordering &lt;chr&gt; | pval.adj &lt;dbl&gt; | Method &lt;chr&gt; | Kingdom &lt;chr&gt; | Phylum &lt;chr&gt; | Class &lt;chr&gt; | Order &lt;chr&gt; | Family &lt;chr&gt; | Genus &lt;chr&gt; | Species &lt;chr&gt; |\n",
       "|---|---|---|---|---|---|---|---|---|---|---|---|---|---|---|---|---|\n",
       "| 1 | 02985759c1ee39be5cc8ca5d48054b1c |  330.878518 | -0.5525727 | 0.7448826 |   0.8053605 | 6.685258e-01 | 1m&gt;1w | 6.932860e-01 | DESeq2 man. geoMeans (ds2) | Bacteria | Bacteroidota     | Bacteroidia    | Bacteroidales   | Barnesiellaceae  | Barnesiella   | NA |\n",
       "| 2 | 03a722bba911de891254934069dc8959 |  651.496487 |  0.0459772 | 0.5704140 |  23.9788060 | 6.209669e-06 | 1w&gt;1m | 1.987094e-05 | DESeq2 man. geoMeans (ds2) | Bacteria | Firmicutes_A     | Clostridia     | Clostridiales   | Clostridiaceae   | Clostridium   | NA |\n",
       "| 3 | 04ac1aaec7096c309bacf3c0fb0d2311 |    2.197331 |  0.0000000 | 2.2866770 |   8.3954993 | 1.502936e-02 | NA    | 2.337900e-02 | DESeq2 man. geoMeans (ds2) | Bacteria | Firmicutes_A     | Clostridia     | Lachnospirales  | Lachnospiraceae  | Clostridium_Q | NA |\n",
       "| 4 | 08b21f8171b35ef001832ba1df9b8fbc | 2545.681519 | -1.0961723 | 0.5678429 |  19.8220261 | 4.962514e-05 | 1m&gt;1w | 1.292562e-04 | DESeq2 man. geoMeans (ds2) | Bacteria | Firmicutes_C     | Negativicutes  | Veillonellales  | Veillonellaceae  | Veillonella   | NA |\n",
       "| 5 | 0978d7032689ab3eeef2fc60e4490e11 |   85.004312 | -1.0748637 | 0.8558008 | 152.7002740 | 6.943154e-34 | 1m&gt;1w | 3.888166e-32 | DESeq2 man. geoMeans (ds2) | Bacteria | Firmicutes_A     | Clostridia     | Lachnospirales  | Lachnospiraceae  | Lachnospira   | NA |\n",
       "| 6 | 09efd4982be79756a70f3b739241efda |    4.527625 | -5.1814351 | 2.5475795 |   7.8832718 | 1.941643e-02 | 1m&gt;1w | 2.938702e-02 | DESeq2 man. geoMeans (ds2) | Bacteria | Actinobacteriota | Actinobacteria | Actinomycetales | Dermabacteraceae | Dermabacter   | NA |\n",
       "\n"
      ],
      "text/plain": [
       "  Feature                          baseMean    log2FoldChange lfcSE    \n",
       "1 02985759c1ee39be5cc8ca5d48054b1c  330.878518 -0.5525727     0.7448826\n",
       "2 03a722bba911de891254934069dc8959  651.496487  0.0459772     0.5704140\n",
       "3 04ac1aaec7096c309bacf3c0fb0d2311    2.197331  0.0000000     2.2866770\n",
       "4 08b21f8171b35ef001832ba1df9b8fbc 2545.681519 -1.0961723     0.5678429\n",
       "5 0978d7032689ab3eeef2fc60e4490e11   85.004312 -1.0748637     0.8558008\n",
       "6 09efd4982be79756a70f3b739241efda    4.527625 -5.1814351     2.5475795\n",
       "  stat        pval         ordering pval.adj     Method                    \n",
       "1   0.8053605 6.685258e-01 1m>1w    6.932860e-01 DESeq2 man. geoMeans (ds2)\n",
       "2  23.9788060 6.209669e-06 1w>1m    1.987094e-05 DESeq2 man. geoMeans (ds2)\n",
       "3   8.3954993 1.502936e-02 NA       2.337900e-02 DESeq2 man. geoMeans (ds2)\n",
       "4  19.8220261 4.962514e-05 1m>1w    1.292562e-04 DESeq2 man. geoMeans (ds2)\n",
       "5 152.7002740 6.943154e-34 1m>1w    3.888166e-32 DESeq2 man. geoMeans (ds2)\n",
       "6   7.8832718 1.941643e-02 1m>1w    2.938702e-02 DESeq2 man. geoMeans (ds2)\n",
       "  Kingdom  Phylum           Class          Order           Family          \n",
       "1 Bacteria Bacteroidota     Bacteroidia    Bacteroidales   Barnesiellaceae \n",
       "2 Bacteria Firmicutes_A     Clostridia     Clostridiales   Clostridiaceae  \n",
       "3 Bacteria Firmicutes_A     Clostridia     Lachnospirales  Lachnospiraceae \n",
       "4 Bacteria Firmicutes_C     Negativicutes  Veillonellales  Veillonellaceae \n",
       "5 Bacteria Firmicutes_A     Clostridia     Lachnospirales  Lachnospiraceae \n",
       "6 Bacteria Actinobacteriota Actinobacteria Actinomycetales Dermabacteraceae\n",
       "  Genus         Species\n",
       "1 Barnesiella   NA     \n",
       "2 Clostridium   NA     \n",
       "3 Clostridium_Q NA     \n",
       "4 Veillonella   NA     \n",
       "5 Lachnospira   NA     \n",
       "6 Dermabacter   NA     "
      ]
     },
     "metadata": {},
     "output_type": "display_data"
    }
   ],
   "source": [
    "head(res_ds2)"
   ]
  },
  {
   "cell_type": "markdown",
   "metadata": {},
   "source": [
    "It is important to remember that our time variable has three levels: 1w, 1m, and 1y. By default we only get the log fold change of the second level (1w here) against the first level (1m here). The p-value is an overall p-value telling us whether any of the levels (timepoints) are different.\n",
    "\n",
    "Output explanation:\n",
    "* Each row is a test of one ASV\n",
    "* Feature: This is the ASV id\n",
    "* baseMean: The average abundance of the first level in the predictor\n",
    "* log2FoldChange: The log ratio of the abundance in second level of the predictor compared to the first level\n",
    "* lfcSE: Standard error of the log2 fold change\n",
    "* stat: Wald statistic\n",
    "* pval: The p-value\n",
    "* pval.adj: The adjusted p-value. This is the p-value to use!\n",
    "* ordering: In which group is it high abundant, and in which group low abundant\n",
    "* Method: Name of our method\n",
    "* The rest are taxonomy information of the ASV\n",
    "\n",
    "Let's see if there any significant:"
   ]
  },
  {
   "cell_type": "code",
   "execution_count": 12,
   "metadata": {},
   "outputs": [
    {
     "data": {
      "text/html": [
       "<table class=\"dataframe\">\n",
       "<caption>A data.frame: 85 × 16</caption>\n",
       "<thead>\n",
       "\t<tr><th></th><th scope=col>Feature</th><th scope=col>baseMean</th><th scope=col>log2FoldChange</th><th scope=col>lfcSE</th><th scope=col>stat</th><th scope=col>pval</th><th scope=col>ordering</th><th scope=col>pval.adj</th><th scope=col>Method</th><th scope=col>Kingdom</th><th scope=col>Phylum</th><th scope=col>Class</th><th scope=col>Order</th><th scope=col>Family</th><th scope=col>Genus</th><th scope=col>Species</th></tr>\n",
       "\t<tr><th></th><th scope=col>&lt;chr&gt;</th><th scope=col>&lt;dbl&gt;</th><th scope=col>&lt;dbl&gt;</th><th scope=col>&lt;dbl&gt;</th><th scope=col>&lt;dbl&gt;</th><th scope=col>&lt;dbl&gt;</th><th scope=col>&lt;chr&gt;</th><th scope=col>&lt;dbl&gt;</th><th scope=col>&lt;chr&gt;</th><th scope=col>&lt;chr&gt;</th><th scope=col>&lt;chr&gt;</th><th scope=col>&lt;chr&gt;</th><th scope=col>&lt;chr&gt;</th><th scope=col>&lt;chr&gt;</th><th scope=col>&lt;chr&gt;</th><th scope=col>&lt;chr&gt;</th></tr>\n",
       "</thead>\n",
       "<tbody>\n",
       "\t<tr><th scope=row>2</th><td>03a722bba911de891254934069dc8959</td><td><span style=white-space:pre-wrap>  651.496487</span></td><td><span style=white-space:pre-wrap>  0.0459772</span></td><td>0.5704140</td><td> 23.978806</td><td>6.209669e-06</td><td>1w&gt;1m</td><td>1.987094e-05</td><td>DESeq2 man. geoMeans (ds2)</td><td>Bacteria</td><td><span style=white-space:pre-wrap>Firmicutes_A    </span></td><td><span style=white-space:pre-wrap>Clostridia         </span></td><td><span style=white-space:pre-wrap>Clostridiales        </span></td><td><span style=white-space:pre-wrap>Clostridiaceae       </span></td><td><span style=white-space:pre-wrap>Clostridium                 </span></td><td>NA</td></tr>\n",
       "\t<tr><th scope=row>3</th><td>04ac1aaec7096c309bacf3c0fb0d2311</td><td>    2.197331</td><td>  0.0000000</td><td>2.2866770</td><td>  8.395499</td><td>1.502936e-02</td><td>NA   </td><td>2.337900e-02</td><td>DESeq2 man. geoMeans (ds2)</td><td>Bacteria</td><td>Firmicutes_A    </td><td>Clostridia         </td><td>Lachnospirales       </td><td>Lachnospiraceae      </td><td>Clostridium_Q               </td><td>NA</td></tr>\n",
       "\t<tr><th scope=row>4</th><td>08b21f8171b35ef001832ba1df9b8fbc</td><td> 2545.681519</td><td> -1.0961723</td><td>0.5678429</td><td> 19.822026</td><td>4.962514e-05</td><td>1m&gt;1w</td><td>1.292562e-04</td><td>DESeq2 man. geoMeans (ds2)</td><td>Bacteria</td><td><span style=white-space:pre-wrap>Firmicutes_C    </span></td><td><span style=white-space:pre-wrap>Negativicutes      </span></td><td><span style=white-space:pre-wrap>Veillonellales       </span></td><td><span style=white-space:pre-wrap>Veillonellaceae      </span></td><td><span style=white-space:pre-wrap>Veillonella                 </span></td><td>NA</td></tr>\n",
       "\t<tr><th scope=row>5</th><td>0978d7032689ab3eeef2fc60e4490e11</td><td><span style=white-space:pre-wrap>   85.004312</span></td><td> -1.0748637</td><td>0.8558008</td><td>152.700274</td><td>6.943154e-34</td><td>1m&gt;1w</td><td>3.888166e-32</td><td>DESeq2 man. geoMeans (ds2)</td><td>Bacteria</td><td><span style=white-space:pre-wrap>Firmicutes_A    </span></td><td><span style=white-space:pre-wrap>Clostridia         </span></td><td><span style=white-space:pre-wrap>Lachnospirales       </span></td><td><span style=white-space:pre-wrap>Lachnospiraceae      </span></td><td><span style=white-space:pre-wrap>Lachnospira                 </span></td><td>NA</td></tr>\n",
       "\t<tr><th scope=row>6</th><td>09efd4982be79756a70f3b739241efda</td><td><span style=white-space:pre-wrap>    4.527625</span></td><td> -5.1814351</td><td>2.5475795</td><td><span style=white-space:pre-wrap>  7.883272</span></td><td>1.941643e-02</td><td>1m&gt;1w</td><td>2.938702e-02</td><td>DESeq2 man. geoMeans (ds2)</td><td>Bacteria</td><td>Actinobacteriota</td><td><span style=white-space:pre-wrap>Actinobacteria     </span></td><td><span style=white-space:pre-wrap>Actinomycetales      </span></td><td><span style=white-space:pre-wrap>Dermabacteraceae     </span></td><td><span style=white-space:pre-wrap>Dermabacter                 </span></td><td>NA</td></tr>\n",
       "\t<tr><th scope=row>8</th><td>0c4ba36f81a215044822bfc2b6533315</td><td><span style=white-space:pre-wrap>   51.062266</span></td><td><span style=white-space:pre-wrap>  5.1464101</span></td><td>1.3012732</td><td> 26.325555</td><td>1.920783e-06</td><td>1w&gt;1m</td><td>6.874525e-06</td><td>DESeq2 man. geoMeans (ds2)</td><td>Bacteria</td><td><span style=white-space:pre-wrap>Proteobacteria  </span></td><td>Gammaproteobacteria</td><td><span style=white-space:pre-wrap>Pseudomonadales      </span></td><td><span style=white-space:pre-wrap>Moraxellaceae        </span></td><td><span style=white-space:pre-wrap>Acinetobacter               </span></td><td>NA</td></tr>\n",
       "\t<tr><th scope=row>9</th><td>107063e8453bf94891c4d7a17b00af07</td><td><span style=white-space:pre-wrap>   39.170525</span></td><td><span style=white-space:pre-wrap>  2.3421718</span></td><td>1.7008926</td><td> 16.985866</td><td>2.049114e-04</td><td>1w&gt;1m</td><td>4.882995e-04</td><td>DESeq2 man. geoMeans (ds2)</td><td>Bacteria</td><td><span style=white-space:pre-wrap>Firmicutes_C    </span></td><td><span style=white-space:pre-wrap>Negativicutes      </span></td><td><span style=white-space:pre-wrap>Veillonellales       </span></td><td><span style=white-space:pre-wrap>Veillonellaceae      </span></td><td><span style=white-space:pre-wrap>Veillonella_A               </span></td><td>NA</td></tr>\n",
       "\t<tr><th scope=row>10</th><td>11d9c9ed1d2d58a9cb0bbcdc93aa3e55</td><td><span style=white-space:pre-wrap>  278.826390</span></td><td>-11.5042833</td><td>1.4722362</td><td> 33.006120</td><td>6.804750e-08</td><td>1m&gt;1w</td><td>3.048528e-07</td><td>DESeq2 man. geoMeans (ds2)</td><td>Bacteria</td><td><span style=white-space:pre-wrap>Firmicutes      </span></td><td><span style=white-space:pre-wrap>Bacilli            </span></td><td><span style=white-space:pre-wrap>Lactobacillales      </span></td><td><span style=white-space:pre-wrap>Lactobacillaceae     </span></td><td><span style=white-space:pre-wrap>Lactobacillus_H             </span></td><td>NA</td></tr>\n",
       "\t<tr><th scope=row>12</th><td>1c88ca8aa0ed62fb2fb8bebb8cb25670</td><td><span style=white-space:pre-wrap>  194.291604</span></td><td> -3.4115483</td><td>0.9727130</td><td> 67.703732</td><td>1.987565e-15</td><td>1m&gt;1w</td><td>2.226073e-14</td><td>DESeq2 man. geoMeans (ds2)</td><td>Bacteria</td><td><span style=white-space:pre-wrap>Firmicutes_A    </span></td><td><span style=white-space:pre-wrap>Clostridia         </span></td><td><span style=white-space:pre-wrap>Lachnospirales       </span></td><td><span style=white-space:pre-wrap>Lachnospiraceae      </span></td><td><span style=white-space:pre-wrap>Blautia_A                   </span></td><td>NA</td></tr>\n",
       "\t<tr><th scope=row>13</th><td>1d0831cd5450dbff194da1403d5f94f8</td><td>    8.698501</td><td>  0.0000000</td><td>1.8863857</td><td> 14.867232</td><td>5.910464e-04</td><td>NA   </td><td>1.297984e-03</td><td>DESeq2 man. geoMeans (ds2)</td><td>Bacteria</td><td>Proteobacteria  </td><td>Alphaproteobacteria</td><td>RF32                 </td><td>CAG-239              </td><td>CAG-495                     </td><td>NA</td></tr>\n",
       "\t<tr><th scope=row>14</th><td>20cfe7f61d18f6525cc71caae0ab28dc</td><td> 5977.376654</td><td> -1.4533950</td><td>0.5561586</td><td> 23.768228</td><td>6.899139e-06</td><td>1m&gt;1w</td><td>2.146399e-05</td><td>DESeq2 man. geoMeans (ds2)</td><td>Bacteria</td><td><span style=white-space:pre-wrap>Proteobacteria  </span></td><td>Gammaproteobacteria</td><td><span style=white-space:pre-wrap>Enterobacterales     </span></td><td><span style=white-space:pre-wrap>Enterobacteriaceae   </span></td><td><span style=white-space:pre-wrap>Escherichia                 </span></td><td>NA</td></tr>\n",
       "\t<tr><th scope=row>15</th><td>23fd935effd62858dd84fbd5ecf064e6</td><td><span style=white-space:pre-wrap>    8.455607</span></td><td>-17.4159161</td><td>2.2969786</td><td><span style=white-space:pre-wrap>  9.635793</span></td><td>8.083773e-03</td><td>1m&gt;1w</td><td>1.422842e-02</td><td>DESeq2 man. geoMeans (ds2)</td><td>Bacteria</td><td><span style=white-space:pre-wrap>Proteobacteria  </span></td><td>Gammaproteobacteria</td><td><span style=white-space:pre-wrap>Enterobacterales     </span></td><td><span style=white-space:pre-wrap>Pasteurellaceae      </span></td><td><span style=white-space:pre-wrap>Haemophilus_A               </span></td><td>NA</td></tr>\n",
       "\t<tr><th scope=row>16</th><td>25cd6c22fd2bb5fd97c63c527a7ae9c8</td><td><span style=white-space:pre-wrap>   36.492521</span></td><td> -0.5228673</td><td>1.2066239</td><td> 24.710776</td><td>4.306488e-06</td><td>1m&gt;1w</td><td>1.418608e-05</td><td>DESeq2 man. geoMeans (ds2)</td><td>Bacteria</td><td>Actinobacteriota</td><td><span style=white-space:pre-wrap>Actinobacteria     </span></td><td><span style=white-space:pre-wrap>Actinomycetales      </span></td><td><span style=white-space:pre-wrap>Micrococcaceae       </span></td><td><span style=white-space:pre-wrap>Rothia                      </span></td><td>NA</td></tr>\n",
       "\t<tr><th scope=row>18</th><td>269e64276a91bc92a9ba3ed05a0e0e0d</td><td>   11.628046</td><td>  0.0000000</td><td>1.6303090</td><td> 22.068847</td><td>1.613655e-05</td><td>NA   </td><td>4.884577e-05</td><td>DESeq2 man. geoMeans (ds2)</td><td>Bacteria</td><td>Firmicutes_A    </td><td>Clostridia         </td><td>Oscillospirales      </td><td>DTU089               </td><td>DTU053                      </td><td>NA</td></tr>\n",
       "\t<tr><th scope=row>19</th><td>2bb792dc76a244c5aff56572237e9ffa</td><td>    3.182132</td><td>  0.0000000</td><td>2.2959381</td><td>  9.520445</td><td>8.563702e-03</td><td>NA   </td><td>1.475592e-02</td><td>DESeq2 man. geoMeans (ds2)</td><td>Bacteria</td><td>Firmicutes_A    </td><td>Clostridia         </td><td>Lachnospirales       </td><td>Lachnospiraceae      </td><td>Eisenbergiella              </td><td>NA</td></tr>\n",
       "\t<tr><th scope=row>21</th><td>2dc26dda3a7735af9bf29c6bc37c2ecc</td><td><span style=white-space:pre-wrap>  108.104811</span></td><td> -8.5146162</td><td>1.3707566</td><td> 25.945930</td><td>2.322270e-06</td><td>1m&gt;1w</td><td>7.881645e-06</td><td>DESeq2 man. geoMeans (ds2)</td><td>Bacteria</td><td><span style=white-space:pre-wrap>Firmicutes_C    </span></td><td><span style=white-space:pre-wrap>Negativicutes      </span></td><td><span style=white-space:pre-wrap>Acidaminococcales    </span></td><td><span style=white-space:pre-wrap>Acidaminococcaceae   </span></td><td><span style=white-space:pre-wrap>Acidaminococcus             </span></td><td>NA</td></tr>\n",
       "\t<tr><th scope=row>24</th><td>333fc718c6bccdbf0fd4e4f84d0dd38e</td><td><span style=white-space:pre-wrap>  676.125928</span></td><td> -3.4159980</td><td>0.7698422</td><td>137.400844</td><td>1.458095e-30</td><td>1m&gt;1w</td><td>5.443554e-29</td><td>DESeq2 man. geoMeans (ds2)</td><td>Bacteria</td><td><span style=white-space:pre-wrap>Bacteroidota    </span></td><td><span style=white-space:pre-wrap>Bacteroidia        </span></td><td><span style=white-space:pre-wrap>Bacteroidales        </span></td><td><span style=white-space:pre-wrap>Bacteroidaceae       </span></td><td><span style=white-space:pre-wrap>Prevotella                  </span></td><td>NA</td></tr>\n",
       "\t<tr><th scope=row>26</th><td>3fe60a0670280b071f93d770e1ff16ee</td><td><span style=white-space:pre-wrap>   10.176028</span></td><td><span style=white-space:pre-wrap>  1.9179148</span></td><td>1.3019275</td><td> 17.058190</td><td>1.976338e-04</td><td>1w&gt;1m</td><td>4.811953e-04</td><td>DESeq2 man. geoMeans (ds2)</td><td>Bacteria</td><td>Actinobacteriota</td><td><span style=white-space:pre-wrap>Actinobacteria     </span></td><td><span style=white-space:pre-wrap>Corynebacteriales    </span></td><td><span style=white-space:pre-wrap>Corynebacteriaceae   </span></td><td><span style=white-space:pre-wrap>Corynebacterium             </span></td><td>NA</td></tr>\n",
       "\t<tr><th scope=row>28</th><td>44cec8943a6e384a4f1abadc3e9b7930</td><td><span style=white-space:pre-wrap>   41.688197</span></td><td>-26.8635616</td><td>1.8384787</td><td> 11.366722</td><td>3.402104e-03</td><td>1m&gt;1w</td><td>6.458232e-03</td><td>DESeq2 man. geoMeans (ds2)</td><td>Bacteria</td><td><span style=white-space:pre-wrap>Firmicutes_C    </span></td><td><span style=white-space:pre-wrap>Negativicutes      </span></td><td><span style=white-space:pre-wrap>Veillonellales       </span></td><td><span style=white-space:pre-wrap>Megasphaeraceae      </span></td><td><span style=white-space:pre-wrap>Anaeroglobus                </span></td><td>NA</td></tr>\n",
       "\t<tr><th scope=row>29</th><td>44d9fc4de8898b6c82c69654435a9f0b</td><td><span style=white-space:pre-wrap>  338.048768</span></td><td> -2.1922579</td><td>1.0307000</td><td> 40.738567</td><td>1.424730e-09</td><td>1m&gt;1w</td><td>8.398409e-09</td><td>DESeq2 man. geoMeans (ds2)</td><td>Bacteria</td><td><span style=white-space:pre-wrap>Firmicutes      </span></td><td><span style=white-space:pre-wrap>Bacilli            </span></td><td><span style=white-space:pre-wrap>Lactobacillales      </span></td><td><span style=white-space:pre-wrap>Lactobacillaceae     </span></td><td><span style=white-space:pre-wrap>Lactobacillus               </span></td><td>NA</td></tr>\n",
       "\t<tr><th scope=row>30</th><td>45c4f6f269ec95ff0c8dd594104519e9</td><td> 1937.877564</td><td><span style=white-space:pre-wrap>  1.6361300</span></td><td>1.4945891</td><td> 10.533252</td><td>5.160995e-03</td><td>1w&gt;1m</td><td>9.633856e-03</td><td>DESeq2 man. geoMeans (ds2)</td><td>Bacteria</td><td><span style=white-space:pre-wrap>Proteobacteria  </span></td><td>Gammaproteobacteria</td><td><span style=white-space:pre-wrap>Enterobacterales     </span></td><td><span style=white-space:pre-wrap>Enterobacteriaceae   </span></td><td><span style=white-space:pre-wrap>Citrobacter                 </span></td><td>NA</td></tr>\n",
       "\t<tr><th scope=row>31</th><td>4bc8e35f3e060dd71a46d502972c5b45</td><td><span style=white-space:pre-wrap>   15.418482</span></td><td>-17.7592237</td><td>2.0877818</td><td> 14.020289</td><td>9.026783e-04</td><td>1m&gt;1w</td><td>1.884100e-03</td><td>DESeq2 man. geoMeans (ds2)</td><td>Bacteria</td><td><span style=white-space:pre-wrap>Firmicutes_A    </span></td><td><span style=white-space:pre-wrap>Clostridia         </span></td><td><span style=white-space:pre-wrap>Oscillospirales      </span></td><td><span style=white-space:pre-wrap>Ruminococcaceae      </span></td><td><span style=white-space:pre-wrap>Ruminococcus_D              </span></td><td>NA</td></tr>\n",
       "\t<tr><th scope=row>32</th><td>4c407a2fae7af12f863fec08f5e1d8d4</td><td>    3.370780</td><td>  0.0000000</td><td>1.6029932</td><td> 19.950931</td><td>4.652756e-05</td><td>NA   </td><td>1.240735e-04</td><td>DESeq2 man. geoMeans (ds2)</td><td>Bacteria</td><td>Firmicutes_A    </td><td>Clostridia         </td><td>Class_Clostridia     </td><td>Class_Clostridia     </td><td>Class_Clostridia            </td><td>NA</td></tr>\n",
       "\t<tr><th scope=row>33</th><td>4e8b51098d3b598eadf069dcc96e81aa</td><td>10278.456469</td><td><span style=white-space:pre-wrap>  0.7668431</span></td><td>0.6770911</td><td> 71.418017</td><td>3.102950e-16</td><td>1w&gt;1m</td><td>3.861448e-15</td><td>DESeq2 man. geoMeans (ds2)</td><td>Bacteria</td><td><span style=white-space:pre-wrap>Proteobacteria  </span></td><td>Gammaproteobacteria</td><td><span style=white-space:pre-wrap>Enterobacterales     </span></td><td><span style=white-space:pre-wrap>Enterobacteriaceae   </span></td><td><span style=white-space:pre-wrap>Family_Enterobacteriaceae   </span></td><td>NA</td></tr>\n",
       "\t<tr><th scope=row>34</th><td>4fad93adaab891f153808884f1da1fec</td><td>    3.166222</td><td>  0.0000000</td><td>1.8915104</td><td> 14.007639</td><td>9.084055e-04</td><td>NA   </td><td>1.884100e-03</td><td>DESeq2 man. geoMeans (ds2)</td><td>Bacteria</td><td>Firmicutes_A    </td><td>Clostridia         </td><td>CAG-41               </td><td>UBA1381              </td><td>CAG-41                      </td><td>NA</td></tr>\n",
       "\t<tr><th scope=row>35</th><td>54576c4896c625acff83191d8d1a004e</td><td><span style=white-space:pre-wrap>   12.538527</span></td><td> -1.5758093</td><td>1.4230260</td><td> 30.231005</td><td>2.725340e-07</td><td>1m&gt;1w</td><td>1.130511e-06</td><td>DESeq2 man. geoMeans (ds2)</td><td>Bacteria</td><td><span style=white-space:pre-wrap>Bacteroidota    </span></td><td><span style=white-space:pre-wrap>Bacteroidia        </span></td><td><span style=white-space:pre-wrap>Bacteroidales        </span></td><td><span style=white-space:pre-wrap>Coprobacteraceae     </span></td><td><span style=white-space:pre-wrap>Coprobacter                 </span></td><td>NA</td></tr>\n",
       "\t<tr><th scope=row>36</th><td>54fe524342380c8bf7ed42580bd17deb</td><td>   19.384864</td><td>  0.0000000</td><td>1.4887565</td><td> 30.855439</td><td>1.994465e-07</td><td>NA   </td><td>8.591544e-07</td><td>DESeq2 man. geoMeans (ds2)</td><td>Bacteria</td><td>Firmicutes_A    </td><td>Clostridia         </td><td>Oscillospirales      </td><td>Order_Oscillospirales</td><td>Order_Oscillospirales       </td><td>NA</td></tr>\n",
       "\t<tr><th scope=row>37</th><td>56eb226a214d3ad80951bea6b746946a</td><td><span style=white-space:pre-wrap>   54.144485</span></td><td> -3.5962881</td><td>1.2368297</td><td><span style=white-space:pre-wrap>  7.088702</span></td><td>2.888736e-02</td><td>1m&gt;1w</td><td>4.044230e-02</td><td>DESeq2 man. geoMeans (ds2)</td><td>Bacteria</td><td><span style=white-space:pre-wrap>Proteobacteria  </span></td><td>Gammaproteobacteria</td><td>Betaproteobacteriales</td><td><span style=white-space:pre-wrap>Burkholderiaceae     </span></td><td><span style=white-space:pre-wrap>Sutterella                  </span></td><td>NA</td></tr>\n",
       "\t<tr><th scope=row>38</th><td>57face48ec571894748b66cab7c52d5e</td><td><span style=white-space:pre-wrap>   62.572846</span></td><td>-20.0777013</td><td>1.2131998</td><td> 60.028578</td><td>9.224864e-14</td><td>1m&gt;1w</td><td>7.947575e-13</td><td>DESeq2 man. geoMeans (ds2)</td><td>Bacteria</td><td><span style=white-space:pre-wrap>Bacteroidota    </span></td><td><span style=white-space:pre-wrap>Bacteroidia        </span></td><td><span style=white-space:pre-wrap>Bacteroidales        </span></td><td><span style=white-space:pre-wrap>Muribaculaceae       </span></td><td><span style=white-space:pre-wrap>Family_Muribaculaceae       </span></td><td>NA</td></tr>\n",
       "\t<tr><th scope=row>39</th><td>59edac319b901da207ccca15fa602dfc</td><td><span style=white-space:pre-wrap>   19.511346</span></td><td> 24.5840133</td><td>2.5331029</td><td><span style=white-space:pre-wrap>  7.490617</span></td><td>2.362834e-02</td><td>1w&gt;1m</td><td>3.392787e-02</td><td>DESeq2 man. geoMeans (ds2)</td><td>Bacteria</td><td><span style=white-space:pre-wrap>Firmicutes_A    </span></td><td><span style=white-space:pre-wrap>Clostridia         </span></td><td>Peptostreptococcales </td><td>Peptostreptococcaceae</td><td>Family_Peptostreptococcaceae</td><td>NA</td></tr>\n",
       "\t<tr><th scope=row>⋮</th><td>⋮</td><td>⋮</td><td>⋮</td><td>⋮</td><td>⋮</td><td>⋮</td><td>⋮</td><td>⋮</td><td>⋮</td><td>⋮</td><td>⋮</td><td>⋮</td><td>⋮</td><td>⋮</td><td>⋮</td><td>⋮</td></tr>\n",
       "\t<tr><th scope=row>75</th><td>a3f2abd64e462dc86f8242a90d98ee66</td><td>   2.5019316</td><td>  0.0000000</td><td>2.5644845</td><td>  7.013590</td><td>2.999288e-02</td><td>NA   </td><td>4.093176e-02</td><td>DESeq2 man. geoMeans (ds2)</td><td>Bacteria</td><td>Firmicutes_A     </td><td>Clostridia         </td><td>Oscillospirales      </td><td>DTU089           </td><td>Eubacterium_R         </td><td>NA</td></tr>\n",
       "\t<tr><th scope=row>76</th><td>a4ac1cd75e12a7e924dd49b96366a5df</td><td><span style=white-space:pre-wrap>  55.4287225</span></td><td>-17.8285345</td><td>1.5441694</td><td> 36.141612</td><td>1.418890e-08</td><td>1m&gt;1w</td><td>7.223438e-08</td><td>DESeq2 man. geoMeans (ds2)</td><td>Bacteria</td><td><span style=white-space:pre-wrap>Bacteroidota     </span></td><td><span style=white-space:pre-wrap>Bacteroidia        </span></td><td><span style=white-space:pre-wrap>Bacteroidales        </span></td><td><span style=white-space:pre-wrap>Bacteroidaceae   </span></td><td><span style=white-space:pre-wrap>Bacteroides_A         </span></td><td>NA</td></tr>\n",
       "\t<tr><th scope=row>77</th><td>a4e5fa843fb3038e70fc6cb1bb062c58</td><td>   0.8085203</td><td>  0.0000000</td><td>1.9775665</td><td>  6.900728</td><td>3.173408e-02</td><td>NA   </td><td>4.231211e-02</td><td>DESeq2 man. geoMeans (ds2)</td><td>Bacteria</td><td>Firmicutes_A     </td><td>Clostridia         </td><td>Lachnospirales       </td><td>Anaerotignaceae  </td><td>Anaerotignum          </td><td>NA</td></tr>\n",
       "\t<tr><th scope=row>79</th><td>ae90b0ce379ef144d9bb740516265a6c</td><td><span style=white-space:pre-wrap>  10.1088867</span></td><td> -5.1146031</td><td>1.5818332</td><td><span style=white-space:pre-wrap>  7.799998</span></td><td>2.024193e-02</td><td>1m&gt;1w</td><td>2.944281e-02</td><td>DESeq2 man. geoMeans (ds2)</td><td>Bacteria</td><td><span style=white-space:pre-wrap>Firmicutes_A     </span></td><td><span style=white-space:pre-wrap>Clostridia         </span></td><td><span style=white-space:pre-wrap>Lachnospirales       </span></td><td><span style=white-space:pre-wrap>Lachnospiraceae  </span></td><td><span style=white-space:pre-wrap>Hungatella            </span></td><td>NA</td></tr>\n",
       "\t<tr><th scope=row>80</th><td>b213fefdccc6c0e773fe51b1e24aa002</td><td><span style=white-space:pre-wrap>   4.9661895</span></td><td> 13.2455946</td><td>2.3193437</td><td><span style=white-space:pre-wrap>  7.812032</span></td><td>2.012050e-02</td><td>1w&gt;1m</td><td>2.944281e-02</td><td>DESeq2 man. geoMeans (ds2)</td><td>Bacteria</td><td><span style=white-space:pre-wrap>Firmicutes_A     </span></td><td><span style=white-space:pre-wrap>Clostridia         </span></td><td><span style=white-space:pre-wrap>Oscillospirales      </span></td><td><span style=white-space:pre-wrap>Ruminococcaceae  </span></td><td><span style=white-space:pre-wrap>Subdoligranulum       </span></td><td>NA</td></tr>\n",
       "\t<tr><th scope=row>81</th><td>b6592341b951857fdd6c3889f7c90e92</td><td>  16.4927068</td><td>  0.0000000</td><td>1.3352112</td><td> 44.977205</td><td>1.711291e-10</td><td>NA   </td><td>1.369033e-09</td><td>DESeq2 man. geoMeans (ds2)</td><td>Bacteria</td><td>Firmicutes_A     </td><td>Clostridia         </td><td>Lachnospirales       </td><td>Lachnospiraceae  </td><td>Eubacterium_E         </td><td>NA</td></tr>\n",
       "\t<tr><th scope=row>82</th><td>b6a1675fa3f43bec37b92541779954a1</td><td> 578.3718680</td><td><span style=white-space:pre-wrap>  2.6736545</span></td><td>1.1553018</td><td> 26.280902</td><td>1.964150e-06</td><td>1w&gt;1m</td><td>6.874525e-06</td><td>DESeq2 man. geoMeans (ds2)</td><td>Bacteria</td><td><span style=white-space:pre-wrap>Firmicutes       </span></td><td><span style=white-space:pre-wrap>Bacilli            </span></td><td><span style=white-space:pre-wrap>Lactobacillales      </span></td><td><span style=white-space:pre-wrap>Enterococcaceae  </span></td><td>Family_Enterococcaceae</td><td>NA</td></tr>\n",
       "\t<tr><th scope=row>83</th><td>b6b05223adf86d071fd279f79dc2533c</td><td> 655.7311607</td><td> -1.2170955</td><td>0.9307766</td><td>107.847679</td><td>3.812186e-24</td><td>1m&gt;1w</td><td>1.067412e-22</td><td>DESeq2 man. geoMeans (ds2)</td><td>Bacteria</td><td>Verrucomicrobiota</td><td><span style=white-space:pre-wrap>Verrucomicrobiae   </span></td><td><span style=white-space:pre-wrap>Verrucomicrobiales   </span></td><td><span style=white-space:pre-wrap>Akkermansiaceae  </span></td><td><span style=white-space:pre-wrap>Akkermansia           </span></td><td>NA</td></tr>\n",
       "\t<tr><th scope=row>85</th><td>bfe0ef267b9437cc26842e05f6c3e13e</td><td>  17.7315412</td><td>  0.0000000</td><td>0.9892403</td><td> 86.612663</td><td>1.557038e-19</td><td>NA   </td><td>2.906470e-18</td><td>DESeq2 man. geoMeans (ds2)</td><td>Bacteria</td><td>Firmicutes_A     </td><td>Clostridia         </td><td>Lachnospirales       </td><td>Lachnospiraceae  </td><td>Dorea                 </td><td>NA</td></tr>\n",
       "\t<tr><th scope=row>86</th><td>c073eaf335852ce09f9b1a8527e5fa75</td><td>   3.2947808</td><td>  0.0000000</td><td>2.2968789</td><td>  9.624259</td><td>8.130528e-03</td><td>NA   </td><td>1.422842e-02</td><td>DESeq2 man. geoMeans (ds2)</td><td>Bacteria</td><td>Firmicutes_A     </td><td>Clostridia         </td><td>Lachnospirales       </td><td>Lachnospiraceae  </td><td>Blautia               </td><td>NA</td></tr>\n",
       "\t<tr><th scope=row>87</th><td>c3337ad671c2e29ae30b948f8c25041d</td><td><span style=white-space:pre-wrap>  12.4370796</span></td><td> -3.3989650</td><td>1.8320575</td><td><span style=white-space:pre-wrap>  7.807104</span></td><td>2.017014e-02</td><td>1m&gt;1w</td><td>2.944281e-02</td><td>DESeq2 man. geoMeans (ds2)</td><td>Bacteria</td><td>Actinobacteriota </td><td><span style=white-space:pre-wrap>Actinobacteria     </span></td><td><span style=white-space:pre-wrap>Actinomycetales      </span></td><td>Actinomycetaceae </td><td><span style=white-space:pre-wrap>Actinomyces_B         </span></td><td>NA</td></tr>\n",
       "\t<tr><th scope=row>88</th><td>c97908d2d3661f798e98fbf84f1640e9</td><td>   6.5339909</td><td>  0.0000000</td><td>1.9842414</td><td> 12.133009</td><td>2.319267e-03</td><td>NA   </td><td>4.478584e-03</td><td>DESeq2 man. geoMeans (ds2)</td><td>Bacteria</td><td>Firmicutes_A     </td><td>Clostridia         </td><td>Oscillospirales      </td><td>Ruminococcaceae  </td><td>Ruminiclostridium_E   </td><td>NA</td></tr>\n",
       "\t<tr><th scope=row>89</th><td>ca5152dd2313e7fe7d25872f10c57f6d</td><td> 191.2020633</td><td> 11.9778473</td><td>1.4492424</td><td> 43.095428</td><td>4.384769e-10</td><td>1w&gt;1m</td><td>3.069338e-09</td><td>DESeq2 man. geoMeans (ds2)</td><td>Bacteria</td><td><span style=white-space:pre-wrap>Firmicutes       </span></td><td><span style=white-space:pre-wrap>Bacilli            </span></td><td><span style=white-space:pre-wrap>Lactobacillales      </span></td><td>Lactobacillaceae </td><td><span style=white-space:pre-wrap>Lactobacillus_B       </span></td><td>NA</td></tr>\n",
       "\t<tr><th scope=row>90</th><td>ccc3cce7144df93b827dc9a9fd18dfaf</td><td> 200.1484297</td><td> -4.0854732</td><td>1.2620855</td><td> 42.254631</td><td>6.676111e-10</td><td>1m&gt;1w</td><td>4.398379e-09</td><td>DESeq2 man. geoMeans (ds2)</td><td>Bacteria</td><td><span style=white-space:pre-wrap>Firmicutes       </span></td><td><span style=white-space:pre-wrap>Bacilli            </span></td><td><span style=white-space:pre-wrap>Lactobacillales      </span></td><td>Lactobacillaceae </td><td><span style=white-space:pre-wrap>Lactobacillus_C       </span></td><td>NA</td></tr>\n",
       "\t<tr><th scope=row>91</th><td>cde00646e8aecf8aaac49a9bb9c96729</td><td>1933.0976610</td><td><span style=white-space:pre-wrap>  2.7073355</span></td><td>0.8906384</td><td> 65.284175</td><td>6.663793e-15</td><td>1w&gt;1m</td><td>6.219540e-14</td><td>DESeq2 man. geoMeans (ds2)</td><td>Bacteria</td><td><span style=white-space:pre-wrap>Firmicutes       </span></td><td><span style=white-space:pre-wrap>Bacilli            </span></td><td><span style=white-space:pre-wrap>Staphylococcales     </span></td><td>Staphylococcaceae</td><td><span style=white-space:pre-wrap>Staphylococcus        </span></td><td>NA</td></tr>\n",
       "\t<tr><th scope=row>92</th><td>cf39b94723be8d7c4e5b41f4b20dab44</td><td>  23.7922573</td><td>  0.0000000</td><td>1.8302025</td><td> 21.074207</td><td>2.653347e-05</td><td>NA   </td><td>7.429373e-05</td><td>DESeq2 man. geoMeans (ds2)</td><td>Bacteria</td><td>Proteobacteria   </td><td>Gammaproteobacteria</td><td>Betaproteobacteriales</td><td>Burkholderiaceae </td><td>Parasutterella        </td><td>NA</td></tr>\n",
       "\t<tr><th scope=row>93</th><td>d20d3658de331c939f54d8acaed7c4c1</td><td>5407.9470911</td><td> -0.7778670</td><td>0.4835447</td><td><span style=white-space:pre-wrap>  7.045933</span></td><td>2.951175e-02</td><td>1m&gt;1w</td><td>4.080638e-02</td><td>DESeq2 man. geoMeans (ds2)</td><td>Bacteria</td><td><span style=white-space:pre-wrap>Bacteroidota     </span></td><td><span style=white-space:pre-wrap>Bacteroidia        </span></td><td><span style=white-space:pre-wrap>Bacteroidales        </span></td><td><span style=white-space:pre-wrap>Bacteroidaceae   </span></td><td><span style=white-space:pre-wrap>Bacteroides           </span></td><td>NA</td></tr>\n",
       "\t<tr><th scope=row>95</th><td>dc85940d84ddbd7315db16b14390cb8d</td><td>1310.7737326</td><td><span style=white-space:pre-wrap>  1.1814106</span></td><td>0.9745981</td><td> 21.895615</td><td>1.759655e-05</td><td>1w&gt;1m</td><td>5.186352e-05</td><td>DESeq2 man. geoMeans (ds2)</td><td>Bacteria</td><td><span style=white-space:pre-wrap>Firmicutes_A     </span></td><td><span style=white-space:pre-wrap>Clostridia         </span></td><td><span style=white-space:pre-wrap>Clostridiales        </span></td><td><span style=white-space:pre-wrap>Clostridiaceae   </span></td><td><span style=white-space:pre-wrap>Clostridium_P         </span></td><td>NA</td></tr>\n",
       "\t<tr><th scope=row>96</th><td>e0d214a60c3baff72cd75100c6e4cc28</td><td>   6.2643931</td><td>  0.0000000</td><td>2.2914749</td><td>  8.893202</td><td>1.171833e-02</td><td>NA   </td><td>1.930078e-02</td><td>DESeq2 man. geoMeans (ds2)</td><td>Bacteria</td><td>Firmicutes       </td><td>Bacilli            </td><td>Haloplasmatales      </td><td>Turicibacteraceae</td><td>Turicibacter          </td><td>NA</td></tr>\n",
       "\t<tr><th scope=row>99</th><td>e2f7aa19c11e3adf96a7030321b7e2e4</td><td>   9.0859651</td><td>  0.0000000</td><td>1.4437836</td><td> 33.109310</td><td>6.462561e-08</td><td>NA   </td><td>3.015862e-07</td><td>DESeq2 man. geoMeans (ds2)</td><td>Bacteria</td><td>Firmicutes_A     </td><td>Clostridia         </td><td>Lachnospirales       </td><td>Lachnospiraceae  </td><td>CAG-81                </td><td>NA</td></tr>\n",
       "\t<tr><th scope=row>101</th><td>e8c0f8c73ce984d11e89e3e13b6b21e4</td><td><span style=white-space:pre-wrap>  25.0735943</span></td><td> -2.4896135</td><td>1.4743068</td><td> 29.551421</td><td>3.828164e-07</td><td>1m&gt;1w</td><td>1.478463e-06</td><td>DESeq2 man. geoMeans (ds2)</td><td>Bacteria</td><td><span style=white-space:pre-wrap>Firmicutes_A     </span></td><td><span style=white-space:pre-wrap>Clostridia         </span></td><td><span style=white-space:pre-wrap>Oscillospirales      </span></td><td>Oscillospiraceae </td><td><span style=white-space:pre-wrap>Flavonifractor        </span></td><td>NA</td></tr>\n",
       "\t<tr><th scope=row>102</th><td>ef5a779b6dab7f364d042205f39beb43</td><td><span style=white-space:pre-wrap>  28.8310823</span></td><td> -2.3667077</td><td>1.5707066</td><td> 13.351218</td><td>1.261304e-03</td><td>1m&gt;1w</td><td>2.568473e-03</td><td>DESeq2 man. geoMeans (ds2)</td><td>Bacteria</td><td><span style=white-space:pre-wrap>Firmicutes_C     </span></td><td><span style=white-space:pre-wrap>Negativicutes      </span></td><td><span style=white-space:pre-wrap>Veillonellales       </span></td><td><span style=white-space:pre-wrap>Dialisteraceae   </span></td><td><span style=white-space:pre-wrap>Dialister             </span></td><td>NA</td></tr>\n",
       "\t<tr><th scope=row>103</th><td>efe2ef829cdc0a2cf36f8c27f96678d7</td><td><span style=white-space:pre-wrap>  30.9641012</span></td><td> -7.8253498</td><td>1.3905539</td><td> 35.811920</td><td>1.673172e-08</td><td>1m&gt;1w</td><td>8.147618e-08</td><td>DESeq2 man. geoMeans (ds2)</td><td>Bacteria</td><td><span style=white-space:pre-wrap>Firmicutes_A     </span></td><td><span style=white-space:pre-wrap>Clostridia         </span></td><td><span style=white-space:pre-wrap>Tissierellales       </span></td><td><span style=white-space:pre-wrap>Helcococcaceae   </span></td><td><span style=white-space:pre-wrap>Anaerococcus          </span></td><td>NA</td></tr>\n",
       "\t<tr><th scope=row>104</th><td>f19f6eb0e557605030b949da68e33a3d</td><td><span style=white-space:pre-wrap>  37.3058357</span></td><td>-19.6289057</td><td>1.3709060</td><td> 38.669999</td><td>4.007895e-09</td><td>1m&gt;1w</td><td>2.244421e-08</td><td>DESeq2 man. geoMeans (ds2)</td><td>Bacteria</td><td><span style=white-space:pre-wrap>Firmicutes_A     </span></td><td><span style=white-space:pre-wrap>Clostridia         </span></td><td><span style=white-space:pre-wrap>Lachnospirales       </span></td><td><span style=white-space:pre-wrap>Lachnospiraceae  </span></td><td><span style=white-space:pre-wrap>992a                  </span></td><td>NA</td></tr>\n",
       "\t<tr><th scope=row>106</th><td>f4a2f44c453707eee491e184a4c7b528</td><td><span style=white-space:pre-wrap>   7.3065976</span></td><td> -3.0134694</td><td>2.2993407</td><td><span style=white-space:pre-wrap>  9.329148</span></td><td>9.423260e-03</td><td>1m&gt;1w</td><td>1.575231e-02</td><td>DESeq2 man. geoMeans (ds2)</td><td>Bacteria</td><td><span style=white-space:pre-wrap>Firmicutes_A     </span></td><td><span style=white-space:pre-wrap>Clostridia         </span></td><td><span style=white-space:pre-wrap>Lachnospirales       </span></td><td><span style=white-space:pre-wrap>Lachnospiraceae  </span></td><td><span style=white-space:pre-wrap>Hungatella_A          </span></td><td>NA</td></tr>\n",
       "\t<tr><th scope=row>107</th><td>f5ab8244460d1988b40f85a9347297c7</td><td> 710.9478067</td><td> -3.0616207</td><td>0.6834898</td><td>299.264023</td><td>1.036676e-65</td><td>1m&gt;1w</td><td>1.161077e-63</td><td>DESeq2 man. geoMeans (ds2)</td><td>Bacteria</td><td><span style=white-space:pre-wrap>Firmicutes_A     </span></td><td><span style=white-space:pre-wrap>Clostridia         </span></td><td><span style=white-space:pre-wrap>Oscillospirales      </span></td><td><span style=white-space:pre-wrap>Ruminococcaceae  </span></td><td><span style=white-space:pre-wrap>Faecalibacterium      </span></td><td>NA</td></tr>\n",
       "\t<tr><th scope=row>108</th><td>fb88d5698f31eb7529434b5287e82b1b</td><td><span style=white-space:pre-wrap>  40.1967341</span></td><td>-18.4108717</td><td>1.3586099</td><td> 43.588188</td><td>3.427245e-10</td><td>1m&gt;1w</td><td>2.559010e-09</td><td>DESeq2 man. geoMeans (ds2)</td><td>Bacteria</td><td><span style=white-space:pre-wrap>Firmicutes_A     </span></td><td><span style=white-space:pre-wrap>Clostridia         </span></td><td><span style=white-space:pre-wrap>Lachnospirales       </span></td><td><span style=white-space:pre-wrap>Lachnospiraceae  </span></td><td><span style=white-space:pre-wrap>Agathobacter          </span></td><td>NA</td></tr>\n",
       "\t<tr><th scope=row>109</th><td>fccf9b38f0596644eab0612a5cd57597</td><td><span style=white-space:pre-wrap>  21.4374612</span></td><td>-19.6478844</td><td>1.5077437</td><td> 28.832591</td><td>5.483810e-07</td><td>1m&gt;1w</td><td>2.047289e-06</td><td>DESeq2 man. geoMeans (ds2)</td><td>Bacteria</td><td><span style=white-space:pre-wrap>Firmicutes_A     </span></td><td><span style=white-space:pre-wrap>Clostridia         </span></td><td><span style=white-space:pre-wrap>Lachnospirales       </span></td><td><span style=white-space:pre-wrap>Lachnospiraceae  </span></td><td><span style=white-space:pre-wrap>CAG-65                </span></td><td>NA</td></tr>\n",
       "\t<tr><th scope=row>110</th><td>feea23e3d913f7f737786c4b8ddcacba</td><td>   9.9895276</td><td>  0.0000000</td><td>1.9121429</td><td> 15.111286</td><td>5.231496e-04</td><td>NA   </td><td>1.171855e-03</td><td>DESeq2 man. geoMeans (ds2)</td><td>Bacteria</td><td>Bacteroidota     </td><td>Bacteroidia        </td><td>Bacteroidales        </td><td>Bacteroidaceae   </td><td>Paraprevotella        </td><td>NA</td></tr>\n",
       "\t<tr><th scope=row>112</th><td>aa20f3a40eaf07050443d2555f000f97</td><td>1340.2700549</td><td><span style=white-space:pre-wrap>  0.2989755</span></td><td>0.6815946</td><td> 37.629638</td><td>6.742610e-09</td><td>1w&gt;1m</td><td>3.596059e-08</td><td>DESeq2 man. geoMeans (ds2)</td><td>Bacteria</td><td><span style=white-space:pre-wrap>Firmicutes       </span></td><td><span style=white-space:pre-wrap>Bacilli            </span></td><td><span style=white-space:pre-wrap>Lactobacillales      </span></td><td>Streptococcaceae </td><td><span style=white-space:pre-wrap>Streptococcus         </span></td><td>NA</td></tr>\n",
       "</tbody>\n",
       "</table>\n"
      ],
      "text/latex": [
       "A data.frame: 85 × 16\n",
       "\\begin{tabular}{r|llllllllllllllll}\n",
       "  & Feature & baseMean & log2FoldChange & lfcSE & stat & pval & ordering & pval.adj & Method & Kingdom & Phylum & Class & Order & Family & Genus & Species\\\\\n",
       "  & <chr> & <dbl> & <dbl> & <dbl> & <dbl> & <dbl> & <chr> & <dbl> & <chr> & <chr> & <chr> & <chr> & <chr> & <chr> & <chr> & <chr>\\\\\n",
       "\\hline\n",
       "\t2 & 03a722bba911de891254934069dc8959 &   651.496487 &   0.0459772 & 0.5704140 &  23.978806 & 6.209669e-06 & 1w>1m & 1.987094e-05 & DESeq2 man. geoMeans (ds2) & Bacteria & Firmicutes\\_A     & Clostridia          & Clostridiales         & Clostridiaceae        & Clostridium                  & NA\\\\\n",
       "\t3 & 04ac1aaec7096c309bacf3c0fb0d2311 &     2.197331 &   0.0000000 & 2.2866770 &   8.395499 & 1.502936e-02 & NA    & 2.337900e-02 & DESeq2 man. geoMeans (ds2) & Bacteria & Firmicutes\\_A     & Clostridia          & Lachnospirales        & Lachnospiraceae       & Clostridium\\_Q                & NA\\\\\n",
       "\t4 & 08b21f8171b35ef001832ba1df9b8fbc &  2545.681519 &  -1.0961723 & 0.5678429 &  19.822026 & 4.962514e-05 & 1m>1w & 1.292562e-04 & DESeq2 man. geoMeans (ds2) & Bacteria & Firmicutes\\_C     & Negativicutes       & Veillonellales        & Veillonellaceae       & Veillonella                  & NA\\\\\n",
       "\t5 & 0978d7032689ab3eeef2fc60e4490e11 &    85.004312 &  -1.0748637 & 0.8558008 & 152.700274 & 6.943154e-34 & 1m>1w & 3.888166e-32 & DESeq2 man. geoMeans (ds2) & Bacteria & Firmicutes\\_A     & Clostridia          & Lachnospirales        & Lachnospiraceae       & Lachnospira                  & NA\\\\\n",
       "\t6 & 09efd4982be79756a70f3b739241efda &     4.527625 &  -5.1814351 & 2.5475795 &   7.883272 & 1.941643e-02 & 1m>1w & 2.938702e-02 & DESeq2 man. geoMeans (ds2) & Bacteria & Actinobacteriota & Actinobacteria      & Actinomycetales       & Dermabacteraceae      & Dermabacter                  & NA\\\\\n",
       "\t8 & 0c4ba36f81a215044822bfc2b6533315 &    51.062266 &   5.1464101 & 1.3012732 &  26.325555 & 1.920783e-06 & 1w>1m & 6.874525e-06 & DESeq2 man. geoMeans (ds2) & Bacteria & Proteobacteria   & Gammaproteobacteria & Pseudomonadales       & Moraxellaceae         & Acinetobacter                & NA\\\\\n",
       "\t9 & 107063e8453bf94891c4d7a17b00af07 &    39.170525 &   2.3421718 & 1.7008926 &  16.985866 & 2.049114e-04 & 1w>1m & 4.882995e-04 & DESeq2 man. geoMeans (ds2) & Bacteria & Firmicutes\\_C     & Negativicutes       & Veillonellales        & Veillonellaceae       & Veillonella\\_A                & NA\\\\\n",
       "\t10 & 11d9c9ed1d2d58a9cb0bbcdc93aa3e55 &   278.826390 & -11.5042833 & 1.4722362 &  33.006120 & 6.804750e-08 & 1m>1w & 3.048528e-07 & DESeq2 man. geoMeans (ds2) & Bacteria & Firmicutes       & Bacilli             & Lactobacillales       & Lactobacillaceae      & Lactobacillus\\_H              & NA\\\\\n",
       "\t12 & 1c88ca8aa0ed62fb2fb8bebb8cb25670 &   194.291604 &  -3.4115483 & 0.9727130 &  67.703732 & 1.987565e-15 & 1m>1w & 2.226073e-14 & DESeq2 man. geoMeans (ds2) & Bacteria & Firmicutes\\_A     & Clostridia          & Lachnospirales        & Lachnospiraceae       & Blautia\\_A                    & NA\\\\\n",
       "\t13 & 1d0831cd5450dbff194da1403d5f94f8 &     8.698501 &   0.0000000 & 1.8863857 &  14.867232 & 5.910464e-04 & NA    & 1.297984e-03 & DESeq2 man. geoMeans (ds2) & Bacteria & Proteobacteria   & Alphaproteobacteria & RF32                  & CAG-239               & CAG-495                      & NA\\\\\n",
       "\t14 & 20cfe7f61d18f6525cc71caae0ab28dc &  5977.376654 &  -1.4533950 & 0.5561586 &  23.768228 & 6.899139e-06 & 1m>1w & 2.146399e-05 & DESeq2 man. geoMeans (ds2) & Bacteria & Proteobacteria   & Gammaproteobacteria & Enterobacterales      & Enterobacteriaceae    & Escherichia                  & NA\\\\\n",
       "\t15 & 23fd935effd62858dd84fbd5ecf064e6 &     8.455607 & -17.4159161 & 2.2969786 &   9.635793 & 8.083773e-03 & 1m>1w & 1.422842e-02 & DESeq2 man. geoMeans (ds2) & Bacteria & Proteobacteria   & Gammaproteobacteria & Enterobacterales      & Pasteurellaceae       & Haemophilus\\_A                & NA\\\\\n",
       "\t16 & 25cd6c22fd2bb5fd97c63c527a7ae9c8 &    36.492521 &  -0.5228673 & 1.2066239 &  24.710776 & 4.306488e-06 & 1m>1w & 1.418608e-05 & DESeq2 man. geoMeans (ds2) & Bacteria & Actinobacteriota & Actinobacteria      & Actinomycetales       & Micrococcaceae        & Rothia                       & NA\\\\\n",
       "\t18 & 269e64276a91bc92a9ba3ed05a0e0e0d &    11.628046 &   0.0000000 & 1.6303090 &  22.068847 & 1.613655e-05 & NA    & 4.884577e-05 & DESeq2 man. geoMeans (ds2) & Bacteria & Firmicutes\\_A     & Clostridia          & Oscillospirales       & DTU089                & DTU053                       & NA\\\\\n",
       "\t19 & 2bb792dc76a244c5aff56572237e9ffa &     3.182132 &   0.0000000 & 2.2959381 &   9.520445 & 8.563702e-03 & NA    & 1.475592e-02 & DESeq2 man. geoMeans (ds2) & Bacteria & Firmicutes\\_A     & Clostridia          & Lachnospirales        & Lachnospiraceae       & Eisenbergiella               & NA\\\\\n",
       "\t21 & 2dc26dda3a7735af9bf29c6bc37c2ecc &   108.104811 &  -8.5146162 & 1.3707566 &  25.945930 & 2.322270e-06 & 1m>1w & 7.881645e-06 & DESeq2 man. geoMeans (ds2) & Bacteria & Firmicutes\\_C     & Negativicutes       & Acidaminococcales     & Acidaminococcaceae    & Acidaminococcus              & NA\\\\\n",
       "\t24 & 333fc718c6bccdbf0fd4e4f84d0dd38e &   676.125928 &  -3.4159980 & 0.7698422 & 137.400844 & 1.458095e-30 & 1m>1w & 5.443554e-29 & DESeq2 man. geoMeans (ds2) & Bacteria & Bacteroidota     & Bacteroidia         & Bacteroidales         & Bacteroidaceae        & Prevotella                   & NA\\\\\n",
       "\t26 & 3fe60a0670280b071f93d770e1ff16ee &    10.176028 &   1.9179148 & 1.3019275 &  17.058190 & 1.976338e-04 & 1w>1m & 4.811953e-04 & DESeq2 man. geoMeans (ds2) & Bacteria & Actinobacteriota & Actinobacteria      & Corynebacteriales     & Corynebacteriaceae    & Corynebacterium              & NA\\\\\n",
       "\t28 & 44cec8943a6e384a4f1abadc3e9b7930 &    41.688197 & -26.8635616 & 1.8384787 &  11.366722 & 3.402104e-03 & 1m>1w & 6.458232e-03 & DESeq2 man. geoMeans (ds2) & Bacteria & Firmicutes\\_C     & Negativicutes       & Veillonellales        & Megasphaeraceae       & Anaeroglobus                 & NA\\\\\n",
       "\t29 & 44d9fc4de8898b6c82c69654435a9f0b &   338.048768 &  -2.1922579 & 1.0307000 &  40.738567 & 1.424730e-09 & 1m>1w & 8.398409e-09 & DESeq2 man. geoMeans (ds2) & Bacteria & Firmicutes       & Bacilli             & Lactobacillales       & Lactobacillaceae      & Lactobacillus                & NA\\\\\n",
       "\t30 & 45c4f6f269ec95ff0c8dd594104519e9 &  1937.877564 &   1.6361300 & 1.4945891 &  10.533252 & 5.160995e-03 & 1w>1m & 9.633856e-03 & DESeq2 man. geoMeans (ds2) & Bacteria & Proteobacteria   & Gammaproteobacteria & Enterobacterales      & Enterobacteriaceae    & Citrobacter                  & NA\\\\\n",
       "\t31 & 4bc8e35f3e060dd71a46d502972c5b45 &    15.418482 & -17.7592237 & 2.0877818 &  14.020289 & 9.026783e-04 & 1m>1w & 1.884100e-03 & DESeq2 man. geoMeans (ds2) & Bacteria & Firmicutes\\_A     & Clostridia          & Oscillospirales       & Ruminococcaceae       & Ruminococcus\\_D               & NA\\\\\n",
       "\t32 & 4c407a2fae7af12f863fec08f5e1d8d4 &     3.370780 &   0.0000000 & 1.6029932 &  19.950931 & 4.652756e-05 & NA    & 1.240735e-04 & DESeq2 man. geoMeans (ds2) & Bacteria & Firmicutes\\_A     & Clostridia          & Class\\_Clostridia      & Class\\_Clostridia      & Class\\_Clostridia             & NA\\\\\n",
       "\t33 & 4e8b51098d3b598eadf069dcc96e81aa & 10278.456469 &   0.7668431 & 0.6770911 &  71.418017 & 3.102950e-16 & 1w>1m & 3.861448e-15 & DESeq2 man. geoMeans (ds2) & Bacteria & Proteobacteria   & Gammaproteobacteria & Enterobacterales      & Enterobacteriaceae    & Family\\_Enterobacteriaceae    & NA\\\\\n",
       "\t34 & 4fad93adaab891f153808884f1da1fec &     3.166222 &   0.0000000 & 1.8915104 &  14.007639 & 9.084055e-04 & NA    & 1.884100e-03 & DESeq2 man. geoMeans (ds2) & Bacteria & Firmicutes\\_A     & Clostridia          & CAG-41                & UBA1381               & CAG-41                       & NA\\\\\n",
       "\t35 & 54576c4896c625acff83191d8d1a004e &    12.538527 &  -1.5758093 & 1.4230260 &  30.231005 & 2.725340e-07 & 1m>1w & 1.130511e-06 & DESeq2 man. geoMeans (ds2) & Bacteria & Bacteroidota     & Bacteroidia         & Bacteroidales         & Coprobacteraceae      & Coprobacter                  & NA\\\\\n",
       "\t36 & 54fe524342380c8bf7ed42580bd17deb &    19.384864 &   0.0000000 & 1.4887565 &  30.855439 & 1.994465e-07 & NA    & 8.591544e-07 & DESeq2 man. geoMeans (ds2) & Bacteria & Firmicutes\\_A     & Clostridia          & Oscillospirales       & Order\\_Oscillospirales & Order\\_Oscillospirales        & NA\\\\\n",
       "\t37 & 56eb226a214d3ad80951bea6b746946a &    54.144485 &  -3.5962881 & 1.2368297 &   7.088702 & 2.888736e-02 & 1m>1w & 4.044230e-02 & DESeq2 man. geoMeans (ds2) & Bacteria & Proteobacteria   & Gammaproteobacteria & Betaproteobacteriales & Burkholderiaceae      & Sutterella                   & NA\\\\\n",
       "\t38 & 57face48ec571894748b66cab7c52d5e &    62.572846 & -20.0777013 & 1.2131998 &  60.028578 & 9.224864e-14 & 1m>1w & 7.947575e-13 & DESeq2 man. geoMeans (ds2) & Bacteria & Bacteroidota     & Bacteroidia         & Bacteroidales         & Muribaculaceae        & Family\\_Muribaculaceae        & NA\\\\\n",
       "\t39 & 59edac319b901da207ccca15fa602dfc &    19.511346 &  24.5840133 & 2.5331029 &   7.490617 & 2.362834e-02 & 1w>1m & 3.392787e-02 & DESeq2 man. geoMeans (ds2) & Bacteria & Firmicutes\\_A     & Clostridia          & Peptostreptococcales  & Peptostreptococcaceae & Family\\_Peptostreptococcaceae & NA\\\\\n",
       "\t⋮ & ⋮ & ⋮ & ⋮ & ⋮ & ⋮ & ⋮ & ⋮ & ⋮ & ⋮ & ⋮ & ⋮ & ⋮ & ⋮ & ⋮ & ⋮ & ⋮\\\\\n",
       "\t75 & a3f2abd64e462dc86f8242a90d98ee66 &    2.5019316 &   0.0000000 & 2.5644845 &   7.013590 & 2.999288e-02 & NA    & 4.093176e-02 & DESeq2 man. geoMeans (ds2) & Bacteria & Firmicutes\\_A      & Clostridia          & Oscillospirales       & DTU089            & Eubacterium\\_R          & NA\\\\\n",
       "\t76 & a4ac1cd75e12a7e924dd49b96366a5df &   55.4287225 & -17.8285345 & 1.5441694 &  36.141612 & 1.418890e-08 & 1m>1w & 7.223438e-08 & DESeq2 man. geoMeans (ds2) & Bacteria & Bacteroidota      & Bacteroidia         & Bacteroidales         & Bacteroidaceae    & Bacteroides\\_A          & NA\\\\\n",
       "\t77 & a4e5fa843fb3038e70fc6cb1bb062c58 &    0.8085203 &   0.0000000 & 1.9775665 &   6.900728 & 3.173408e-02 & NA    & 4.231211e-02 & DESeq2 man. geoMeans (ds2) & Bacteria & Firmicutes\\_A      & Clostridia          & Lachnospirales        & Anaerotignaceae   & Anaerotignum           & NA\\\\\n",
       "\t79 & ae90b0ce379ef144d9bb740516265a6c &   10.1088867 &  -5.1146031 & 1.5818332 &   7.799998 & 2.024193e-02 & 1m>1w & 2.944281e-02 & DESeq2 man. geoMeans (ds2) & Bacteria & Firmicutes\\_A      & Clostridia          & Lachnospirales        & Lachnospiraceae   & Hungatella             & NA\\\\\n",
       "\t80 & b213fefdccc6c0e773fe51b1e24aa002 &    4.9661895 &  13.2455946 & 2.3193437 &   7.812032 & 2.012050e-02 & 1w>1m & 2.944281e-02 & DESeq2 man. geoMeans (ds2) & Bacteria & Firmicutes\\_A      & Clostridia          & Oscillospirales       & Ruminococcaceae   & Subdoligranulum        & NA\\\\\n",
       "\t81 & b6592341b951857fdd6c3889f7c90e92 &   16.4927068 &   0.0000000 & 1.3352112 &  44.977205 & 1.711291e-10 & NA    & 1.369033e-09 & DESeq2 man. geoMeans (ds2) & Bacteria & Firmicutes\\_A      & Clostridia          & Lachnospirales        & Lachnospiraceae   & Eubacterium\\_E          & NA\\\\\n",
       "\t82 & b6a1675fa3f43bec37b92541779954a1 &  578.3718680 &   2.6736545 & 1.1553018 &  26.280902 & 1.964150e-06 & 1w>1m & 6.874525e-06 & DESeq2 man. geoMeans (ds2) & Bacteria & Firmicutes        & Bacilli             & Lactobacillales       & Enterococcaceae   & Family\\_Enterococcaceae & NA\\\\\n",
       "\t83 & b6b05223adf86d071fd279f79dc2533c &  655.7311607 &  -1.2170955 & 0.9307766 & 107.847679 & 3.812186e-24 & 1m>1w & 1.067412e-22 & DESeq2 man. geoMeans (ds2) & Bacteria & Verrucomicrobiota & Verrucomicrobiae    & Verrucomicrobiales    & Akkermansiaceae   & Akkermansia            & NA\\\\\n",
       "\t85 & bfe0ef267b9437cc26842e05f6c3e13e &   17.7315412 &   0.0000000 & 0.9892403 &  86.612663 & 1.557038e-19 & NA    & 2.906470e-18 & DESeq2 man. geoMeans (ds2) & Bacteria & Firmicutes\\_A      & Clostridia          & Lachnospirales        & Lachnospiraceae   & Dorea                  & NA\\\\\n",
       "\t86 & c073eaf335852ce09f9b1a8527e5fa75 &    3.2947808 &   0.0000000 & 2.2968789 &   9.624259 & 8.130528e-03 & NA    & 1.422842e-02 & DESeq2 man. geoMeans (ds2) & Bacteria & Firmicutes\\_A      & Clostridia          & Lachnospirales        & Lachnospiraceae   & Blautia                & NA\\\\\n",
       "\t87 & c3337ad671c2e29ae30b948f8c25041d &   12.4370796 &  -3.3989650 & 1.8320575 &   7.807104 & 2.017014e-02 & 1m>1w & 2.944281e-02 & DESeq2 man. geoMeans (ds2) & Bacteria & Actinobacteriota  & Actinobacteria      & Actinomycetales       & Actinomycetaceae  & Actinomyces\\_B          & NA\\\\\n",
       "\t88 & c97908d2d3661f798e98fbf84f1640e9 &    6.5339909 &   0.0000000 & 1.9842414 &  12.133009 & 2.319267e-03 & NA    & 4.478584e-03 & DESeq2 man. geoMeans (ds2) & Bacteria & Firmicutes\\_A      & Clostridia          & Oscillospirales       & Ruminococcaceae   & Ruminiclostridium\\_E    & NA\\\\\n",
       "\t89 & ca5152dd2313e7fe7d25872f10c57f6d &  191.2020633 &  11.9778473 & 1.4492424 &  43.095428 & 4.384769e-10 & 1w>1m & 3.069338e-09 & DESeq2 man. geoMeans (ds2) & Bacteria & Firmicutes        & Bacilli             & Lactobacillales       & Lactobacillaceae  & Lactobacillus\\_B        & NA\\\\\n",
       "\t90 & ccc3cce7144df93b827dc9a9fd18dfaf &  200.1484297 &  -4.0854732 & 1.2620855 &  42.254631 & 6.676111e-10 & 1m>1w & 4.398379e-09 & DESeq2 man. geoMeans (ds2) & Bacteria & Firmicutes        & Bacilli             & Lactobacillales       & Lactobacillaceae  & Lactobacillus\\_C        & NA\\\\\n",
       "\t91 & cde00646e8aecf8aaac49a9bb9c96729 & 1933.0976610 &   2.7073355 & 0.8906384 &  65.284175 & 6.663793e-15 & 1w>1m & 6.219540e-14 & DESeq2 man. geoMeans (ds2) & Bacteria & Firmicutes        & Bacilli             & Staphylococcales      & Staphylococcaceae & Staphylococcus         & NA\\\\\n",
       "\t92 & cf39b94723be8d7c4e5b41f4b20dab44 &   23.7922573 &   0.0000000 & 1.8302025 &  21.074207 & 2.653347e-05 & NA    & 7.429373e-05 & DESeq2 man. geoMeans (ds2) & Bacteria & Proteobacteria    & Gammaproteobacteria & Betaproteobacteriales & Burkholderiaceae  & Parasutterella         & NA\\\\\n",
       "\t93 & d20d3658de331c939f54d8acaed7c4c1 & 5407.9470911 &  -0.7778670 & 0.4835447 &   7.045933 & 2.951175e-02 & 1m>1w & 4.080638e-02 & DESeq2 man. geoMeans (ds2) & Bacteria & Bacteroidota      & Bacteroidia         & Bacteroidales         & Bacteroidaceae    & Bacteroides            & NA\\\\\n",
       "\t95 & dc85940d84ddbd7315db16b14390cb8d & 1310.7737326 &   1.1814106 & 0.9745981 &  21.895615 & 1.759655e-05 & 1w>1m & 5.186352e-05 & DESeq2 man. geoMeans (ds2) & Bacteria & Firmicutes\\_A      & Clostridia          & Clostridiales         & Clostridiaceae    & Clostridium\\_P          & NA\\\\\n",
       "\t96 & e0d214a60c3baff72cd75100c6e4cc28 &    6.2643931 &   0.0000000 & 2.2914749 &   8.893202 & 1.171833e-02 & NA    & 1.930078e-02 & DESeq2 man. geoMeans (ds2) & Bacteria & Firmicutes        & Bacilli             & Haloplasmatales       & Turicibacteraceae & Turicibacter           & NA\\\\\n",
       "\t99 & e2f7aa19c11e3adf96a7030321b7e2e4 &    9.0859651 &   0.0000000 & 1.4437836 &  33.109310 & 6.462561e-08 & NA    & 3.015862e-07 & DESeq2 man. geoMeans (ds2) & Bacteria & Firmicutes\\_A      & Clostridia          & Lachnospirales        & Lachnospiraceae   & CAG-81                 & NA\\\\\n",
       "\t101 & e8c0f8c73ce984d11e89e3e13b6b21e4 &   25.0735943 &  -2.4896135 & 1.4743068 &  29.551421 & 3.828164e-07 & 1m>1w & 1.478463e-06 & DESeq2 man. geoMeans (ds2) & Bacteria & Firmicutes\\_A      & Clostridia          & Oscillospirales       & Oscillospiraceae  & Flavonifractor         & NA\\\\\n",
       "\t102 & ef5a779b6dab7f364d042205f39beb43 &   28.8310823 &  -2.3667077 & 1.5707066 &  13.351218 & 1.261304e-03 & 1m>1w & 2.568473e-03 & DESeq2 man. geoMeans (ds2) & Bacteria & Firmicutes\\_C      & Negativicutes       & Veillonellales        & Dialisteraceae    & Dialister              & NA\\\\\n",
       "\t103 & efe2ef829cdc0a2cf36f8c27f96678d7 &   30.9641012 &  -7.8253498 & 1.3905539 &  35.811920 & 1.673172e-08 & 1m>1w & 8.147618e-08 & DESeq2 man. geoMeans (ds2) & Bacteria & Firmicutes\\_A      & Clostridia          & Tissierellales        & Helcococcaceae    & Anaerococcus           & NA\\\\\n",
       "\t104 & f19f6eb0e557605030b949da68e33a3d &   37.3058357 & -19.6289057 & 1.3709060 &  38.669999 & 4.007895e-09 & 1m>1w & 2.244421e-08 & DESeq2 man. geoMeans (ds2) & Bacteria & Firmicutes\\_A      & Clostridia          & Lachnospirales        & Lachnospiraceae   & 992a                   & NA\\\\\n",
       "\t106 & f4a2f44c453707eee491e184a4c7b528 &    7.3065976 &  -3.0134694 & 2.2993407 &   9.329148 & 9.423260e-03 & 1m>1w & 1.575231e-02 & DESeq2 man. geoMeans (ds2) & Bacteria & Firmicutes\\_A      & Clostridia          & Lachnospirales        & Lachnospiraceae   & Hungatella\\_A           & NA\\\\\n",
       "\t107 & f5ab8244460d1988b40f85a9347297c7 &  710.9478067 &  -3.0616207 & 0.6834898 & 299.264023 & 1.036676e-65 & 1m>1w & 1.161077e-63 & DESeq2 man. geoMeans (ds2) & Bacteria & Firmicutes\\_A      & Clostridia          & Oscillospirales       & Ruminococcaceae   & Faecalibacterium       & NA\\\\\n",
       "\t108 & fb88d5698f31eb7529434b5287e82b1b &   40.1967341 & -18.4108717 & 1.3586099 &  43.588188 & 3.427245e-10 & 1m>1w & 2.559010e-09 & DESeq2 man. geoMeans (ds2) & Bacteria & Firmicutes\\_A      & Clostridia          & Lachnospirales        & Lachnospiraceae   & Agathobacter           & NA\\\\\n",
       "\t109 & fccf9b38f0596644eab0612a5cd57597 &   21.4374612 & -19.6478844 & 1.5077437 &  28.832591 & 5.483810e-07 & 1m>1w & 2.047289e-06 & DESeq2 man. geoMeans (ds2) & Bacteria & Firmicutes\\_A      & Clostridia          & Lachnospirales        & Lachnospiraceae   & CAG-65                 & NA\\\\\n",
       "\t110 & feea23e3d913f7f737786c4b8ddcacba &    9.9895276 &   0.0000000 & 1.9121429 &  15.111286 & 5.231496e-04 & NA    & 1.171855e-03 & DESeq2 man. geoMeans (ds2) & Bacteria & Bacteroidota      & Bacteroidia         & Bacteroidales         & Bacteroidaceae    & Paraprevotella         & NA\\\\\n",
       "\t112 & aa20f3a40eaf07050443d2555f000f97 & 1340.2700549 &   0.2989755 & 0.6815946 &  37.629638 & 6.742610e-09 & 1w>1m & 3.596059e-08 & DESeq2 man. geoMeans (ds2) & Bacteria & Firmicutes        & Bacilli             & Lactobacillales       & Streptococcaceae  & Streptococcus          & NA\\\\\n",
       "\\end{tabular}\n"
      ],
      "text/markdown": [
       "\n",
       "A data.frame: 85 × 16\n",
       "\n",
       "| <!--/--> | Feature &lt;chr&gt; | baseMean &lt;dbl&gt; | log2FoldChange &lt;dbl&gt; | lfcSE &lt;dbl&gt; | stat &lt;dbl&gt; | pval &lt;dbl&gt; | ordering &lt;chr&gt; | pval.adj &lt;dbl&gt; | Method &lt;chr&gt; | Kingdom &lt;chr&gt; | Phylum &lt;chr&gt; | Class &lt;chr&gt; | Order &lt;chr&gt; | Family &lt;chr&gt; | Genus &lt;chr&gt; | Species &lt;chr&gt; |\n",
       "|---|---|---|---|---|---|---|---|---|---|---|---|---|---|---|---|---|\n",
       "| 2 | 03a722bba911de891254934069dc8959 |   651.496487 |   0.0459772 | 0.5704140 |  23.978806 | 6.209669e-06 | 1w&gt;1m | 1.987094e-05 | DESeq2 man. geoMeans (ds2) | Bacteria | Firmicutes_A     | Clostridia          | Clostridiales         | Clostridiaceae        | Clostridium                  | NA |\n",
       "| 3 | 04ac1aaec7096c309bacf3c0fb0d2311 |     2.197331 |   0.0000000 | 2.2866770 |   8.395499 | 1.502936e-02 | NA    | 2.337900e-02 | DESeq2 man. geoMeans (ds2) | Bacteria | Firmicutes_A     | Clostridia          | Lachnospirales        | Lachnospiraceae       | Clostridium_Q                | NA |\n",
       "| 4 | 08b21f8171b35ef001832ba1df9b8fbc |  2545.681519 |  -1.0961723 | 0.5678429 |  19.822026 | 4.962514e-05 | 1m&gt;1w | 1.292562e-04 | DESeq2 man. geoMeans (ds2) | Bacteria | Firmicutes_C     | Negativicutes       | Veillonellales        | Veillonellaceae       | Veillonella                  | NA |\n",
       "| 5 | 0978d7032689ab3eeef2fc60e4490e11 |    85.004312 |  -1.0748637 | 0.8558008 | 152.700274 | 6.943154e-34 | 1m&gt;1w | 3.888166e-32 | DESeq2 man. geoMeans (ds2) | Bacteria | Firmicutes_A     | Clostridia          | Lachnospirales        | Lachnospiraceae       | Lachnospira                  | NA |\n",
       "| 6 | 09efd4982be79756a70f3b739241efda |     4.527625 |  -5.1814351 | 2.5475795 |   7.883272 | 1.941643e-02 | 1m&gt;1w | 2.938702e-02 | DESeq2 man. geoMeans (ds2) | Bacteria | Actinobacteriota | Actinobacteria      | Actinomycetales       | Dermabacteraceae      | Dermabacter                  | NA |\n",
       "| 8 | 0c4ba36f81a215044822bfc2b6533315 |    51.062266 |   5.1464101 | 1.3012732 |  26.325555 | 1.920783e-06 | 1w&gt;1m | 6.874525e-06 | DESeq2 man. geoMeans (ds2) | Bacteria | Proteobacteria   | Gammaproteobacteria | Pseudomonadales       | Moraxellaceae         | Acinetobacter                | NA |\n",
       "| 9 | 107063e8453bf94891c4d7a17b00af07 |    39.170525 |   2.3421718 | 1.7008926 |  16.985866 | 2.049114e-04 | 1w&gt;1m | 4.882995e-04 | DESeq2 man. geoMeans (ds2) | Bacteria | Firmicutes_C     | Negativicutes       | Veillonellales        | Veillonellaceae       | Veillonella_A                | NA |\n",
       "| 10 | 11d9c9ed1d2d58a9cb0bbcdc93aa3e55 |   278.826390 | -11.5042833 | 1.4722362 |  33.006120 | 6.804750e-08 | 1m&gt;1w | 3.048528e-07 | DESeq2 man. geoMeans (ds2) | Bacteria | Firmicutes       | Bacilli             | Lactobacillales       | Lactobacillaceae      | Lactobacillus_H              | NA |\n",
       "| 12 | 1c88ca8aa0ed62fb2fb8bebb8cb25670 |   194.291604 |  -3.4115483 | 0.9727130 |  67.703732 | 1.987565e-15 | 1m&gt;1w | 2.226073e-14 | DESeq2 man. geoMeans (ds2) | Bacteria | Firmicutes_A     | Clostridia          | Lachnospirales        | Lachnospiraceae       | Blautia_A                    | NA |\n",
       "| 13 | 1d0831cd5450dbff194da1403d5f94f8 |     8.698501 |   0.0000000 | 1.8863857 |  14.867232 | 5.910464e-04 | NA    | 1.297984e-03 | DESeq2 man. geoMeans (ds2) | Bacteria | Proteobacteria   | Alphaproteobacteria | RF32                  | CAG-239               | CAG-495                      | NA |\n",
       "| 14 | 20cfe7f61d18f6525cc71caae0ab28dc |  5977.376654 |  -1.4533950 | 0.5561586 |  23.768228 | 6.899139e-06 | 1m&gt;1w | 2.146399e-05 | DESeq2 man. geoMeans (ds2) | Bacteria | Proteobacteria   | Gammaproteobacteria | Enterobacterales      | Enterobacteriaceae    | Escherichia                  | NA |\n",
       "| 15 | 23fd935effd62858dd84fbd5ecf064e6 |     8.455607 | -17.4159161 | 2.2969786 |   9.635793 | 8.083773e-03 | 1m&gt;1w | 1.422842e-02 | DESeq2 man. geoMeans (ds2) | Bacteria | Proteobacteria   | Gammaproteobacteria | Enterobacterales      | Pasteurellaceae       | Haemophilus_A                | NA |\n",
       "| 16 | 25cd6c22fd2bb5fd97c63c527a7ae9c8 |    36.492521 |  -0.5228673 | 1.2066239 |  24.710776 | 4.306488e-06 | 1m&gt;1w | 1.418608e-05 | DESeq2 man. geoMeans (ds2) | Bacteria | Actinobacteriota | Actinobacteria      | Actinomycetales       | Micrococcaceae        | Rothia                       | NA |\n",
       "| 18 | 269e64276a91bc92a9ba3ed05a0e0e0d |    11.628046 |   0.0000000 | 1.6303090 |  22.068847 | 1.613655e-05 | NA    | 4.884577e-05 | DESeq2 man. geoMeans (ds2) | Bacteria | Firmicutes_A     | Clostridia          | Oscillospirales       | DTU089                | DTU053                       | NA |\n",
       "| 19 | 2bb792dc76a244c5aff56572237e9ffa |     3.182132 |   0.0000000 | 2.2959381 |   9.520445 | 8.563702e-03 | NA    | 1.475592e-02 | DESeq2 man. geoMeans (ds2) | Bacteria | Firmicutes_A     | Clostridia          | Lachnospirales        | Lachnospiraceae       | Eisenbergiella               | NA |\n",
       "| 21 | 2dc26dda3a7735af9bf29c6bc37c2ecc |   108.104811 |  -8.5146162 | 1.3707566 |  25.945930 | 2.322270e-06 | 1m&gt;1w | 7.881645e-06 | DESeq2 man. geoMeans (ds2) | Bacteria | Firmicutes_C     | Negativicutes       | Acidaminococcales     | Acidaminococcaceae    | Acidaminococcus              | NA |\n",
       "| 24 | 333fc718c6bccdbf0fd4e4f84d0dd38e |   676.125928 |  -3.4159980 | 0.7698422 | 137.400844 | 1.458095e-30 | 1m&gt;1w | 5.443554e-29 | DESeq2 man. geoMeans (ds2) | Bacteria | Bacteroidota     | Bacteroidia         | Bacteroidales         | Bacteroidaceae        | Prevotella                   | NA |\n",
       "| 26 | 3fe60a0670280b071f93d770e1ff16ee |    10.176028 |   1.9179148 | 1.3019275 |  17.058190 | 1.976338e-04 | 1w&gt;1m | 4.811953e-04 | DESeq2 man. geoMeans (ds2) | Bacteria | Actinobacteriota | Actinobacteria      | Corynebacteriales     | Corynebacteriaceae    | Corynebacterium              | NA |\n",
       "| 28 | 44cec8943a6e384a4f1abadc3e9b7930 |    41.688197 | -26.8635616 | 1.8384787 |  11.366722 | 3.402104e-03 | 1m&gt;1w | 6.458232e-03 | DESeq2 man. geoMeans (ds2) | Bacteria | Firmicutes_C     | Negativicutes       | Veillonellales        | Megasphaeraceae       | Anaeroglobus                 | NA |\n",
       "| 29 | 44d9fc4de8898b6c82c69654435a9f0b |   338.048768 |  -2.1922579 | 1.0307000 |  40.738567 | 1.424730e-09 | 1m&gt;1w | 8.398409e-09 | DESeq2 man. geoMeans (ds2) | Bacteria | Firmicutes       | Bacilli             | Lactobacillales       | Lactobacillaceae      | Lactobacillus                | NA |\n",
       "| 30 | 45c4f6f269ec95ff0c8dd594104519e9 |  1937.877564 |   1.6361300 | 1.4945891 |  10.533252 | 5.160995e-03 | 1w&gt;1m | 9.633856e-03 | DESeq2 man. geoMeans (ds2) | Bacteria | Proteobacteria   | Gammaproteobacteria | Enterobacterales      | Enterobacteriaceae    | Citrobacter                  | NA |\n",
       "| 31 | 4bc8e35f3e060dd71a46d502972c5b45 |    15.418482 | -17.7592237 | 2.0877818 |  14.020289 | 9.026783e-04 | 1m&gt;1w | 1.884100e-03 | DESeq2 man. geoMeans (ds2) | Bacteria | Firmicutes_A     | Clostridia          | Oscillospirales       | Ruminococcaceae       | Ruminococcus_D               | NA |\n",
       "| 32 | 4c407a2fae7af12f863fec08f5e1d8d4 |     3.370780 |   0.0000000 | 1.6029932 |  19.950931 | 4.652756e-05 | NA    | 1.240735e-04 | DESeq2 man. geoMeans (ds2) | Bacteria | Firmicutes_A     | Clostridia          | Class_Clostridia      | Class_Clostridia      | Class_Clostridia             | NA |\n",
       "| 33 | 4e8b51098d3b598eadf069dcc96e81aa | 10278.456469 |   0.7668431 | 0.6770911 |  71.418017 | 3.102950e-16 | 1w&gt;1m | 3.861448e-15 | DESeq2 man. geoMeans (ds2) | Bacteria | Proteobacteria   | Gammaproteobacteria | Enterobacterales      | Enterobacteriaceae    | Family_Enterobacteriaceae    | NA |\n",
       "| 34 | 4fad93adaab891f153808884f1da1fec |     3.166222 |   0.0000000 | 1.8915104 |  14.007639 | 9.084055e-04 | NA    | 1.884100e-03 | DESeq2 man. geoMeans (ds2) | Bacteria | Firmicutes_A     | Clostridia          | CAG-41                | UBA1381               | CAG-41                       | NA |\n",
       "| 35 | 54576c4896c625acff83191d8d1a004e |    12.538527 |  -1.5758093 | 1.4230260 |  30.231005 | 2.725340e-07 | 1m&gt;1w | 1.130511e-06 | DESeq2 man. geoMeans (ds2) | Bacteria | Bacteroidota     | Bacteroidia         | Bacteroidales         | Coprobacteraceae      | Coprobacter                  | NA |\n",
       "| 36 | 54fe524342380c8bf7ed42580bd17deb |    19.384864 |   0.0000000 | 1.4887565 |  30.855439 | 1.994465e-07 | NA    | 8.591544e-07 | DESeq2 man. geoMeans (ds2) | Bacteria | Firmicutes_A     | Clostridia          | Oscillospirales       | Order_Oscillospirales | Order_Oscillospirales        | NA |\n",
       "| 37 | 56eb226a214d3ad80951bea6b746946a |    54.144485 |  -3.5962881 | 1.2368297 |   7.088702 | 2.888736e-02 | 1m&gt;1w | 4.044230e-02 | DESeq2 man. geoMeans (ds2) | Bacteria | Proteobacteria   | Gammaproteobacteria | Betaproteobacteriales | Burkholderiaceae      | Sutterella                   | NA |\n",
       "| 38 | 57face48ec571894748b66cab7c52d5e |    62.572846 | -20.0777013 | 1.2131998 |  60.028578 | 9.224864e-14 | 1m&gt;1w | 7.947575e-13 | DESeq2 man. geoMeans (ds2) | Bacteria | Bacteroidota     | Bacteroidia         | Bacteroidales         | Muribaculaceae        | Family_Muribaculaceae        | NA |\n",
       "| 39 | 59edac319b901da207ccca15fa602dfc |    19.511346 |  24.5840133 | 2.5331029 |   7.490617 | 2.362834e-02 | 1w&gt;1m | 3.392787e-02 | DESeq2 man. geoMeans (ds2) | Bacteria | Firmicutes_A     | Clostridia          | Peptostreptococcales  | Peptostreptococcaceae | Family_Peptostreptococcaceae | NA |\n",
       "| ⋮ | ⋮ | ⋮ | ⋮ | ⋮ | ⋮ | ⋮ | ⋮ | ⋮ | ⋮ | ⋮ | ⋮ | ⋮ | ⋮ | ⋮ | ⋮ | ⋮ |\n",
       "| 75 | a3f2abd64e462dc86f8242a90d98ee66 |    2.5019316 |   0.0000000 | 2.5644845 |   7.013590 | 2.999288e-02 | NA    | 4.093176e-02 | DESeq2 man. geoMeans (ds2) | Bacteria | Firmicutes_A      | Clostridia          | Oscillospirales       | DTU089            | Eubacterium_R          | NA |\n",
       "| 76 | a4ac1cd75e12a7e924dd49b96366a5df |   55.4287225 | -17.8285345 | 1.5441694 |  36.141612 | 1.418890e-08 | 1m&gt;1w | 7.223438e-08 | DESeq2 man. geoMeans (ds2) | Bacteria | Bacteroidota      | Bacteroidia         | Bacteroidales         | Bacteroidaceae    | Bacteroides_A          | NA |\n",
       "| 77 | a4e5fa843fb3038e70fc6cb1bb062c58 |    0.8085203 |   0.0000000 | 1.9775665 |   6.900728 | 3.173408e-02 | NA    | 4.231211e-02 | DESeq2 man. geoMeans (ds2) | Bacteria | Firmicutes_A      | Clostridia          | Lachnospirales        | Anaerotignaceae   | Anaerotignum           | NA |\n",
       "| 79 | ae90b0ce379ef144d9bb740516265a6c |   10.1088867 |  -5.1146031 | 1.5818332 |   7.799998 | 2.024193e-02 | 1m&gt;1w | 2.944281e-02 | DESeq2 man. geoMeans (ds2) | Bacteria | Firmicutes_A      | Clostridia          | Lachnospirales        | Lachnospiraceae   | Hungatella             | NA |\n",
       "| 80 | b213fefdccc6c0e773fe51b1e24aa002 |    4.9661895 |  13.2455946 | 2.3193437 |   7.812032 | 2.012050e-02 | 1w&gt;1m | 2.944281e-02 | DESeq2 man. geoMeans (ds2) | Bacteria | Firmicutes_A      | Clostridia          | Oscillospirales       | Ruminococcaceae   | Subdoligranulum        | NA |\n",
       "| 81 | b6592341b951857fdd6c3889f7c90e92 |   16.4927068 |   0.0000000 | 1.3352112 |  44.977205 | 1.711291e-10 | NA    | 1.369033e-09 | DESeq2 man. geoMeans (ds2) | Bacteria | Firmicutes_A      | Clostridia          | Lachnospirales        | Lachnospiraceae   | Eubacterium_E          | NA |\n",
       "| 82 | b6a1675fa3f43bec37b92541779954a1 |  578.3718680 |   2.6736545 | 1.1553018 |  26.280902 | 1.964150e-06 | 1w&gt;1m | 6.874525e-06 | DESeq2 man. geoMeans (ds2) | Bacteria | Firmicutes        | Bacilli             | Lactobacillales       | Enterococcaceae   | Family_Enterococcaceae | NA |\n",
       "| 83 | b6b05223adf86d071fd279f79dc2533c |  655.7311607 |  -1.2170955 | 0.9307766 | 107.847679 | 3.812186e-24 | 1m&gt;1w | 1.067412e-22 | DESeq2 man. geoMeans (ds2) | Bacteria | Verrucomicrobiota | Verrucomicrobiae    | Verrucomicrobiales    | Akkermansiaceae   | Akkermansia            | NA |\n",
       "| 85 | bfe0ef267b9437cc26842e05f6c3e13e |   17.7315412 |   0.0000000 | 0.9892403 |  86.612663 | 1.557038e-19 | NA    | 2.906470e-18 | DESeq2 man. geoMeans (ds2) | Bacteria | Firmicutes_A      | Clostridia          | Lachnospirales        | Lachnospiraceae   | Dorea                  | NA |\n",
       "| 86 | c073eaf335852ce09f9b1a8527e5fa75 |    3.2947808 |   0.0000000 | 2.2968789 |   9.624259 | 8.130528e-03 | NA    | 1.422842e-02 | DESeq2 man. geoMeans (ds2) | Bacteria | Firmicutes_A      | Clostridia          | Lachnospirales        | Lachnospiraceae   | Blautia                | NA |\n",
       "| 87 | c3337ad671c2e29ae30b948f8c25041d |   12.4370796 |  -3.3989650 | 1.8320575 |   7.807104 | 2.017014e-02 | 1m&gt;1w | 2.944281e-02 | DESeq2 man. geoMeans (ds2) | Bacteria | Actinobacteriota  | Actinobacteria      | Actinomycetales       | Actinomycetaceae  | Actinomyces_B          | NA |\n",
       "| 88 | c97908d2d3661f798e98fbf84f1640e9 |    6.5339909 |   0.0000000 | 1.9842414 |  12.133009 | 2.319267e-03 | NA    | 4.478584e-03 | DESeq2 man. geoMeans (ds2) | Bacteria | Firmicutes_A      | Clostridia          | Oscillospirales       | Ruminococcaceae   | Ruminiclostridium_E    | NA |\n",
       "| 89 | ca5152dd2313e7fe7d25872f10c57f6d |  191.2020633 |  11.9778473 | 1.4492424 |  43.095428 | 4.384769e-10 | 1w&gt;1m | 3.069338e-09 | DESeq2 man. geoMeans (ds2) | Bacteria | Firmicutes        | Bacilli             | Lactobacillales       | Lactobacillaceae  | Lactobacillus_B        | NA |\n",
       "| 90 | ccc3cce7144df93b827dc9a9fd18dfaf |  200.1484297 |  -4.0854732 | 1.2620855 |  42.254631 | 6.676111e-10 | 1m&gt;1w | 4.398379e-09 | DESeq2 man. geoMeans (ds2) | Bacteria | Firmicutes        | Bacilli             | Lactobacillales       | Lactobacillaceae  | Lactobacillus_C        | NA |\n",
       "| 91 | cde00646e8aecf8aaac49a9bb9c96729 | 1933.0976610 |   2.7073355 | 0.8906384 |  65.284175 | 6.663793e-15 | 1w&gt;1m | 6.219540e-14 | DESeq2 man. geoMeans (ds2) | Bacteria | Firmicutes        | Bacilli             | Staphylococcales      | Staphylococcaceae | Staphylococcus         | NA |\n",
       "| 92 | cf39b94723be8d7c4e5b41f4b20dab44 |   23.7922573 |   0.0000000 | 1.8302025 |  21.074207 | 2.653347e-05 | NA    | 7.429373e-05 | DESeq2 man. geoMeans (ds2) | Bacteria | Proteobacteria    | Gammaproteobacteria | Betaproteobacteriales | Burkholderiaceae  | Parasutterella         | NA |\n",
       "| 93 | d20d3658de331c939f54d8acaed7c4c1 | 5407.9470911 |  -0.7778670 | 0.4835447 |   7.045933 | 2.951175e-02 | 1m&gt;1w | 4.080638e-02 | DESeq2 man. geoMeans (ds2) | Bacteria | Bacteroidota      | Bacteroidia         | Bacteroidales         | Bacteroidaceae    | Bacteroides            | NA |\n",
       "| 95 | dc85940d84ddbd7315db16b14390cb8d | 1310.7737326 |   1.1814106 | 0.9745981 |  21.895615 | 1.759655e-05 | 1w&gt;1m | 5.186352e-05 | DESeq2 man. geoMeans (ds2) | Bacteria | Firmicutes_A      | Clostridia          | Clostridiales         | Clostridiaceae    | Clostridium_P          | NA |\n",
       "| 96 | e0d214a60c3baff72cd75100c6e4cc28 |    6.2643931 |   0.0000000 | 2.2914749 |   8.893202 | 1.171833e-02 | NA    | 1.930078e-02 | DESeq2 man. geoMeans (ds2) | Bacteria | Firmicutes        | Bacilli             | Haloplasmatales       | Turicibacteraceae | Turicibacter           | NA |\n",
       "| 99 | e2f7aa19c11e3adf96a7030321b7e2e4 |    9.0859651 |   0.0000000 | 1.4437836 |  33.109310 | 6.462561e-08 | NA    | 3.015862e-07 | DESeq2 man. geoMeans (ds2) | Bacteria | Firmicutes_A      | Clostridia          | Lachnospirales        | Lachnospiraceae   | CAG-81                 | NA |\n",
       "| 101 | e8c0f8c73ce984d11e89e3e13b6b21e4 |   25.0735943 |  -2.4896135 | 1.4743068 |  29.551421 | 3.828164e-07 | 1m&gt;1w | 1.478463e-06 | DESeq2 man. geoMeans (ds2) | Bacteria | Firmicutes_A      | Clostridia          | Oscillospirales       | Oscillospiraceae  | Flavonifractor         | NA |\n",
       "| 102 | ef5a779b6dab7f364d042205f39beb43 |   28.8310823 |  -2.3667077 | 1.5707066 |  13.351218 | 1.261304e-03 | 1m&gt;1w | 2.568473e-03 | DESeq2 man. geoMeans (ds2) | Bacteria | Firmicutes_C      | Negativicutes       | Veillonellales        | Dialisteraceae    | Dialister              | NA |\n",
       "| 103 | efe2ef829cdc0a2cf36f8c27f96678d7 |   30.9641012 |  -7.8253498 | 1.3905539 |  35.811920 | 1.673172e-08 | 1m&gt;1w | 8.147618e-08 | DESeq2 man. geoMeans (ds2) | Bacteria | Firmicutes_A      | Clostridia          | Tissierellales        | Helcococcaceae    | Anaerococcus           | NA |\n",
       "| 104 | f19f6eb0e557605030b949da68e33a3d |   37.3058357 | -19.6289057 | 1.3709060 |  38.669999 | 4.007895e-09 | 1m&gt;1w | 2.244421e-08 | DESeq2 man. geoMeans (ds2) | Bacteria | Firmicutes_A      | Clostridia          | Lachnospirales        | Lachnospiraceae   | 992a                   | NA |\n",
       "| 106 | f4a2f44c453707eee491e184a4c7b528 |    7.3065976 |  -3.0134694 | 2.2993407 |   9.329148 | 9.423260e-03 | 1m&gt;1w | 1.575231e-02 | DESeq2 man. geoMeans (ds2) | Bacteria | Firmicutes_A      | Clostridia          | Lachnospirales        | Lachnospiraceae   | Hungatella_A           | NA |\n",
       "| 107 | f5ab8244460d1988b40f85a9347297c7 |  710.9478067 |  -3.0616207 | 0.6834898 | 299.264023 | 1.036676e-65 | 1m&gt;1w | 1.161077e-63 | DESeq2 man. geoMeans (ds2) | Bacteria | Firmicutes_A      | Clostridia          | Oscillospirales       | Ruminococcaceae   | Faecalibacterium       | NA |\n",
       "| 108 | fb88d5698f31eb7529434b5287e82b1b |   40.1967341 | -18.4108717 | 1.3586099 |  43.588188 | 3.427245e-10 | 1m&gt;1w | 2.559010e-09 | DESeq2 man. geoMeans (ds2) | Bacteria | Firmicutes_A      | Clostridia          | Lachnospirales        | Lachnospiraceae   | Agathobacter           | NA |\n",
       "| 109 | fccf9b38f0596644eab0612a5cd57597 |   21.4374612 | -19.6478844 | 1.5077437 |  28.832591 | 5.483810e-07 | 1m&gt;1w | 2.047289e-06 | DESeq2 man. geoMeans (ds2) | Bacteria | Firmicutes_A      | Clostridia          | Lachnospirales        | Lachnospiraceae   | CAG-65                 | NA |\n",
       "| 110 | feea23e3d913f7f737786c4b8ddcacba |    9.9895276 |   0.0000000 | 1.9121429 |  15.111286 | 5.231496e-04 | NA    | 1.171855e-03 | DESeq2 man. geoMeans (ds2) | Bacteria | Bacteroidota      | Bacteroidia         | Bacteroidales         | Bacteroidaceae    | Paraprevotella         | NA |\n",
       "| 112 | aa20f3a40eaf07050443d2555f000f97 | 1340.2700549 |   0.2989755 | 0.6815946 |  37.629638 | 6.742610e-09 | 1w&gt;1m | 3.596059e-08 | DESeq2 man. geoMeans (ds2) | Bacteria | Firmicutes        | Bacilli             | Lactobacillales       | Streptococcaceae  | Streptococcus          | NA |\n",
       "\n"
      ],
      "text/plain": [
       "    Feature                          baseMean     log2FoldChange lfcSE    \n",
       "2   03a722bba911de891254934069dc8959   651.496487   0.0459772    0.5704140\n",
       "3   04ac1aaec7096c309bacf3c0fb0d2311     2.197331   0.0000000    2.2866770\n",
       "4   08b21f8171b35ef001832ba1df9b8fbc  2545.681519  -1.0961723    0.5678429\n",
       "5   0978d7032689ab3eeef2fc60e4490e11    85.004312  -1.0748637    0.8558008\n",
       "6   09efd4982be79756a70f3b739241efda     4.527625  -5.1814351    2.5475795\n",
       "8   0c4ba36f81a215044822bfc2b6533315    51.062266   5.1464101    1.3012732\n",
       "9   107063e8453bf94891c4d7a17b00af07    39.170525   2.3421718    1.7008926\n",
       "10  11d9c9ed1d2d58a9cb0bbcdc93aa3e55   278.826390 -11.5042833    1.4722362\n",
       "12  1c88ca8aa0ed62fb2fb8bebb8cb25670   194.291604  -3.4115483    0.9727130\n",
       "13  1d0831cd5450dbff194da1403d5f94f8     8.698501   0.0000000    1.8863857\n",
       "14  20cfe7f61d18f6525cc71caae0ab28dc  5977.376654  -1.4533950    0.5561586\n",
       "15  23fd935effd62858dd84fbd5ecf064e6     8.455607 -17.4159161    2.2969786\n",
       "16  25cd6c22fd2bb5fd97c63c527a7ae9c8    36.492521  -0.5228673    1.2066239\n",
       "18  269e64276a91bc92a9ba3ed05a0e0e0d    11.628046   0.0000000    1.6303090\n",
       "19  2bb792dc76a244c5aff56572237e9ffa     3.182132   0.0000000    2.2959381\n",
       "21  2dc26dda3a7735af9bf29c6bc37c2ecc   108.104811  -8.5146162    1.3707566\n",
       "24  333fc718c6bccdbf0fd4e4f84d0dd38e   676.125928  -3.4159980    0.7698422\n",
       "26  3fe60a0670280b071f93d770e1ff16ee    10.176028   1.9179148    1.3019275\n",
       "28  44cec8943a6e384a4f1abadc3e9b7930    41.688197 -26.8635616    1.8384787\n",
       "29  44d9fc4de8898b6c82c69654435a9f0b   338.048768  -2.1922579    1.0307000\n",
       "30  45c4f6f269ec95ff0c8dd594104519e9  1937.877564   1.6361300    1.4945891\n",
       "31  4bc8e35f3e060dd71a46d502972c5b45    15.418482 -17.7592237    2.0877818\n",
       "32  4c407a2fae7af12f863fec08f5e1d8d4     3.370780   0.0000000    1.6029932\n",
       "33  4e8b51098d3b598eadf069dcc96e81aa 10278.456469   0.7668431    0.6770911\n",
       "34  4fad93adaab891f153808884f1da1fec     3.166222   0.0000000    1.8915104\n",
       "35  54576c4896c625acff83191d8d1a004e    12.538527  -1.5758093    1.4230260\n",
       "36  54fe524342380c8bf7ed42580bd17deb    19.384864   0.0000000    1.4887565\n",
       "37  56eb226a214d3ad80951bea6b746946a    54.144485  -3.5962881    1.2368297\n",
       "38  57face48ec571894748b66cab7c52d5e    62.572846 -20.0777013    1.2131998\n",
       "39  59edac319b901da207ccca15fa602dfc    19.511346  24.5840133    2.5331029\n",
       "<U+22EE>   <U+22EE>                         <U+22EE>     <U+22EE>       <U+22EE> \n",
       "75  a3f2abd64e462dc86f8242a90d98ee66    2.5019316   0.0000000    2.5644845\n",
       "76  a4ac1cd75e12a7e924dd49b96366a5df   55.4287225 -17.8285345    1.5441694\n",
       "77  a4e5fa843fb3038e70fc6cb1bb062c58    0.8085203   0.0000000    1.9775665\n",
       "79  ae90b0ce379ef144d9bb740516265a6c   10.1088867  -5.1146031    1.5818332\n",
       "80  b213fefdccc6c0e773fe51b1e24aa002    4.9661895  13.2455946    2.3193437\n",
       "81  b6592341b951857fdd6c3889f7c90e92   16.4927068   0.0000000    1.3352112\n",
       "82  b6a1675fa3f43bec37b92541779954a1  578.3718680   2.6736545    1.1553018\n",
       "83  b6b05223adf86d071fd279f79dc2533c  655.7311607  -1.2170955    0.9307766\n",
       "85  bfe0ef267b9437cc26842e05f6c3e13e   17.7315412   0.0000000    0.9892403\n",
       "86  c073eaf335852ce09f9b1a8527e5fa75    3.2947808   0.0000000    2.2968789\n",
       "87  c3337ad671c2e29ae30b948f8c25041d   12.4370796  -3.3989650    1.8320575\n",
       "88  c97908d2d3661f798e98fbf84f1640e9    6.5339909   0.0000000    1.9842414\n",
       "89  ca5152dd2313e7fe7d25872f10c57f6d  191.2020633  11.9778473    1.4492424\n",
       "90  ccc3cce7144df93b827dc9a9fd18dfaf  200.1484297  -4.0854732    1.2620855\n",
       "91  cde00646e8aecf8aaac49a9bb9c96729 1933.0976610   2.7073355    0.8906384\n",
       "92  cf39b94723be8d7c4e5b41f4b20dab44   23.7922573   0.0000000    1.8302025\n",
       "93  d20d3658de331c939f54d8acaed7c4c1 5407.9470911  -0.7778670    0.4835447\n",
       "95  dc85940d84ddbd7315db16b14390cb8d 1310.7737326   1.1814106    0.9745981\n",
       "96  e0d214a60c3baff72cd75100c6e4cc28    6.2643931   0.0000000    2.2914749\n",
       "99  e2f7aa19c11e3adf96a7030321b7e2e4    9.0859651   0.0000000    1.4437836\n",
       "101 e8c0f8c73ce984d11e89e3e13b6b21e4   25.0735943  -2.4896135    1.4743068\n",
       "102 ef5a779b6dab7f364d042205f39beb43   28.8310823  -2.3667077    1.5707066\n",
       "103 efe2ef829cdc0a2cf36f8c27f96678d7   30.9641012  -7.8253498    1.3905539\n",
       "104 f19f6eb0e557605030b949da68e33a3d   37.3058357 -19.6289057    1.3709060\n",
       "106 f4a2f44c453707eee491e184a4c7b528    7.3065976  -3.0134694    2.2993407\n",
       "107 f5ab8244460d1988b40f85a9347297c7  710.9478067  -3.0616207    0.6834898\n",
       "108 fb88d5698f31eb7529434b5287e82b1b   40.1967341 -18.4108717    1.3586099\n",
       "109 fccf9b38f0596644eab0612a5cd57597   21.4374612 -19.6478844    1.5077437\n",
       "110 feea23e3d913f7f737786c4b8ddcacba    9.9895276   0.0000000    1.9121429\n",
       "112 aa20f3a40eaf07050443d2555f000f97 1340.2700549   0.2989755    0.6815946\n",
       "    stat       pval         ordering pval.adj     Method                    \n",
       "2    23.978806 6.209669e-06 1w>1m    1.987094e-05 DESeq2 man. geoMeans (ds2)\n",
       "3     8.395499 1.502936e-02 NA       2.337900e-02 DESeq2 man. geoMeans (ds2)\n",
       "4    19.822026 4.962514e-05 1m>1w    1.292562e-04 DESeq2 man. geoMeans (ds2)\n",
       "5   152.700274 6.943154e-34 1m>1w    3.888166e-32 DESeq2 man. geoMeans (ds2)\n",
       "6     7.883272 1.941643e-02 1m>1w    2.938702e-02 DESeq2 man. geoMeans (ds2)\n",
       "8    26.325555 1.920783e-06 1w>1m    6.874525e-06 DESeq2 man. geoMeans (ds2)\n",
       "9    16.985866 2.049114e-04 1w>1m    4.882995e-04 DESeq2 man. geoMeans (ds2)\n",
       "10   33.006120 6.804750e-08 1m>1w    3.048528e-07 DESeq2 man. geoMeans (ds2)\n",
       "12   67.703732 1.987565e-15 1m>1w    2.226073e-14 DESeq2 man. geoMeans (ds2)\n",
       "13   14.867232 5.910464e-04 NA       1.297984e-03 DESeq2 man. geoMeans (ds2)\n",
       "14   23.768228 6.899139e-06 1m>1w    2.146399e-05 DESeq2 man. geoMeans (ds2)\n",
       "15    9.635793 8.083773e-03 1m>1w    1.422842e-02 DESeq2 man. geoMeans (ds2)\n",
       "16   24.710776 4.306488e-06 1m>1w    1.418608e-05 DESeq2 man. geoMeans (ds2)\n",
       "18   22.068847 1.613655e-05 NA       4.884577e-05 DESeq2 man. geoMeans (ds2)\n",
       "19    9.520445 8.563702e-03 NA       1.475592e-02 DESeq2 man. geoMeans (ds2)\n",
       "21   25.945930 2.322270e-06 1m>1w    7.881645e-06 DESeq2 man. geoMeans (ds2)\n",
       "24  137.400844 1.458095e-30 1m>1w    5.443554e-29 DESeq2 man. geoMeans (ds2)\n",
       "26   17.058190 1.976338e-04 1w>1m    4.811953e-04 DESeq2 man. geoMeans (ds2)\n",
       "28   11.366722 3.402104e-03 1m>1w    6.458232e-03 DESeq2 man. geoMeans (ds2)\n",
       "29   40.738567 1.424730e-09 1m>1w    8.398409e-09 DESeq2 man. geoMeans (ds2)\n",
       "30   10.533252 5.160995e-03 1w>1m    9.633856e-03 DESeq2 man. geoMeans (ds2)\n",
       "31   14.020289 9.026783e-04 1m>1w    1.884100e-03 DESeq2 man. geoMeans (ds2)\n",
       "32   19.950931 4.652756e-05 NA       1.240735e-04 DESeq2 man. geoMeans (ds2)\n",
       "33   71.418017 3.102950e-16 1w>1m    3.861448e-15 DESeq2 man. geoMeans (ds2)\n",
       "34   14.007639 9.084055e-04 NA       1.884100e-03 DESeq2 man. geoMeans (ds2)\n",
       "35   30.231005 2.725340e-07 1m>1w    1.130511e-06 DESeq2 man. geoMeans (ds2)\n",
       "36   30.855439 1.994465e-07 NA       8.591544e-07 DESeq2 man. geoMeans (ds2)\n",
       "37    7.088702 2.888736e-02 1m>1w    4.044230e-02 DESeq2 man. geoMeans (ds2)\n",
       "38   60.028578 9.224864e-14 1m>1w    7.947575e-13 DESeq2 man. geoMeans (ds2)\n",
       "39    7.490617 2.362834e-02 1w>1m    3.392787e-02 DESeq2 man. geoMeans (ds2)\n",
       "<U+22EE>   <U+22EE>   <U+22EE>     <U+22EE> <U+22EE>     <U+22EE>                  \n",
       "75    7.013590 2.999288e-02 NA       4.093176e-02 DESeq2 man. geoMeans (ds2)\n",
       "76   36.141612 1.418890e-08 1m>1w    7.223438e-08 DESeq2 man. geoMeans (ds2)\n",
       "77    6.900728 3.173408e-02 NA       4.231211e-02 DESeq2 man. geoMeans (ds2)\n",
       "79    7.799998 2.024193e-02 1m>1w    2.944281e-02 DESeq2 man. geoMeans (ds2)\n",
       "80    7.812032 2.012050e-02 1w>1m    2.944281e-02 DESeq2 man. geoMeans (ds2)\n",
       "81   44.977205 1.711291e-10 NA       1.369033e-09 DESeq2 man. geoMeans (ds2)\n",
       "82   26.280902 1.964150e-06 1w>1m    6.874525e-06 DESeq2 man. geoMeans (ds2)\n",
       "83  107.847679 3.812186e-24 1m>1w    1.067412e-22 DESeq2 man. geoMeans (ds2)\n",
       "85   86.612663 1.557038e-19 NA       2.906470e-18 DESeq2 man. geoMeans (ds2)\n",
       "86    9.624259 8.130528e-03 NA       1.422842e-02 DESeq2 man. geoMeans (ds2)\n",
       "87    7.807104 2.017014e-02 1m>1w    2.944281e-02 DESeq2 man. geoMeans (ds2)\n",
       "88   12.133009 2.319267e-03 NA       4.478584e-03 DESeq2 man. geoMeans (ds2)\n",
       "89   43.095428 4.384769e-10 1w>1m    3.069338e-09 DESeq2 man. geoMeans (ds2)\n",
       "90   42.254631 6.676111e-10 1m>1w    4.398379e-09 DESeq2 man. geoMeans (ds2)\n",
       "91   65.284175 6.663793e-15 1w>1m    6.219540e-14 DESeq2 man. geoMeans (ds2)\n",
       "92   21.074207 2.653347e-05 NA       7.429373e-05 DESeq2 man. geoMeans (ds2)\n",
       "93    7.045933 2.951175e-02 1m>1w    4.080638e-02 DESeq2 man. geoMeans (ds2)\n",
       "95   21.895615 1.759655e-05 1w>1m    5.186352e-05 DESeq2 man. geoMeans (ds2)\n",
       "96    8.893202 1.171833e-02 NA       1.930078e-02 DESeq2 man. geoMeans (ds2)\n",
       "99   33.109310 6.462561e-08 NA       3.015862e-07 DESeq2 man. geoMeans (ds2)\n",
       "101  29.551421 3.828164e-07 1m>1w    1.478463e-06 DESeq2 man. geoMeans (ds2)\n",
       "102  13.351218 1.261304e-03 1m>1w    2.568473e-03 DESeq2 man. geoMeans (ds2)\n",
       "103  35.811920 1.673172e-08 1m>1w    8.147618e-08 DESeq2 man. geoMeans (ds2)\n",
       "104  38.669999 4.007895e-09 1m>1w    2.244421e-08 DESeq2 man. geoMeans (ds2)\n",
       "106   9.329148 9.423260e-03 1m>1w    1.575231e-02 DESeq2 man. geoMeans (ds2)\n",
       "107 299.264023 1.036676e-65 1m>1w    1.161077e-63 DESeq2 man. geoMeans (ds2)\n",
       "108  43.588188 3.427245e-10 1m>1w    2.559010e-09 DESeq2 man. geoMeans (ds2)\n",
       "109  28.832591 5.483810e-07 1m>1w    2.047289e-06 DESeq2 man. geoMeans (ds2)\n",
       "110  15.111286 5.231496e-04 NA       1.171855e-03 DESeq2 man. geoMeans (ds2)\n",
       "112  37.629638 6.742610e-09 1w>1m    3.596059e-08 DESeq2 man. geoMeans (ds2)\n",
       "    Kingdom  Phylum            Class               Order                \n",
       "2   Bacteria Firmicutes_A      Clostridia          Clostridiales        \n",
       "3   Bacteria Firmicutes_A      Clostridia          Lachnospirales       \n",
       "4   Bacteria Firmicutes_C      Negativicutes       Veillonellales       \n",
       "5   Bacteria Firmicutes_A      Clostridia          Lachnospirales       \n",
       "6   Bacteria Actinobacteriota  Actinobacteria      Actinomycetales      \n",
       "8   Bacteria Proteobacteria    Gammaproteobacteria Pseudomonadales      \n",
       "9   Bacteria Firmicutes_C      Negativicutes       Veillonellales       \n",
       "10  Bacteria Firmicutes        Bacilli             Lactobacillales      \n",
       "12  Bacteria Firmicutes_A      Clostridia          Lachnospirales       \n",
       "13  Bacteria Proteobacteria    Alphaproteobacteria RF32                 \n",
       "14  Bacteria Proteobacteria    Gammaproteobacteria Enterobacterales     \n",
       "15  Bacteria Proteobacteria    Gammaproteobacteria Enterobacterales     \n",
       "16  Bacteria Actinobacteriota  Actinobacteria      Actinomycetales      \n",
       "18  Bacteria Firmicutes_A      Clostridia          Oscillospirales      \n",
       "19  Bacteria Firmicutes_A      Clostridia          Lachnospirales       \n",
       "21  Bacteria Firmicutes_C      Negativicutes       Acidaminococcales    \n",
       "24  Bacteria Bacteroidota      Bacteroidia         Bacteroidales        \n",
       "26  Bacteria Actinobacteriota  Actinobacteria      Corynebacteriales    \n",
       "28  Bacteria Firmicutes_C      Negativicutes       Veillonellales       \n",
       "29  Bacteria Firmicutes        Bacilli             Lactobacillales      \n",
       "30  Bacteria Proteobacteria    Gammaproteobacteria Enterobacterales     \n",
       "31  Bacteria Firmicutes_A      Clostridia          Oscillospirales      \n",
       "32  Bacteria Firmicutes_A      Clostridia          Class_Clostridia     \n",
       "33  Bacteria Proteobacteria    Gammaproteobacteria Enterobacterales     \n",
       "34  Bacteria Firmicutes_A      Clostridia          CAG-41               \n",
       "35  Bacteria Bacteroidota      Bacteroidia         Bacteroidales        \n",
       "36  Bacteria Firmicutes_A      Clostridia          Oscillospirales      \n",
       "37  Bacteria Proteobacteria    Gammaproteobacteria Betaproteobacteriales\n",
       "38  Bacteria Bacteroidota      Bacteroidia         Bacteroidales        \n",
       "39  Bacteria Firmicutes_A      Clostridia          Peptostreptococcales \n",
       "<U+22EE>   <U+22EE> <U+22EE>          <U+22EE>            <U+22EE>             \n",
       "75  Bacteria Firmicutes_A      Clostridia          Oscillospirales      \n",
       "76  Bacteria Bacteroidota      Bacteroidia         Bacteroidales        \n",
       "77  Bacteria Firmicutes_A      Clostridia          Lachnospirales       \n",
       "79  Bacteria Firmicutes_A      Clostridia          Lachnospirales       \n",
       "80  Bacteria Firmicutes_A      Clostridia          Oscillospirales      \n",
       "81  Bacteria Firmicutes_A      Clostridia          Lachnospirales       \n",
       "82  Bacteria Firmicutes        Bacilli             Lactobacillales      \n",
       "83  Bacteria Verrucomicrobiota Verrucomicrobiae    Verrucomicrobiales   \n",
       "85  Bacteria Firmicutes_A      Clostridia          Lachnospirales       \n",
       "86  Bacteria Firmicutes_A      Clostridia          Lachnospirales       \n",
       "87  Bacteria Actinobacteriota  Actinobacteria      Actinomycetales      \n",
       "88  Bacteria Firmicutes_A      Clostridia          Oscillospirales      \n",
       "89  Bacteria Firmicutes        Bacilli             Lactobacillales      \n",
       "90  Bacteria Firmicutes        Bacilli             Lactobacillales      \n",
       "91  Bacteria Firmicutes        Bacilli             Staphylococcales     \n",
       "92  Bacteria Proteobacteria    Gammaproteobacteria Betaproteobacteriales\n",
       "93  Bacteria Bacteroidota      Bacteroidia         Bacteroidales        \n",
       "95  Bacteria Firmicutes_A      Clostridia          Clostridiales        \n",
       "96  Bacteria Firmicutes        Bacilli             Haloplasmatales      \n",
       "99  Bacteria Firmicutes_A      Clostridia          Lachnospirales       \n",
       "101 Bacteria Firmicutes_A      Clostridia          Oscillospirales      \n",
       "102 Bacteria Firmicutes_C      Negativicutes       Veillonellales       \n",
       "103 Bacteria Firmicutes_A      Clostridia          Tissierellales       \n",
       "104 Bacteria Firmicutes_A      Clostridia          Lachnospirales       \n",
       "106 Bacteria Firmicutes_A      Clostridia          Lachnospirales       \n",
       "107 Bacteria Firmicutes_A      Clostridia          Oscillospirales      \n",
       "108 Bacteria Firmicutes_A      Clostridia          Lachnospirales       \n",
       "109 Bacteria Firmicutes_A      Clostridia          Lachnospirales       \n",
       "110 Bacteria Bacteroidota      Bacteroidia         Bacteroidales        \n",
       "112 Bacteria Firmicutes        Bacilli             Lactobacillales      \n",
       "    Family                Genus                        Species\n",
       "2   Clostridiaceae        Clostridium                  NA     \n",
       "3   Lachnospiraceae       Clostridium_Q                NA     \n",
       "4   Veillonellaceae       Veillonella                  NA     \n",
       "5   Lachnospiraceae       Lachnospira                  NA     \n",
       "6   Dermabacteraceae      Dermabacter                  NA     \n",
       "8   Moraxellaceae         Acinetobacter                NA     \n",
       "9   Veillonellaceae       Veillonella_A                NA     \n",
       "10  Lactobacillaceae      Lactobacillus_H              NA     \n",
       "12  Lachnospiraceae       Blautia_A                    NA     \n",
       "13  CAG-239               CAG-495                      NA     \n",
       "14  Enterobacteriaceae    Escherichia                  NA     \n",
       "15  Pasteurellaceae       Haemophilus_A                NA     \n",
       "16  Micrococcaceae        Rothia                       NA     \n",
       "18  DTU089                DTU053                       NA     \n",
       "19  Lachnospiraceae       Eisenbergiella               NA     \n",
       "21  Acidaminococcaceae    Acidaminococcus              NA     \n",
       "24  Bacteroidaceae        Prevotella                   NA     \n",
       "26  Corynebacteriaceae    Corynebacterium              NA     \n",
       "28  Megasphaeraceae       Anaeroglobus                 NA     \n",
       "29  Lactobacillaceae      Lactobacillus                NA     \n",
       "30  Enterobacteriaceae    Citrobacter                  NA     \n",
       "31  Ruminococcaceae       Ruminococcus_D               NA     \n",
       "32  Class_Clostridia      Class_Clostridia             NA     \n",
       "33  Enterobacteriaceae    Family_Enterobacteriaceae    NA     \n",
       "34  UBA1381               CAG-41                       NA     \n",
       "35  Coprobacteraceae      Coprobacter                  NA     \n",
       "36  Order_Oscillospirales Order_Oscillospirales        NA     \n",
       "37  Burkholderiaceae      Sutterella                   NA     \n",
       "38  Muribaculaceae        Family_Muribaculaceae        NA     \n",
       "39  Peptostreptococcaceae Family_Peptostreptococcaceae NA     \n",
       "<U+22EE>   <U+22EE>              <U+22EE>                     <U+22EE>\n",
       "75  DTU089                Eubacterium_R                NA     \n",
       "76  Bacteroidaceae        Bacteroides_A                NA     \n",
       "77  Anaerotignaceae       Anaerotignum                 NA     \n",
       "79  Lachnospiraceae       Hungatella                   NA     \n",
       "80  Ruminococcaceae       Subdoligranulum              NA     \n",
       "81  Lachnospiraceae       Eubacterium_E                NA     \n",
       "82  Enterococcaceae       Family_Enterococcaceae       NA     \n",
       "83  Akkermansiaceae       Akkermansia                  NA     \n",
       "85  Lachnospiraceae       Dorea                        NA     \n",
       "86  Lachnospiraceae       Blautia                      NA     \n",
       "87  Actinomycetaceae      Actinomyces_B                NA     \n",
       "88  Ruminococcaceae       Ruminiclostridium_E          NA     \n",
       "89  Lactobacillaceae      Lactobacillus_B              NA     \n",
       "90  Lactobacillaceae      Lactobacillus_C              NA     \n",
       "91  Staphylococcaceae     Staphylococcus               NA     \n",
       "92  Burkholderiaceae      Parasutterella               NA     \n",
       "93  Bacteroidaceae        Bacteroides                  NA     \n",
       "95  Clostridiaceae        Clostridium_P                NA     \n",
       "96  Turicibacteraceae     Turicibacter                 NA     \n",
       "99  Lachnospiraceae       CAG-81                       NA     \n",
       "101 Oscillospiraceae      Flavonifractor               NA     \n",
       "102 Dialisteraceae        Dialister                    NA     \n",
       "103 Helcococcaceae        Anaerococcus                 NA     \n",
       "104 Lachnospiraceae       992a                         NA     \n",
       "106 Lachnospiraceae       Hungatella_A                 NA     \n",
       "107 Ruminococcaceae       Faecalibacterium             NA     \n",
       "108 Lachnospiraceae       Agathobacter                 NA     \n",
       "109 Lachnospiraceae       CAG-65                       NA     \n",
       "110 Bacteroidaceae        Paraprevotella               NA     \n",
       "112 Streptococcaceae      Streptococcus                NA     "
      ]
     },
     "metadata": {},
     "output_type": "display_data"
    }
   ],
   "source": [
    "res_ds2[res_ds2$pval.adj <= 0.05, ]"
   ]
  },
  {
   "cell_type": "markdown",
   "metadata": {},
   "source": [
    "Many genera are significantly differentially abundant between the different time points"
   ]
  },
  {
   "cell_type": "markdown",
   "metadata": {},
   "source": [
    "We can see that Clostridium, the first one, is more abundant in 1 week than in 1 month, but what about 1 year?\n",
    "\n",
    "We can change the coeff argument. If we set coeff=3 then we will compare the third level (1 year) with the first level (1 month). The p-value is the same, but the fold change and ordering will change."
   ]
  },
  {
   "cell_type": "code",
   "execution_count": 13,
   "metadata": {},
   "outputs": [
    {
     "name": "stderr",
     "output_type": "stream",
     "text": [
      "converting counts to integer mode\n",
      "\n",
      "using pre-existing size factors\n",
      "\n",
      "estimating dispersions\n",
      "\n",
      "gene-wise dispersion estimates\n",
      "\n",
      "mean-dispersion relationship\n",
      "\n",
      "-- note: fitType='parametric', but the dispersion trend was not well captured by the\n",
      "   function: y = a/x + b, and a local regression fit was automatically substituted.\n",
      "   specify fitType='local' or 'mean' to avoid this message next time.\n",
      "\n",
      "final dispersion estimates\n",
      "\n",
      "fitting model and testing\n",
      "\n",
      "-- replacing outliers and refitting for 33 genes\n",
      "-- DESeq argument 'minReplicatesForReplace' = 7 \n",
      "-- original counts are preserved in counts(dds)\n",
      "\n",
      "estimating dispersions\n",
      "\n",
      "fitting model and testing\n",
      "\n"
     ]
    }
   ],
   "source": [
    "res2 <- DA.ds2(phy_genus_pre, predictor = \"Time\", coeff = 3)"
   ]
  },
  {
   "cell_type": "markdown",
   "metadata": {},
   "source": [
    "See results for the Clostridium:"
   ]
  },
  {
   "cell_type": "code",
   "execution_count": 14,
   "metadata": {},
   "outputs": [
    {
     "data": {
      "text/html": [
       "<table class=\"dataframe\">\n",
       "<caption>A data.frame: 1 × 16</caption>\n",
       "<thead>\n",
       "\t<tr><th></th><th scope=col>Feature</th><th scope=col>baseMean</th><th scope=col>log2FoldChange</th><th scope=col>lfcSE</th><th scope=col>stat</th><th scope=col>pval</th><th scope=col>ordering</th><th scope=col>pval.adj</th><th scope=col>Method</th><th scope=col>Kingdom</th><th scope=col>Phylum</th><th scope=col>Class</th><th scope=col>Order</th><th scope=col>Family</th><th scope=col>Genus</th><th scope=col>Species</th></tr>\n",
       "\t<tr><th></th><th scope=col>&lt;chr&gt;</th><th scope=col>&lt;dbl&gt;</th><th scope=col>&lt;dbl&gt;</th><th scope=col>&lt;dbl&gt;</th><th scope=col>&lt;dbl&gt;</th><th scope=col>&lt;dbl&gt;</th><th scope=col>&lt;chr&gt;</th><th scope=col>&lt;dbl&gt;</th><th scope=col>&lt;chr&gt;</th><th scope=col>&lt;chr&gt;</th><th scope=col>&lt;chr&gt;</th><th scope=col>&lt;chr&gt;</th><th scope=col>&lt;chr&gt;</th><th scope=col>&lt;chr&gt;</th><th scope=col>&lt;chr&gt;</th><th scope=col>&lt;chr&gt;</th></tr>\n",
       "</thead>\n",
       "<tbody>\n",
       "\t<tr><th scope=row>2</th><td>03a722bba911de891254934069dc8959</td><td>651.4965</td><td>-2.785152</td><td>0.5705476</td><td>23.97881</td><td>6.209669e-06</td><td>1m&gt;1y</td><td>1.987094e-05</td><td>DESeq2 man. geoMeans (ds2)</td><td>Bacteria</td><td>Firmicutes_A</td><td>Clostridia</td><td>Clostridiales</td><td>Clostridiaceae</td><td>Clostridium</td><td>NA</td></tr>\n",
       "</tbody>\n",
       "</table>\n"
      ],
      "text/latex": [
       "A data.frame: 1 × 16\n",
       "\\begin{tabular}{r|llllllllllllllll}\n",
       "  & Feature & baseMean & log2FoldChange & lfcSE & stat & pval & ordering & pval.adj & Method & Kingdom & Phylum & Class & Order & Family & Genus & Species\\\\\n",
       "  & <chr> & <dbl> & <dbl> & <dbl> & <dbl> & <dbl> & <chr> & <dbl> & <chr> & <chr> & <chr> & <chr> & <chr> & <chr> & <chr> & <chr>\\\\\n",
       "\\hline\n",
       "\t2 & 03a722bba911de891254934069dc8959 & 651.4965 & -2.785152 & 0.5705476 & 23.97881 & 6.209669e-06 & 1m>1y & 1.987094e-05 & DESeq2 man. geoMeans (ds2) & Bacteria & Firmicutes\\_A & Clostridia & Clostridiales & Clostridiaceae & Clostridium & NA\\\\\n",
       "\\end{tabular}\n"
      ],
      "text/markdown": [
       "\n",
       "A data.frame: 1 × 16\n",
       "\n",
       "| <!--/--> | Feature &lt;chr&gt; | baseMean &lt;dbl&gt; | log2FoldChange &lt;dbl&gt; | lfcSE &lt;dbl&gt; | stat &lt;dbl&gt; | pval &lt;dbl&gt; | ordering &lt;chr&gt; | pval.adj &lt;dbl&gt; | Method &lt;chr&gt; | Kingdom &lt;chr&gt; | Phylum &lt;chr&gt; | Class &lt;chr&gt; | Order &lt;chr&gt; | Family &lt;chr&gt; | Genus &lt;chr&gt; | Species &lt;chr&gt; |\n",
       "|---|---|---|---|---|---|---|---|---|---|---|---|---|---|---|---|---|\n",
       "| 2 | 03a722bba911de891254934069dc8959 | 651.4965 | -2.785152 | 0.5705476 | 23.97881 | 6.209669e-06 | 1m&gt;1y | 1.987094e-05 | DESeq2 man. geoMeans (ds2) | Bacteria | Firmicutes_A | Clostridia | Clostridiales | Clostridiaceae | Clostridium | NA |\n",
       "\n"
      ],
      "text/plain": [
       "  Feature                          baseMean log2FoldChange lfcSE     stat    \n",
       "2 03a722bba911de891254934069dc8959 651.4965 -2.785152      0.5705476 23.97881\n",
       "  pval         ordering pval.adj     Method                     Kingdom \n",
       "2 6.209669e-06 1m>1y    1.987094e-05 DESeq2 man. geoMeans (ds2) Bacteria\n",
       "  Phylum       Class      Order         Family         Genus       Species\n",
       "2 Firmicutes_A Clostridia Clostridiales Clostridiaceae Clostridium NA     "
      ]
     },
     "metadata": {},
     "output_type": "display_data"
    }
   ],
   "source": [
    "res2[res2$Feature == \"03a722bba911de891254934069dc8959\", ]"
   ]
  },
  {
   "cell_type": "markdown",
   "metadata": {},
   "source": [
    "We can in the same way change the reference level for calculating the fold change. Let's change it to 2 (1 week):"
   ]
  },
  {
   "cell_type": "code",
   "execution_count": 15,
   "metadata": {},
   "outputs": [
    {
     "name": "stderr",
     "output_type": "stream",
     "text": [
      "converting counts to integer mode\n",
      "\n",
      "using pre-existing size factors\n",
      "\n",
      "estimating dispersions\n",
      "\n",
      "gene-wise dispersion estimates\n",
      "\n",
      "mean-dispersion relationship\n",
      "\n",
      "-- note: fitType='parametric', but the dispersion trend was not well captured by the\n",
      "   function: y = a/x + b, and a local regression fit was automatically substituted.\n",
      "   specify fitType='local' or 'mean' to avoid this message next time.\n",
      "\n",
      "final dispersion estimates\n",
      "\n",
      "fitting model and testing\n",
      "\n",
      "-- replacing outliers and refitting for 33 genes\n",
      "-- DESeq argument 'minReplicatesForReplace' = 7 \n",
      "-- original counts are preserved in counts(dds)\n",
      "\n",
      "estimating dispersions\n",
      "\n",
      "fitting model and testing\n",
      "\n"
     ]
    }
   ],
   "source": [
    "res3 <- DA.ds2(phy_genus_pre, predictor = \"Time\", coeff = 3, coeff.ref = 2)"
   ]
  },
  {
   "cell_type": "code",
   "execution_count": 16,
   "metadata": {},
   "outputs": [
    {
     "data": {
      "text/html": [
       "<table class=\"dataframe\">\n",
       "<caption>A data.frame: 1 × 16</caption>\n",
       "<thead>\n",
       "\t<tr><th></th><th scope=col>Feature</th><th scope=col>baseMean</th><th scope=col>log2FoldChange</th><th scope=col>lfcSE</th><th scope=col>stat</th><th scope=col>pval</th><th scope=col>ordering</th><th scope=col>pval.adj</th><th scope=col>Method</th><th scope=col>Kingdom</th><th scope=col>Phylum</th><th scope=col>Class</th><th scope=col>Order</th><th scope=col>Family</th><th scope=col>Genus</th><th scope=col>Species</th></tr>\n",
       "\t<tr><th></th><th scope=col>&lt;chr&gt;</th><th scope=col>&lt;dbl&gt;</th><th scope=col>&lt;dbl&gt;</th><th scope=col>&lt;dbl&gt;</th><th scope=col>&lt;dbl&gt;</th><th scope=col>&lt;dbl&gt;</th><th scope=col>&lt;chr&gt;</th><th scope=col>&lt;dbl&gt;</th><th scope=col>&lt;chr&gt;</th><th scope=col>&lt;chr&gt;</th><th scope=col>&lt;chr&gt;</th><th scope=col>&lt;chr&gt;</th><th scope=col>&lt;chr&gt;</th><th scope=col>&lt;chr&gt;</th><th scope=col>&lt;chr&gt;</th><th scope=col>&lt;chr&gt;</th></tr>\n",
       "</thead>\n",
       "<tbody>\n",
       "\t<tr><th scope=row>2</th><td>03a722bba911de891254934069dc8959</td><td>651.4965</td><td>-2.83113</td><td>0.5705297</td><td>23.97881</td><td>6.209669e-06</td><td>1w&gt;1y</td><td>1.987094e-05</td><td>DESeq2 man. geoMeans (ds2)</td><td>Bacteria</td><td>Firmicutes_A</td><td>Clostridia</td><td>Clostridiales</td><td>Clostridiaceae</td><td>Clostridium</td><td>NA</td></tr>\n",
       "</tbody>\n",
       "</table>\n"
      ],
      "text/latex": [
       "A data.frame: 1 × 16\n",
       "\\begin{tabular}{r|llllllllllllllll}\n",
       "  & Feature & baseMean & log2FoldChange & lfcSE & stat & pval & ordering & pval.adj & Method & Kingdom & Phylum & Class & Order & Family & Genus & Species\\\\\n",
       "  & <chr> & <dbl> & <dbl> & <dbl> & <dbl> & <dbl> & <chr> & <dbl> & <chr> & <chr> & <chr> & <chr> & <chr> & <chr> & <chr> & <chr>\\\\\n",
       "\\hline\n",
       "\t2 & 03a722bba911de891254934069dc8959 & 651.4965 & -2.83113 & 0.5705297 & 23.97881 & 6.209669e-06 & 1w>1y & 1.987094e-05 & DESeq2 man. geoMeans (ds2) & Bacteria & Firmicutes\\_A & Clostridia & Clostridiales & Clostridiaceae & Clostridium & NA\\\\\n",
       "\\end{tabular}\n"
      ],
      "text/markdown": [
       "\n",
       "A data.frame: 1 × 16\n",
       "\n",
       "| <!--/--> | Feature &lt;chr&gt; | baseMean &lt;dbl&gt; | log2FoldChange &lt;dbl&gt; | lfcSE &lt;dbl&gt; | stat &lt;dbl&gt; | pval &lt;dbl&gt; | ordering &lt;chr&gt; | pval.adj &lt;dbl&gt; | Method &lt;chr&gt; | Kingdom &lt;chr&gt; | Phylum &lt;chr&gt; | Class &lt;chr&gt; | Order &lt;chr&gt; | Family &lt;chr&gt; | Genus &lt;chr&gt; | Species &lt;chr&gt; |\n",
       "|---|---|---|---|---|---|---|---|---|---|---|---|---|---|---|---|---|\n",
       "| 2 | 03a722bba911de891254934069dc8959 | 651.4965 | -2.83113 | 0.5705297 | 23.97881 | 6.209669e-06 | 1w&gt;1y | 1.987094e-05 | DESeq2 man. geoMeans (ds2) | Bacteria | Firmicutes_A | Clostridia | Clostridiales | Clostridiaceae | Clostridium | NA |\n",
       "\n"
      ],
      "text/plain": [
       "  Feature                          baseMean log2FoldChange lfcSE     stat    \n",
       "2 03a722bba911de891254934069dc8959 651.4965 -2.83113       0.5705297 23.97881\n",
       "  pval         ordering pval.adj     Method                     Kingdom \n",
       "2 6.209669e-06 1w>1y    1.987094e-05 DESeq2 man. geoMeans (ds2) Bacteria\n",
       "  Phylum       Class      Order         Family         Genus       Species\n",
       "2 Firmicutes_A Clostridia Clostridiales Clostridiaceae Clostridium NA     "
      ]
     },
     "metadata": {},
     "output_type": "display_data"
    }
   ],
   "source": [
    "res3[res3$Feature == \"03a722bba911de891254934069dc8959\", ]"
   ]
  },
  {
   "cell_type": "markdown",
   "metadata": {},
   "source": [
    "Based on this we can conclude that Clostridium is most abundant at 1 week, hereafter at 1 month, and least abundant at 1 year."
   ]
  },
  {
   "cell_type": "markdown",
   "metadata": {},
   "source": [
    "### How to interpret fold change\n",
    "The log2 fold change (log2FC) is the log2 ratio between the abundance in one group versus another group. For example, in the above analysis it is the ratio in abundance of Clostridium at 1 year versus at 1 week. We can see that it is -2.8. A negative log2FC means that Clostridium is in higher abundance in the reference group (1 week). Since it is on a log2 scale, a log2FC of 1 means the abundance is double compared to the reference, 2 means it is quadruple that of the reference, -1 means half, and -2 means a quarter, and so on. It is quite common to ignore log2FC between -2 and 2, and only focus on large differences. This choice, however, depends on the hypothesis in question. "
   ]
  },
  {
   "cell_type": "markdown",
   "metadata": {},
   "source": [
    "### Include covariates\n",
    "With DESeq2 we can include covariates in the analysis. If we want to test the effect of mode of Delivery, we can take into account the differences across time points. Here we would say that we \"control\" for the effect of time, when testing the effect of Delivery."
   ]
  },
  {
   "cell_type": "code",
   "execution_count": 17,
   "metadata": {},
   "outputs": [
    {
     "name": "stderr",
     "output_type": "stream",
     "text": [
      "converting counts to integer mode\n",
      "\n",
      "Warning message in DESeqDataSet(se, design = design, ignoreRank):\n",
      "\"some variables in design formula are characters, converting to factors\"\n",
      "using pre-existing size factors\n",
      "\n",
      "estimating dispersions\n",
      "\n",
      "gene-wise dispersion estimates\n",
      "\n",
      "mean-dispersion relationship\n",
      "\n",
      "-- note: fitType='parametric', but the dispersion trend was not well captured by the\n",
      "   function: y = a/x + b, and a local regression fit was automatically substituted.\n",
      "   specify fitType='local' or 'mean' to avoid this message next time.\n",
      "\n",
      "final dispersion estimates\n",
      "\n",
      "fitting model and testing\n",
      "\n",
      "-- replacing outliers and refitting for 17 genes\n",
      "-- DESeq argument 'minReplicatesForReplace' = 7 \n",
      "-- original counts are preserved in counts(dds)\n",
      "\n",
      "estimating dispersions\n",
      "\n",
      "fitting model and testing\n",
      "\n"
     ]
    }
   ],
   "source": [
    "res_covar <- DA.ds2(phy_genus_pre, predictor = \"Delivery\", covars = \"Time\")"
   ]
  },
  {
   "cell_type": "code",
   "execution_count": 18,
   "metadata": {},
   "outputs": [
    {
     "data": {
      "text/html": [
       "<table class=\"dataframe\">\n",
       "<caption>A data.frame: 16 × 16</caption>\n",
       "<thead>\n",
       "\t<tr><th></th><th scope=col>Feature</th><th scope=col>baseMean</th><th scope=col>log2FoldChange</th><th scope=col>lfcSE</th><th scope=col>stat</th><th scope=col>pval</th><th scope=col>ordering</th><th scope=col>pval.adj</th><th scope=col>Method</th><th scope=col>Kingdom</th><th scope=col>Phylum</th><th scope=col>Class</th><th scope=col>Order</th><th scope=col>Family</th><th scope=col>Genus</th><th scope=col>Species</th></tr>\n",
       "\t<tr><th></th><th scope=col>&lt;chr&gt;</th><th scope=col>&lt;dbl&gt;</th><th scope=col>&lt;dbl&gt;</th><th scope=col>&lt;dbl&gt;</th><th scope=col>&lt;dbl&gt;</th><th scope=col>&lt;dbl&gt;</th><th scope=col>&lt;chr&gt;</th><th scope=col>&lt;dbl&gt;</th><th scope=col>&lt;chr&gt;</th><th scope=col>&lt;chr&gt;</th><th scope=col>&lt;chr&gt;</th><th scope=col>&lt;chr&gt;</th><th scope=col>&lt;chr&gt;</th><th scope=col>&lt;chr&gt;</th><th scope=col>&lt;chr&gt;</th><th scope=col>&lt;chr&gt;</th></tr>\n",
       "</thead>\n",
       "<tbody>\n",
       "\t<tr><th scope=row>4</th><td>08b21f8171b35ef001832ba1df9b8fbc</td><td>2545.68152</td><td>-1.680455</td><td>0.4496852</td><td>-3.736958</td><td>1.862599e-04</td><td>Sectio&gt;Vaginal</td><td>2.086111e-03</td><td>DESeq2 man. geoMeans (ds2)</td><td>Bacteria</td><td><span style=white-space:pre-wrap>Firmicutes_C    </span></td><td><span style=white-space:pre-wrap>Negativicutes      </span></td><td><span style=white-space:pre-wrap>Veillonellales    </span></td><td><span style=white-space:pre-wrap>Veillonellaceae          </span></td><td><span style=white-space:pre-wrap>Veillonella           </span></td><td>NA</td></tr>\n",
       "\t<tr><th scope=row>6</th><td>09efd4982be79756a70f3b739241efda</td><td><span style=white-space:pre-wrap>  38.49512</span></td><td>-4.765110</td><td>1.6552294</td><td>-2.878821</td><td>3.991644e-03</td><td>Sectio&gt;Vaginal</td><td>2.980427e-02</td><td>DESeq2 man. geoMeans (ds2)</td><td>Bacteria</td><td>Actinobacteriota</td><td><span style=white-space:pre-wrap>Actinobacteria     </span></td><td><span style=white-space:pre-wrap>Actinomycetales   </span></td><td><span style=white-space:pre-wrap>Dermabacteraceae         </span></td><td><span style=white-space:pre-wrap>Dermabacter           </span></td><td>NA</td></tr>\n",
       "\t<tr><th scope=row>10</th><td>11d9c9ed1d2d58a9cb0bbcdc93aa3e55</td><td> 278.82639</td><td> 8.191674</td><td>1.0352716</td><td> 7.912584</td><td>2.520998e-15</td><td>Vaginal&gt;Sectio</td><td>2.823517e-13</td><td>DESeq2 man. geoMeans (ds2)</td><td>Bacteria</td><td><span style=white-space:pre-wrap>Firmicutes      </span></td><td><span style=white-space:pre-wrap>Bacilli            </span></td><td><span style=white-space:pre-wrap>Lactobacillales   </span></td><td><span style=white-space:pre-wrap>Lactobacillaceae         </span></td><td><span style=white-space:pre-wrap>Lactobacillus_H       </span></td><td>NA</td></tr>\n",
       "\t<tr><th scope=row>12</th><td>1c88ca8aa0ed62fb2fb8bebb8cb25670</td><td> 194.29160</td><td>-3.491361</td><td>0.7406899</td><td>-4.713660</td><td>2.433065e-06</td><td>Sectio&gt;Vaginal</td><td>4.541721e-05</td><td>DESeq2 man. geoMeans (ds2)</td><td>Bacteria</td><td><span style=white-space:pre-wrap>Firmicutes_A    </span></td><td><span style=white-space:pre-wrap>Clostridia         </span></td><td><span style=white-space:pre-wrap>Lachnospirales    </span></td><td><span style=white-space:pre-wrap>Lachnospiraceae          </span></td><td><span style=white-space:pre-wrap>Blautia_A             </span></td><td>NA</td></tr>\n",
       "\t<tr><th scope=row>38</th><td>57face48ec571894748b66cab7c52d5e</td><td><span style=white-space:pre-wrap>  62.57285</span></td><td>-2.732255</td><td>0.9714832</td><td>-2.812457</td><td>4.916462e-03</td><td>Sectio&gt;Vaginal</td><td>3.441523e-02</td><td>DESeq2 man. geoMeans (ds2)</td><td>Bacteria</td><td><span style=white-space:pre-wrap>Bacteroidota    </span></td><td><span style=white-space:pre-wrap>Bacteroidia        </span></td><td><span style=white-space:pre-wrap>Bacteroidales     </span></td><td><span style=white-space:pre-wrap>Muribaculaceae           </span></td><td>Family_Muribaculaceae </td><td>NA</td></tr>\n",
       "\t<tr><th scope=row>42</th><td>62392dc20bb4fd6c46d3cb038b13cb9e</td><td><span style=white-space:pre-wrap>  30.82848</span></td><td>-2.061667</td><td>0.6777708</td><td>-3.041835</td><td>2.351407e-03</td><td>Sectio&gt;Vaginal</td><td>1.881125e-02</td><td>DESeq2 man. geoMeans (ds2)</td><td>Bacteria</td><td><span style=white-space:pre-wrap>Firmicutes_A    </span></td><td><span style=white-space:pre-wrap>Clostridia         </span></td><td><span style=white-space:pre-wrap>Lachnospirales    </span></td><td><span style=white-space:pre-wrap>Lachnospiraceae          </span></td><td>Family_Lachnospiraceae</td><td>NA</td></tr>\n",
       "\t<tr><th scope=row>50</th><td>705da2e88a1aaa0c02b27eab4a642b72</td><td><span style=white-space:pre-wrap>  30.93052</span></td><td> 9.074052</td><td>1.3893145</td><td> 6.531316</td><td>6.519447e-11</td><td>Vaginal&gt;Sectio</td><td>1.825445e-09</td><td>DESeq2 man. geoMeans (ds2)</td><td>Bacteria</td><td><span style=white-space:pre-wrap>Proteobacteria  </span></td><td>Gammaproteobacteria</td><td><span style=white-space:pre-wrap>Enterobacterales  </span></td><td><span style=white-space:pre-wrap>Enterobacteriaceae       </span></td><td><span style=white-space:pre-wrap>Morganella            </span></td><td>NA</td></tr>\n",
       "\t<tr><th scope=row>62</th><td>8639874b1f9d7eaf752febcf6f7ca9dd</td><td><span style=white-space:pre-wrap>  23.79640</span></td><td>-5.049501</td><td>1.6083548</td><td>-3.139544</td><td>1.692109e-03</td><td>Sectio&gt;Vaginal</td><td>1.457817e-02</td><td>DESeq2 man. geoMeans (ds2)</td><td>Bacteria</td><td><span style=white-space:pre-wrap>Firmicutes_A    </span></td><td><span style=white-space:pre-wrap>Clostridia         </span></td><td><span style=white-space:pre-wrap>Lachnospirales    </span></td><td><span style=white-space:pre-wrap>Lachnospiraceae          </span></td><td><span style=white-space:pre-wrap>Fusicatenibacter      </span></td><td>NA</td></tr>\n",
       "\t<tr><th scope=row>64</th><td>87c2912f70537a375ec52d2e37479534</td><td> 200.58614</td><td> 6.831190</td><td>1.0107731</td><td> 6.758382</td><td>1.395413e-11</td><td>Vaginal&gt;Sectio</td><td>5.209543e-10</td><td>DESeq2 man. geoMeans (ds2)</td><td>Bacteria</td><td><span style=white-space:pre-wrap>Firmicutes      </span></td><td><span style=white-space:pre-wrap>Bacilli            </span></td><td>Erysipelotrichales</td><td>Erysipelatoclostridiaceae</td><td>Erysipelatoclostridium</td><td>NA</td></tr>\n",
       "\t<tr><th scope=row>65</th><td>8c3ff6c4c4b125d5e72f5276d57be4d0</td><td>2298.43780</td><td> 3.157037</td><td>0.7310758</td><td> 4.318345</td><td>1.572035e-05</td><td>Vaginal&gt;Sectio</td><td>2.515256e-04</td><td>DESeq2 man. geoMeans (ds2)</td><td>Bacteria</td><td><span style=white-space:pre-wrap>Firmicutes_A    </span></td><td><span style=white-space:pre-wrap>Clostridia         </span></td><td><span style=white-space:pre-wrap>Oscillospirales   </span></td><td><span style=white-space:pre-wrap>Ruminococcaceae          </span></td><td><span style=white-space:pre-wrap>Bittarella            </span></td><td>NA</td></tr>\n",
       "\t<tr><th scope=row>75</th><td>a3f2abd64e462dc86f8242a90d98ee66</td><td><span style=white-space:pre-wrap>  11.22191</span></td><td>-6.477411</td><td>1.8015019</td><td>-3.595562</td><td>3.236926e-04</td><td>Sectio&gt;Vaginal</td><td>3.295779e-03</td><td>DESeq2 man. geoMeans (ds2)</td><td>Bacteria</td><td><span style=white-space:pre-wrap>Firmicutes_A    </span></td><td><span style=white-space:pre-wrap>Clostridia         </span></td><td><span style=white-space:pre-wrap>Oscillospirales   </span></td><td><span style=white-space:pre-wrap>DTU089                   </span></td><td><span style=white-space:pre-wrap>Eubacterium_R         </span></td><td>NA</td></tr>\n",
       "\t<tr><th scope=row>89</th><td>ca5152dd2313e7fe7d25872f10c57f6d</td><td> 191.20206</td><td> 4.399757</td><td>1.1625159</td><td> 3.784686</td><td>1.539030e-04</td><td>Vaginal&gt;Sectio</td><td>1.915237e-03</td><td>DESeq2 man. geoMeans (ds2)</td><td>Bacteria</td><td><span style=white-space:pre-wrap>Firmicutes      </span></td><td><span style=white-space:pre-wrap>Bacilli            </span></td><td><span style=white-space:pre-wrap>Lactobacillales   </span></td><td><span style=white-space:pre-wrap>Lactobacillaceae         </span></td><td><span style=white-space:pre-wrap>Lactobacillus_B       </span></td><td>NA</td></tr>\n",
       "\t<tr><th scope=row>93</th><td>d20d3658de331c939f54d8acaed7c4c1</td><td>5407.94709</td><td> 2.539992</td><td>0.3676458</td><td> 6.908804</td><td>4.887583e-12</td><td>Vaginal&gt;Sectio</td><td>2.737047e-10</td><td>DESeq2 man. geoMeans (ds2)</td><td>Bacteria</td><td><span style=white-space:pre-wrap>Bacteroidota    </span></td><td><span style=white-space:pre-wrap>Bacteroidia        </span></td><td><span style=white-space:pre-wrap>Bacteroidales     </span></td><td><span style=white-space:pre-wrap>Bacteroidaceae           </span></td><td><span style=white-space:pre-wrap>Bacteroides           </span></td><td>NA</td></tr>\n",
       "\t<tr><th scope=row>102</th><td>ef5a779b6dab7f364d042205f39beb43</td><td><span style=white-space:pre-wrap>  30.11445</span></td><td> 4.112650</td><td>1.2668198</td><td> 3.246436</td><td>1.168595e-03</td><td>Vaginal&gt;Sectio</td><td>1.090689e-02</td><td>DESeq2 man. geoMeans (ds2)</td><td>Bacteria</td><td><span style=white-space:pre-wrap>Firmicutes_C    </span></td><td><span style=white-space:pre-wrap>Negativicutes      </span></td><td><span style=white-space:pre-wrap>Veillonellales    </span></td><td><span style=white-space:pre-wrap>Dialisteraceae           </span></td><td><span style=white-space:pre-wrap>Dialister             </span></td><td>NA</td></tr>\n",
       "\t<tr><th scope=row>105</th><td>f476bfba3de5b53f358787c28048d6ea</td><td><span style=white-space:pre-wrap>  10.55600</span></td><td>-9.522426</td><td>1.7129281</td><td>-5.559151</td><td>2.710905e-08</td><td>Sectio&gt;Vaginal</td><td>6.072427e-07</td><td>DESeq2 man. geoMeans (ds2)</td><td>Bacteria</td><td>Desulfobacterota</td><td><span style=white-space:pre-wrap>Desulfovibrionia   </span></td><td>Desulfovibrionales</td><td><span style=white-space:pre-wrap>Desulfovibrionaceae      </span></td><td><span style=white-space:pre-wrap>Desulfovibrio         </span></td><td>NA</td></tr>\n",
       "\t<tr><th scope=row>111</th><td><span style=white-space:pre-wrap>Others                          </span></td><td> 196.32759</td><td>-1.258819</td><td>0.3141851</td><td>-4.006615</td><td>6.159501e-05</td><td>Sectio&gt;Vaginal</td><td>8.623302e-04</td><td>DESeq2 man. geoMeans (ds2)</td><td><span style=white-space:pre-wrap>NA      </span></td><td><span style=white-space:pre-wrap>NA              </span></td><td><span style=white-space:pre-wrap>NA                 </span></td><td><span style=white-space:pre-wrap>NA                </span></td><td><span style=white-space:pre-wrap>NA                       </span></td><td><span style=white-space:pre-wrap>NA                    </span></td><td>NA</td></tr>\n",
       "</tbody>\n",
       "</table>\n"
      ],
      "text/latex": [
       "A data.frame: 16 × 16\n",
       "\\begin{tabular}{r|llllllllllllllll}\n",
       "  & Feature & baseMean & log2FoldChange & lfcSE & stat & pval & ordering & pval.adj & Method & Kingdom & Phylum & Class & Order & Family & Genus & Species\\\\\n",
       "  & <chr> & <dbl> & <dbl> & <dbl> & <dbl> & <dbl> & <chr> & <dbl> & <chr> & <chr> & <chr> & <chr> & <chr> & <chr> & <chr> & <chr>\\\\\n",
       "\\hline\n",
       "\t4 & 08b21f8171b35ef001832ba1df9b8fbc & 2545.68152 & -1.680455 & 0.4496852 & -3.736958 & 1.862599e-04 & Sectio>Vaginal & 2.086111e-03 & DESeq2 man. geoMeans (ds2) & Bacteria & Firmicutes\\_C     & Negativicutes       & Veillonellales     & Veillonellaceae           & Veillonella            & NA\\\\\n",
       "\t6 & 09efd4982be79756a70f3b739241efda &   38.49512 & -4.765110 & 1.6552294 & -2.878821 & 3.991644e-03 & Sectio>Vaginal & 2.980427e-02 & DESeq2 man. geoMeans (ds2) & Bacteria & Actinobacteriota & Actinobacteria      & Actinomycetales    & Dermabacteraceae          & Dermabacter            & NA\\\\\n",
       "\t10 & 11d9c9ed1d2d58a9cb0bbcdc93aa3e55 &  278.82639 &  8.191674 & 1.0352716 &  7.912584 & 2.520998e-15 & Vaginal>Sectio & 2.823517e-13 & DESeq2 man. geoMeans (ds2) & Bacteria & Firmicutes       & Bacilli             & Lactobacillales    & Lactobacillaceae          & Lactobacillus\\_H        & NA\\\\\n",
       "\t12 & 1c88ca8aa0ed62fb2fb8bebb8cb25670 &  194.29160 & -3.491361 & 0.7406899 & -4.713660 & 2.433065e-06 & Sectio>Vaginal & 4.541721e-05 & DESeq2 man. geoMeans (ds2) & Bacteria & Firmicutes\\_A     & Clostridia          & Lachnospirales     & Lachnospiraceae           & Blautia\\_A              & NA\\\\\n",
       "\t38 & 57face48ec571894748b66cab7c52d5e &   62.57285 & -2.732255 & 0.9714832 & -2.812457 & 4.916462e-03 & Sectio>Vaginal & 3.441523e-02 & DESeq2 man. geoMeans (ds2) & Bacteria & Bacteroidota     & Bacteroidia         & Bacteroidales      & Muribaculaceae            & Family\\_Muribaculaceae  & NA\\\\\n",
       "\t42 & 62392dc20bb4fd6c46d3cb038b13cb9e &   30.82848 & -2.061667 & 0.6777708 & -3.041835 & 2.351407e-03 & Sectio>Vaginal & 1.881125e-02 & DESeq2 man. geoMeans (ds2) & Bacteria & Firmicutes\\_A     & Clostridia          & Lachnospirales     & Lachnospiraceae           & Family\\_Lachnospiraceae & NA\\\\\n",
       "\t50 & 705da2e88a1aaa0c02b27eab4a642b72 &   30.93052 &  9.074052 & 1.3893145 &  6.531316 & 6.519447e-11 & Vaginal>Sectio & 1.825445e-09 & DESeq2 man. geoMeans (ds2) & Bacteria & Proteobacteria   & Gammaproteobacteria & Enterobacterales   & Enterobacteriaceae        & Morganella             & NA\\\\\n",
       "\t62 & 8639874b1f9d7eaf752febcf6f7ca9dd &   23.79640 & -5.049501 & 1.6083548 & -3.139544 & 1.692109e-03 & Sectio>Vaginal & 1.457817e-02 & DESeq2 man. geoMeans (ds2) & Bacteria & Firmicutes\\_A     & Clostridia          & Lachnospirales     & Lachnospiraceae           & Fusicatenibacter       & NA\\\\\n",
       "\t64 & 87c2912f70537a375ec52d2e37479534 &  200.58614 &  6.831190 & 1.0107731 &  6.758382 & 1.395413e-11 & Vaginal>Sectio & 5.209543e-10 & DESeq2 man. geoMeans (ds2) & Bacteria & Firmicutes       & Bacilli             & Erysipelotrichales & Erysipelatoclostridiaceae & Erysipelatoclostridium & NA\\\\\n",
       "\t65 & 8c3ff6c4c4b125d5e72f5276d57be4d0 & 2298.43780 &  3.157037 & 0.7310758 &  4.318345 & 1.572035e-05 & Vaginal>Sectio & 2.515256e-04 & DESeq2 man. geoMeans (ds2) & Bacteria & Firmicutes\\_A     & Clostridia          & Oscillospirales    & Ruminococcaceae           & Bittarella             & NA\\\\\n",
       "\t75 & a3f2abd64e462dc86f8242a90d98ee66 &   11.22191 & -6.477411 & 1.8015019 & -3.595562 & 3.236926e-04 & Sectio>Vaginal & 3.295779e-03 & DESeq2 man. geoMeans (ds2) & Bacteria & Firmicutes\\_A     & Clostridia          & Oscillospirales    & DTU089                    & Eubacterium\\_R          & NA\\\\\n",
       "\t89 & ca5152dd2313e7fe7d25872f10c57f6d &  191.20206 &  4.399757 & 1.1625159 &  3.784686 & 1.539030e-04 & Vaginal>Sectio & 1.915237e-03 & DESeq2 man. geoMeans (ds2) & Bacteria & Firmicutes       & Bacilli             & Lactobacillales    & Lactobacillaceae          & Lactobacillus\\_B        & NA\\\\\n",
       "\t93 & d20d3658de331c939f54d8acaed7c4c1 & 5407.94709 &  2.539992 & 0.3676458 &  6.908804 & 4.887583e-12 & Vaginal>Sectio & 2.737047e-10 & DESeq2 man. geoMeans (ds2) & Bacteria & Bacteroidota     & Bacteroidia         & Bacteroidales      & Bacteroidaceae            & Bacteroides            & NA\\\\\n",
       "\t102 & ef5a779b6dab7f364d042205f39beb43 &   30.11445 &  4.112650 & 1.2668198 &  3.246436 & 1.168595e-03 & Vaginal>Sectio & 1.090689e-02 & DESeq2 man. geoMeans (ds2) & Bacteria & Firmicutes\\_C     & Negativicutes       & Veillonellales     & Dialisteraceae            & Dialister              & NA\\\\\n",
       "\t105 & f476bfba3de5b53f358787c28048d6ea &   10.55600 & -9.522426 & 1.7129281 & -5.559151 & 2.710905e-08 & Sectio>Vaginal & 6.072427e-07 & DESeq2 man. geoMeans (ds2) & Bacteria & Desulfobacterota & Desulfovibrionia    & Desulfovibrionales & Desulfovibrionaceae       & Desulfovibrio          & NA\\\\\n",
       "\t111 & Others                           &  196.32759 & -1.258819 & 0.3141851 & -4.006615 & 6.159501e-05 & Sectio>Vaginal & 8.623302e-04 & DESeq2 man. geoMeans (ds2) & NA       & NA               & NA                  & NA                 & NA                        & NA                     & NA\\\\\n",
       "\\end{tabular}\n"
      ],
      "text/markdown": [
       "\n",
       "A data.frame: 16 × 16\n",
       "\n",
       "| <!--/--> | Feature &lt;chr&gt; | baseMean &lt;dbl&gt; | log2FoldChange &lt;dbl&gt; | lfcSE &lt;dbl&gt; | stat &lt;dbl&gt; | pval &lt;dbl&gt; | ordering &lt;chr&gt; | pval.adj &lt;dbl&gt; | Method &lt;chr&gt; | Kingdom &lt;chr&gt; | Phylum &lt;chr&gt; | Class &lt;chr&gt; | Order &lt;chr&gt; | Family &lt;chr&gt; | Genus &lt;chr&gt; | Species &lt;chr&gt; |\n",
       "|---|---|---|---|---|---|---|---|---|---|---|---|---|---|---|---|---|\n",
       "| 4 | 08b21f8171b35ef001832ba1df9b8fbc | 2545.68152 | -1.680455 | 0.4496852 | -3.736958 | 1.862599e-04 | Sectio&gt;Vaginal | 2.086111e-03 | DESeq2 man. geoMeans (ds2) | Bacteria | Firmicutes_C     | Negativicutes       | Veillonellales     | Veillonellaceae           | Veillonella            | NA |\n",
       "| 6 | 09efd4982be79756a70f3b739241efda |   38.49512 | -4.765110 | 1.6552294 | -2.878821 | 3.991644e-03 | Sectio&gt;Vaginal | 2.980427e-02 | DESeq2 man. geoMeans (ds2) | Bacteria | Actinobacteriota | Actinobacteria      | Actinomycetales    | Dermabacteraceae          | Dermabacter            | NA |\n",
       "| 10 | 11d9c9ed1d2d58a9cb0bbcdc93aa3e55 |  278.82639 |  8.191674 | 1.0352716 |  7.912584 | 2.520998e-15 | Vaginal&gt;Sectio | 2.823517e-13 | DESeq2 man. geoMeans (ds2) | Bacteria | Firmicutes       | Bacilli             | Lactobacillales    | Lactobacillaceae          | Lactobacillus_H        | NA |\n",
       "| 12 | 1c88ca8aa0ed62fb2fb8bebb8cb25670 |  194.29160 | -3.491361 | 0.7406899 | -4.713660 | 2.433065e-06 | Sectio&gt;Vaginal | 4.541721e-05 | DESeq2 man. geoMeans (ds2) | Bacteria | Firmicutes_A     | Clostridia          | Lachnospirales     | Lachnospiraceae           | Blautia_A              | NA |\n",
       "| 38 | 57face48ec571894748b66cab7c52d5e |   62.57285 | -2.732255 | 0.9714832 | -2.812457 | 4.916462e-03 | Sectio&gt;Vaginal | 3.441523e-02 | DESeq2 man. geoMeans (ds2) | Bacteria | Bacteroidota     | Bacteroidia         | Bacteroidales      | Muribaculaceae            | Family_Muribaculaceae  | NA |\n",
       "| 42 | 62392dc20bb4fd6c46d3cb038b13cb9e |   30.82848 | -2.061667 | 0.6777708 | -3.041835 | 2.351407e-03 | Sectio&gt;Vaginal | 1.881125e-02 | DESeq2 man. geoMeans (ds2) | Bacteria | Firmicutes_A     | Clostridia          | Lachnospirales     | Lachnospiraceae           | Family_Lachnospiraceae | NA |\n",
       "| 50 | 705da2e88a1aaa0c02b27eab4a642b72 |   30.93052 |  9.074052 | 1.3893145 |  6.531316 | 6.519447e-11 | Vaginal&gt;Sectio | 1.825445e-09 | DESeq2 man. geoMeans (ds2) | Bacteria | Proteobacteria   | Gammaproteobacteria | Enterobacterales   | Enterobacteriaceae        | Morganella             | NA |\n",
       "| 62 | 8639874b1f9d7eaf752febcf6f7ca9dd |   23.79640 | -5.049501 | 1.6083548 | -3.139544 | 1.692109e-03 | Sectio&gt;Vaginal | 1.457817e-02 | DESeq2 man. geoMeans (ds2) | Bacteria | Firmicutes_A     | Clostridia          | Lachnospirales     | Lachnospiraceae           | Fusicatenibacter       | NA |\n",
       "| 64 | 87c2912f70537a375ec52d2e37479534 |  200.58614 |  6.831190 | 1.0107731 |  6.758382 | 1.395413e-11 | Vaginal&gt;Sectio | 5.209543e-10 | DESeq2 man. geoMeans (ds2) | Bacteria | Firmicutes       | Bacilli             | Erysipelotrichales | Erysipelatoclostridiaceae | Erysipelatoclostridium | NA |\n",
       "| 65 | 8c3ff6c4c4b125d5e72f5276d57be4d0 | 2298.43780 |  3.157037 | 0.7310758 |  4.318345 | 1.572035e-05 | Vaginal&gt;Sectio | 2.515256e-04 | DESeq2 man. geoMeans (ds2) | Bacteria | Firmicutes_A     | Clostridia          | Oscillospirales    | Ruminococcaceae           | Bittarella             | NA |\n",
       "| 75 | a3f2abd64e462dc86f8242a90d98ee66 |   11.22191 | -6.477411 | 1.8015019 | -3.595562 | 3.236926e-04 | Sectio&gt;Vaginal | 3.295779e-03 | DESeq2 man. geoMeans (ds2) | Bacteria | Firmicutes_A     | Clostridia          | Oscillospirales    | DTU089                    | Eubacterium_R          | NA |\n",
       "| 89 | ca5152dd2313e7fe7d25872f10c57f6d |  191.20206 |  4.399757 | 1.1625159 |  3.784686 | 1.539030e-04 | Vaginal&gt;Sectio | 1.915237e-03 | DESeq2 man. geoMeans (ds2) | Bacteria | Firmicutes       | Bacilli             | Lactobacillales    | Lactobacillaceae          | Lactobacillus_B        | NA |\n",
       "| 93 | d20d3658de331c939f54d8acaed7c4c1 | 5407.94709 |  2.539992 | 0.3676458 |  6.908804 | 4.887583e-12 | Vaginal&gt;Sectio | 2.737047e-10 | DESeq2 man. geoMeans (ds2) | Bacteria | Bacteroidota     | Bacteroidia         | Bacteroidales      | Bacteroidaceae            | Bacteroides            | NA |\n",
       "| 102 | ef5a779b6dab7f364d042205f39beb43 |   30.11445 |  4.112650 | 1.2668198 |  3.246436 | 1.168595e-03 | Vaginal&gt;Sectio | 1.090689e-02 | DESeq2 man. geoMeans (ds2) | Bacteria | Firmicutes_C     | Negativicutes       | Veillonellales     | Dialisteraceae            | Dialister              | NA |\n",
       "| 105 | f476bfba3de5b53f358787c28048d6ea |   10.55600 | -9.522426 | 1.7129281 | -5.559151 | 2.710905e-08 | Sectio&gt;Vaginal | 6.072427e-07 | DESeq2 man. geoMeans (ds2) | Bacteria | Desulfobacterota | Desulfovibrionia    | Desulfovibrionales | Desulfovibrionaceae       | Desulfovibrio          | NA |\n",
       "| 111 | Others                           |  196.32759 | -1.258819 | 0.3141851 | -4.006615 | 6.159501e-05 | Sectio&gt;Vaginal | 8.623302e-04 | DESeq2 man. geoMeans (ds2) | NA       | NA               | NA                  | NA                 | NA                        | NA                     | NA |\n",
       "\n"
      ],
      "text/plain": [
       "    Feature                          baseMean   log2FoldChange lfcSE    \n",
       "4   08b21f8171b35ef001832ba1df9b8fbc 2545.68152 -1.680455      0.4496852\n",
       "6   09efd4982be79756a70f3b739241efda   38.49512 -4.765110      1.6552294\n",
       "10  11d9c9ed1d2d58a9cb0bbcdc93aa3e55  278.82639  8.191674      1.0352716\n",
       "12  1c88ca8aa0ed62fb2fb8bebb8cb25670  194.29160 -3.491361      0.7406899\n",
       "38  57face48ec571894748b66cab7c52d5e   62.57285 -2.732255      0.9714832\n",
       "42  62392dc20bb4fd6c46d3cb038b13cb9e   30.82848 -2.061667      0.6777708\n",
       "50  705da2e88a1aaa0c02b27eab4a642b72   30.93052  9.074052      1.3893145\n",
       "62  8639874b1f9d7eaf752febcf6f7ca9dd   23.79640 -5.049501      1.6083548\n",
       "64  87c2912f70537a375ec52d2e37479534  200.58614  6.831190      1.0107731\n",
       "65  8c3ff6c4c4b125d5e72f5276d57be4d0 2298.43780  3.157037      0.7310758\n",
       "75  a3f2abd64e462dc86f8242a90d98ee66   11.22191 -6.477411      1.8015019\n",
       "89  ca5152dd2313e7fe7d25872f10c57f6d  191.20206  4.399757      1.1625159\n",
       "93  d20d3658de331c939f54d8acaed7c4c1 5407.94709  2.539992      0.3676458\n",
       "102 ef5a779b6dab7f364d042205f39beb43   30.11445  4.112650      1.2668198\n",
       "105 f476bfba3de5b53f358787c28048d6ea   10.55600 -9.522426      1.7129281\n",
       "111 Others                            196.32759 -1.258819      0.3141851\n",
       "    stat      pval         ordering       pval.adj    \n",
       "4   -3.736958 1.862599e-04 Sectio>Vaginal 2.086111e-03\n",
       "6   -2.878821 3.991644e-03 Sectio>Vaginal 2.980427e-02\n",
       "10   7.912584 2.520998e-15 Vaginal>Sectio 2.823517e-13\n",
       "12  -4.713660 2.433065e-06 Sectio>Vaginal 4.541721e-05\n",
       "38  -2.812457 4.916462e-03 Sectio>Vaginal 3.441523e-02\n",
       "42  -3.041835 2.351407e-03 Sectio>Vaginal 1.881125e-02\n",
       "50   6.531316 6.519447e-11 Vaginal>Sectio 1.825445e-09\n",
       "62  -3.139544 1.692109e-03 Sectio>Vaginal 1.457817e-02\n",
       "64   6.758382 1.395413e-11 Vaginal>Sectio 5.209543e-10\n",
       "65   4.318345 1.572035e-05 Vaginal>Sectio 2.515256e-04\n",
       "75  -3.595562 3.236926e-04 Sectio>Vaginal 3.295779e-03\n",
       "89   3.784686 1.539030e-04 Vaginal>Sectio 1.915237e-03\n",
       "93   6.908804 4.887583e-12 Vaginal>Sectio 2.737047e-10\n",
       "102  3.246436 1.168595e-03 Vaginal>Sectio 1.090689e-02\n",
       "105 -5.559151 2.710905e-08 Sectio>Vaginal 6.072427e-07\n",
       "111 -4.006615 6.159501e-05 Sectio>Vaginal 8.623302e-04\n",
       "    Method                     Kingdom  Phylum           Class              \n",
       "4   DESeq2 man. geoMeans (ds2) Bacteria Firmicutes_C     Negativicutes      \n",
       "6   DESeq2 man. geoMeans (ds2) Bacteria Actinobacteriota Actinobacteria     \n",
       "10  DESeq2 man. geoMeans (ds2) Bacteria Firmicutes       Bacilli            \n",
       "12  DESeq2 man. geoMeans (ds2) Bacteria Firmicutes_A     Clostridia         \n",
       "38  DESeq2 man. geoMeans (ds2) Bacteria Bacteroidota     Bacteroidia        \n",
       "42  DESeq2 man. geoMeans (ds2) Bacteria Firmicutes_A     Clostridia         \n",
       "50  DESeq2 man. geoMeans (ds2) Bacteria Proteobacteria   Gammaproteobacteria\n",
       "62  DESeq2 man. geoMeans (ds2) Bacteria Firmicutes_A     Clostridia         \n",
       "64  DESeq2 man. geoMeans (ds2) Bacteria Firmicutes       Bacilli            \n",
       "65  DESeq2 man. geoMeans (ds2) Bacteria Firmicutes_A     Clostridia         \n",
       "75  DESeq2 man. geoMeans (ds2) Bacteria Firmicutes_A     Clostridia         \n",
       "89  DESeq2 man. geoMeans (ds2) Bacteria Firmicutes       Bacilli            \n",
       "93  DESeq2 man. geoMeans (ds2) Bacteria Bacteroidota     Bacteroidia        \n",
       "102 DESeq2 man. geoMeans (ds2) Bacteria Firmicutes_C     Negativicutes      \n",
       "105 DESeq2 man. geoMeans (ds2) Bacteria Desulfobacterota Desulfovibrionia   \n",
       "111 DESeq2 man. geoMeans (ds2) NA       NA               NA                 \n",
       "    Order              Family                    Genus                  Species\n",
       "4   Veillonellales     Veillonellaceae           Veillonella            NA     \n",
       "6   Actinomycetales    Dermabacteraceae          Dermabacter            NA     \n",
       "10  Lactobacillales    Lactobacillaceae          Lactobacillus_H        NA     \n",
       "12  Lachnospirales     Lachnospiraceae           Blautia_A              NA     \n",
       "38  Bacteroidales      Muribaculaceae            Family_Muribaculaceae  NA     \n",
       "42  Lachnospirales     Lachnospiraceae           Family_Lachnospiraceae NA     \n",
       "50  Enterobacterales   Enterobacteriaceae        Morganella             NA     \n",
       "62  Lachnospirales     Lachnospiraceae           Fusicatenibacter       NA     \n",
       "64  Erysipelotrichales Erysipelatoclostridiaceae Erysipelatoclostridium NA     \n",
       "65  Oscillospirales    Ruminococcaceae           Bittarella             NA     \n",
       "75  Oscillospirales    DTU089                    Eubacterium_R          NA     \n",
       "89  Lactobacillales    Lactobacillaceae          Lactobacillus_B        NA     \n",
       "93  Bacteroidales      Bacteroidaceae            Bacteroides            NA     \n",
       "102 Veillonellales     Dialisteraceae            Dialister              NA     \n",
       "105 Desulfovibrionales Desulfovibrionaceae       Desulfovibrio          NA     \n",
       "111 NA                 NA                        NA                     NA     "
      ]
     },
     "metadata": {},
     "output_type": "display_data"
    }
   ],
   "source": [
    "res_covar[res_covar$pval.adj <= 0.05, ]"
   ]
  },
  {
   "cell_type": "markdown",
   "metadata": {},
   "source": [
    "This does not tells at which time points the different genera are significantly associated with mode of delivery. For this, we would subset the data to the different time points, and conduct the analysis separately for each time point."
   ]
  },
  {
   "cell_type": "markdown",
   "metadata": {},
   "source": [
    "## Plotting<a class=\"anchor\" id=\"plot\"></a>\n",
    "A common way to plot results from a differential abundance analysis is the volcano plot. In a volcano plot we plot the p-value against the log2 fold change. One can then color according to for example taxonomy.\n",
    "\n",
    "To make the plot easier to read, we take the log10 of the p-value and reverse it, such that significant taxa have a high value.\n",
    "\n",
    "Let's plot the Delivery results from above:"
   ]
  },
  {
   "cell_type": "code",
   "execution_count": 19,
   "metadata": {},
   "outputs": [
    {
     "data": {
      "image/png": "[encoded data removed]",
      "text/plain": [
       "plot without title"
      ]
     },
     "metadata": {
      "image/png": {
       "height": 420,
       "width": 420
      }
     },
     "output_type": "display_data"
    }
   ],
   "source": [
    "# Plotting package\n",
    "library(ggplot2)\n",
    "\n",
    "# Define plot\n",
    "p <- ggplot(res_covar, aes(x = log2FoldChange, y = -log10(pval.adj))) +\n",
    "    theme_bw() +\n",
    "    geom_point()\n",
    "\n",
    "# View plot\n",
    "p"
   ]
  },
  {
   "cell_type": "markdown",
   "metadata": {},
   "source": [
    "We can add a line to discrimate between significant and non-significant. And we can color by Phylum"
   ]
  },
  {
   "cell_type": "code",
   "execution_count": 20,
   "metadata": {},
   "outputs": [
    {
     "data": {
      "image/png": "[encoded data removed]",
      "text/plain": [
       "plot without title"
      ]
     },
     "metadata": {
      "image/png": {
       "height": 420,
       "width": 420
      }
     },
     "output_type": "display_data"
    }
   ],
   "source": [
    "# Define plot\n",
    "p <- ggplot(res_covar, aes(x = log2FoldChange, y = -log10(pval.adj), color = Phylum)) +\n",
    "    theme_bw() +\n",
    "    geom_point() +\n",
    "    geom_hline(yintercept = -log10(0.05))\n",
    "\n",
    "# View plot\n",
    "p"
   ]
  },
  {
   "cell_type": "markdown",
   "metadata": {},
   "source": [
    "Annotate the significant ones:"
   ]
  },
  {
   "cell_type": "code",
   "execution_count": 21,
   "metadata": {},
   "outputs": [
    {
     "name": "stderr",
     "output_type": "stream",
     "text": [
      "Warning message:\n",
      "\"Removed 1 rows containing missing values (geom_text_repel).\"\n"
     ]
    },
    {
     "data": {
      "image/png": "[encoded data removed]",
      "text/plain": [
       "plot without title"
      ]
     },
     "metadata": {
      "image/png": {
       "height": 420,
       "width": 420
      }
     },
     "output_type": "display_data"
    }
   ],
   "source": [
    "# Annotation package (install first time)\n",
    "# install.packages(\"ggrepel\")\n",
    "library(ggrepel)\n",
    "\n",
    "# Subset only highly significant\n",
    "res_covar_sig <- res_covar[res_covar$pval.adj <= 0.01, ]\n",
    "\n",
    "# Define plot\n",
    "p <- ggplot(res_covar, aes(x = log2FoldChange, y = -log10(pval.adj), color = Phylum)) +\n",
    "    theme_bw() +\n",
    "    geom_point() +\n",
    "    geom_hline(yintercept = -log10(0.05)) +\n",
    "    geom_text_repel(data = res_covar_sig,\n",
    "                    aes(x = log2FoldChange, y = -log10(pval.adj), label = Genus),\n",
    "                    size = 3)\n",
    "\n",
    "# View plot\n",
    "p"
   ]
  }
 ],
 "metadata": {
  "kernelspec": {
   "display_name": "R",
   "language": "R",
   "name": "ir"
  },
  "language_info": {
   "codemirror_mode": "r",
   "file_extension": ".r",
   "mimetype": "text/x-r-source",
   "name": "R",
   "pygments_lexer": "r",
   "version": "4.1.1"
  },
  "toc": {
   "base_numbering": 1,
   "nav_menu": {},
   "number_sections": false,
   "sideBar": true,
   "skip_h1_title": false,
   "title_cell": "Table of Contents",
   "title_sidebar": "Contents",
   "toc_cell": false,
   "toc_position": {},
   "toc_section_display": true,
   "toc_window_display": false
  }
 },
 "nbformat": 4,
 "nbformat_minor": 2
}
